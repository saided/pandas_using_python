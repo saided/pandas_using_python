{
  "nbformat": 4,
  "nbformat_minor": 0,
  "metadata": {
    "colab": {
      "name": "Untitled4.ipynb",
      "provenance": [],
      "authorship_tag": "ABX9TyPhL3tf8qIy2DoiEQdoarx3",
      "include_colab_link": true
    },
    "kernelspec": {
      "name": "python3",
      "display_name": "Python 3"
    }
  },
  "cells": [
    {
      "cell_type": "markdown",
      "metadata": {
        "id": "view-in-github",
        "colab_type": "text"
      },
      "source": [
        "<a href=\"https://colab.research.google.com/github/saided/pandas_using_python/blob/master/Partition_problem.ipynb\" target=\"_parent\"><img src=\"https://colab.research.google.com/assets/colab-badge.svg\" alt=\"Open In Colab\"/></a>"
      ]
    },
    {
      "cell_type": "code",
      "metadata": {
        "id": "pn37JIXnLjVZ",
        "colab_type": "code",
        "colab": {}
      },
      "source": [
        "def partition(l,mid):\n",
        "  #l = [3,2,1,2,1,1]\n",
        "  a = len(l)\n",
        "  print(mid)\n",
        "  #mid = a//2\n",
        "  tot = 0\n",
        "  for j in range(len(l)):\n",
        "    tot+=l[j]\n",
        "  print(tot)\n",
        "  low = 0\n",
        "  high = a-1\n",
        "  sum = 0\n",
        "  for i in range(low,mid):\n",
        "    sum+=l[i]\n",
        "  print(sum)\n",
        "  n=[]\n",
        "  m=[]\n",
        "  if sum == tot/2:\n",
        "    for k in range(low,mid):\n",
        "      n.append(l[k])\n",
        "    print(n)\n",
        "    for h in range(mid,len(l)):\n",
        "      #print(h)\n",
        "      m.append(l[h])\n",
        "    print(m) \n",
        "  if sum > tot/2:\n",
        "    mid = mid -1 \n",
        "    print(mid)\n",
        "    partition(l,mid)\n",
        "\n",
        "\n",
        "\n",
        "l = [3,1,1,2,2,1]\n",
        "mid = len(l)//2\n",
        "print(partition([3,2,1,2,1,1],mid))"
      ],
      "execution_count": 0,
      "outputs": []
    }
  ]
}