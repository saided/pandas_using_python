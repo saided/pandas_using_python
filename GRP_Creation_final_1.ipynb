{
  "nbformat": 4,
  "nbformat_minor": 0,
  "metadata": {
    "colab": {
      "name": "GRP_Creation_final.ipynb",
      "provenance": [],
      "collapsed_sections": [],
      "authorship_tag": "ABX9TyNORfpbdHaiHXNrgkN3Trqs",
      "include_colab_link": true
    },
    "kernelspec": {
      "name": "python3",
      "display_name": "Python 3"
    }
  },
  "cells": [
    {
      "cell_type": "markdown",
      "metadata": {
        "id": "view-in-github",
        "colab_type": "text"
      },
      "source": [
        "<a href=\"https://colab.research.google.com/github/saided/pandas_using_python/blob/master/GRP_Creation_final_1.ipynb\" target=\"_parent\"><img src=\"https://colab.research.google.com/assets/colab-badge.svg\" alt=\"Open In Colab\"/></a>"
      ]
    },
    {
      "cell_type": "code",
      "metadata": {
        "id": "ObrgCSNoJKEq",
        "colab_type": "code",
        "colab": {}
      },
      "source": [
        "import re\n",
        "import requests\n",
        "import xlrd\n",
        "import openpyxl\n",
        "from collections import ChainMap\n",
        "from requests import Timeout"
      ],
      "execution_count": 2,
      "outputs": []
    },
    {
      "cell_type": "code",
      "metadata": {
        "id": "7e7hLBfAXfel",
        "colab_type": "code",
        "colab": {
          "base_uri": "https://localhost:8080/",
          "height": 105
        },
        "outputId": "db616f84-55b1-490b-e4f7-e6a2720853ac"
      },
      "source": [
        "def root_group():\n",
        "    url = \"https://api.cloud.jiosurveillance.com/auth/oauth/token\"\n",
        "    username = input(\"Enter account ID\")\n",
        "    password = input(\"Enter account password\")\n",
        "\n",
        "    payload = 'client_secret=8b078e3496893ae3b9d7ccb83a6befdb&client_id=firmware-upgrade-job&grant_type=password&username={}&password={}'.format(\n",
        "    username, password)\n",
        "    headers = {\n",
        "        'Content-Type': 'application/x-www-form-urlencoded'\n",
        "            }\n",
        "    try:\n",
        "        response = requests.request(\"POST\", url, headers=headers, data=payload, timeout=6)\n",
        "        #print(response.text.encode('utf8'))\n",
        "        #print(response.json())\n",
        "    except: Timeout\n",
        "\n",
        "    r = response.json()\n",
        "    access_token = r['access_token']\n",
        "    token = str(access_token)\n",
        "    #print(token)\n",
        "    own_id = r['owner_id']\n",
        "\n",
        "    url = \"https://api.cloud.jiosurveillance.com/folders?op=FIND\"\n",
        "\n",
        "    payload = \"{\\n\\t\\\"user\\\" : \\\"%s\\\"\\n}\" % (own_id)\n",
        "    headers = {\n",
        "    'Content-Type': 'application/json',\n",
        "    'Authorization': 'Bearer %s' % (token)\n",
        "    }\n",
        "    response = requests.request(\"POST\", url, headers=headers, data=payload, timeout=6)\n",
        "\n",
        "    own_response = response.json()\n",
        "    print(own_response)\n",
        "    b = own_response['result']\n",
        "    c = b['items']\n",
        "    #print(c[0])\n",
        "    #print(len(c))\n",
        "    #print('Total no.of existing groups in the account :',len(c)-1)\n",
        "    mast_grp_id = c[0]['id']\n",
        "    #print(mast_grp_id,type(mast_grp_id))\n",
        "    if len(c)==0:\n",
        "      print('something went wrong')\n",
        "    return(mast_grp_id,own_id,token)\n",
        "\n",
        "print(root_group())  "
      ],
      "execution_count": 4,
      "outputs": [
        {
          "output_type": "stream",
          "text": [
            "Enter account IDrr.test4@gmail.com\n",
            "Enter account passwordJioadmin@123\n",
            "{'success': True, 'result': {'items': [{'id': '801-Z6hTHMk9Ii', 'name': '__root__', 'subfolders': [], 'cameras': [], 'owner_id': '801000012219', 'owner_name': 'rr.test4@gmail.com', 'root': True, 'permissions': ['admin', 'live', 'archive', 'ptz', 'events', 'faces_read', 'faces_add', 'faces_admin'], 'geo': None}]}}\n",
            "('801-Z6hTHMk9Ii', 801000012219, '801-Ub8289477-c584-4a48-8d18-878c6ee72445')\n"
          ],
          "name": "stdout"
        }
      ]
    },
    {
      "cell_type": "code",
      "metadata": {
        "id": "TPv8wlbK7MRa",
        "colab_type": "code",
        "colab": {
          "base_uri": "https://localhost:8080/",
          "height": 105
        },
        "outputId": "8266224d-7594-456e-d0f1-bbd803919529"
      },
      "source": [
        "is_root_grp = list(root_group())\n",
        "print(len(is_root_grp))\n",
        "mast_grp_id = is_root_grp[0]\n",
        "own_id = is_root_grp[1]\n",
        "token = is_root_grp[2]\n",
        "#print(token,type(token))"
      ],
      "execution_count": 47,
      "outputs": [
        {
          "output_type": "stream",
          "text": [
            "Enter account IDrr.test4@gmail.com\n",
            "Enter account passwordJioadmin@123\n",
            "{'success': True, 'result': {'items': [{'id': '801-Z6hTHMk9Ii', 'name': '__root__', 'subfolders': [], 'cameras': [], 'owner_id': '801000012219', 'owner_name': 'rr.test4@gmail.com', 'root': True, 'permissions': ['admin', 'live', 'archive', 'ptz', 'events', 'faces_read', 'faces_add', 'faces_admin'], 'geo': None}]}}\n",
            "3\n"
          ],
          "name": "stdout"
        }
      ]
    },
    {
      "cell_type": "code",
      "metadata": {
        "id": "QFQ7BTqT_FU-",
        "colab_type": "code",
        "colab": {}
      },
      "source": [
        "\n",
        "def create_group(cellvalue,grp_id,token):\n",
        "      #cellvalue1 = list(cellvalue)\n",
        "      #if cellvalue not in cellvalue1:\n",
        "        url = \"https://api.cloud.jiosurveillance.com/folders?op=CREATE\"\n",
        "        payload = '{\\n\\t\\\"parent_folder\\\" : \\\"' + grp_id + '\\\",\\n\\t\\\"name\\\" : \\\"' + cellvalue + \"\\\"\\n}\"\n",
        "        print(payload)\n",
        "        headers = {\n",
        "          'Content-Type': 'application/json',\n",
        "          'Authorization': 'Bearer %s' % token\n",
        "        }\n",
        "\n",
        "        response = requests.request(\"POST\", url, headers=headers, data=payload, timeout=6)\n",
        "        r = response.json()\n",
        "        return r\n",
        "        #cellvalue1.add(cellvalue)\n",
        "\n",
        "\n"
      ],
      "execution_count": 48,
      "outputs": []
    },
    {
      "cell_type": "code",
      "metadata": {
        "id": "FyHZeZwIy8n2",
        "colab_type": "code",
        "colab": {}
      },
      "source": [
        "North=0\n",
        "theFile = openpyxl.load_workbook('/content/Tree structure.xlsx')\n",
        "allSheetNames = theFile.sheetnames\n",
        "#print(allSheetNames)\n",
        "print(\"All sheet names {} \" .format(allSheetNames))\n",
        "for sh in xlrd.open_workbook('/content/Tree structure.xlsx').sheets():\n",
        "  print('Total no of rows',sh.nrows)\n",
        "  print('Total no of columns',sh.ncols)\n",
        "  zone = []\n",
        "  zone_folder = []\n",
        "  northList = []\n",
        "  northtownList = []\n",
        "  jplist = []\n",
        "  iplist = []\n",
        "  state_folder = []\n",
        "  town_folder = []\n",
        "  jp_folder = []\n",
        "  ip_folder = []\n",
        "  zone_id = []\n",
        "  state_id = []\n",
        "  town_id = []\n",
        "  jp_id = []\n",
        "  ip_id = []\n",
        "  i= 0\n",
        "  j=0\n",
        "  k = 0\n",
        "  l=0\n",
        "  m = 0\n",
        "  for row in range(1, sh.nrows):\n",
        "    for col in range(sh.ncols):\n",
        "      mycell = sh.cell(row,col).value\n",
        "      if (len(is_root_grp) !=0 and col==6):\n",
        "        if mycell not in zone:\n",
        "             zone.append(mycell)\n",
        "             print(zone)\n",
        "             zone_folder.append(create_group(mycell,mast_grp_id,token))\n",
        "             zone_id.append(zone_folder[i]['result']['id'])\n",
        "             i+=1\n",
        "        else:\n",
        "           break\n",
        "    \n",
        "    for col in range(1, 7):\n",
        "      mycell = sh.cell(row,col).value\n",
        "      for x in range(len(zone)):\n",
        "          if mycell==zone[x]:\n",
        "            print(x,mycell)\n",
        "            print(row,col)\n",
        "            statecell = sh.cell(row, col+1).value\n",
        "        #statecell.value = str(statecell.value)\n",
        "            if statecell.upper() in [name.upper() for name in northList]:\n",
        "              break\n",
        "            else:\n",
        "              northList.append(statecell)\n",
        "              print(\"NorthList contains following list\" + str(northList))\n",
        "              state_folder.append(create_group(statecell,zone_id[x],token))\n",
        "              print(j)\n",
        "              state_id.append(state_folder[j]['result']['id'])\n",
        "              j+=1\n",
        "    for col in range(0, 9):\n",
        "      mycell = sh.cell(row,col).value\n",
        "      for x in range(len(northList)):\n",
        "          if mycell == northList[x]:\n",
        "            town = sh.cell(row, col+1).value\n",
        "            if town.lower() in [name.lower() for name in northtownList]:\n",
        "              break\n",
        "            else:\n",
        "              northtownList.append(town)\n",
        "              town_folder.append(create_group(town,state_id[x],token))\n",
        "              print(k)\n",
        "              town_id.append(town_folder[k]['result']['id'])\n",
        "              k+=1\n",
        "    for col in range(1, 11):\n",
        "      mycell = sh.cell(row,col).value\n",
        "      for x in range(len(northtownList)):\n",
        "          if mycell ==northtownList[x] :\n",
        "            jp = sh.cell(row,col+2).value\n",
        "            if jp.lower() in [name.lower() for name in jplist]:\n",
        "              break\n",
        "            else:\n",
        "              jplist.append(jp)\n",
        "              jp_folder.append(create_group(jp,town_id[x],token))\n",
        "              jp_id.append(jp_folder[l]['result']['id'])\n",
        "              l+=1\n",
        "   \n",
        "    for col in range(1, 11):\n",
        "      mycell = sh.cell(row,col).value\n",
        "      for x in range(len(jplist)):\n",
        "          if mycell ==jplist[x] :\n",
        "            ip = sh.cell(row,col-9).value\n",
        "            if ip.lower() in [name.lower() for name in iplist]:\n",
        "              break\n",
        "            else:\n",
        "              iplist.append(ip)\n",
        "              ip_folder.append(create_group(ip,jp_id[x],token))\n",
        "              ip_id.append(ip_folder[m]['result']['id'])\n",
        "              m+=1\n",
        "            \n",
        "\n",
        "    \n",
        "    \n",
        "    \n",
        "\n"
      ],
      "execution_count": null,
      "outputs": []
    },
    {
      "cell_type": "code",
      "metadata": {
        "id": "QX7v6WgJbaVN",
        "colab_type": "code",
        "colab": {
          "base_uri": "https://localhost:8080/",
          "height": 122
        },
        "outputId": "3c27468d-701c-44e0-9e4a-4942008d85c9"
      },
      "source": [
        "#print(zone_folder)\n",
        "#zone_id = zone_folder[0]['result']['id']\n",
        "print(zone_id)\n",
        "print(state_folder[2])\n",
        "print(northList)\n",
        "print(len(state_id))\n",
        "print(len(town_id))"
      ],
      "execution_count": 32,
      "outputs": [
        {
          "output_type": "stream",
          "text": [
            "['801-JYoAiuXOQO', '801-Kma9oZDKvW', '801-XyeXGF2Ou9', '801-pngyzrsLoX']\n",
            "{'success': True, 'result': {'id': '801-QAX2zBBKBD', 'name': 'MADHYA PRADESH', 'subfolders': [], 'cameras': [], 'owner_id': '801000012219', 'owner_name': 'rr.test4@gmail.com', 'root': False, 'permissions': ['admin', 'live', 'archive', 'ptz', 'events', 'faces_read', 'faces_add', 'faces_admin'], 'geo': None}}\n",
            "['MAHARASHTRA', 'ORISSA', 'MADHYA PRADESH', 'GUJARAT', 'JAMMU KASHMIR', 'TAMIL NADU', 'ASSAM', 'HARYANA', 'RAJASTHAN', 'UP WEST', 'UTTARAKHAND', 'ANDHRA PRADESH', 'KERALA', 'UP EAST1', 'JHARKHAND']\n",
            "15\n",
            "62\n"
          ],
          "name": "stdout"
        }
      ]
    },
    {
      "cell_type": "code",
      "metadata": {
        "id": "S7_RJ-vmf0M1",
        "colab_type": "code",
        "colab": {
          "base_uri": "https://localhost:8080/",
          "height": 71
        },
        "outputId": "80c172a3-66ae-4cbd-eedc-9f795ed577b7"
      },
      "source": [
        "print(town_folder[26])\n",
        "print(jplist)"
      ],
      "execution_count": 42,
      "outputs": [
        {
          "output_type": "stream",
          "text": [
            "{'success': True, 'result': {'id': '801-XVYCibkPPz', 'name': 'Bhadrak', 'subfolders': [], 'cameras': [], 'owner_id': '801000012219', 'owner_name': 'rr.test4@gmail.com', 'root': False, 'permissions': ['admin', 'live', 'archive', 'ptz', 'events', 'faces_read', 'faces_add', 'faces_admin'], 'geo': None}}\n",
            "['I-MH-KUDL-ENB-9003', 'I-OR-CNDK-ENB-6000', 'I-OR-BETI-ENB-6004', 'I-OR-BLSR-ENB-9005', 'I-OR-RRKL-ENB-6010', 'I-OR-KTPD-ENB-9002', 'I-MP-JBLP-ENB-0002', 'I-GJ-BVLA-ENB-9018', 'I-OR-RRKL-ENB-6015', 'I-OR-RRKL-ENB-6032', 'I-OR-BRRI-ENB-9001', 'I-OR-CNDP-ENB-6002', 'I-OR-JGTP-ENB-6003', 'I-OR-PRDP-ENB-6002', 'I-OR-CCKK-ENB-6030', 'I-OR-GOLT-ENB-9004', 'I-JK-RESI-ENB-0005', 'I-TN-LLGD-ENB-9009', 'I-MP-SHOR-ENB-9011', 'I-AS-RMKS-ENB-9011', 'I-OR-RRKL-ENB-6034', 'I-MP-RTLM-AG1-4400', 'I-MP-GUNA-ENB-9010', 'I-AS-TNSK-ENB-6002', 'I-OR-SNTL-ENB-9005', 'I-OR-RGNP-ENB-9021', 'I-HR-GHAN-ENB-9019', 'I-RJ-PNDW-ENB-9015', 'I-OR-KNDP-ENB-9003', 'I-OR-RGNP-ENB-6005', 'I-OR-SUKN-ENB-9004', 'I-RJ-PNDW-ENB-9023', 'I-OR-CCKK-ENB-6034', 'I-OR-GDJT-ENB-9010', 'I-OR-NKND-ENB-9011', 'I-UW-MWNA-ENB-9021', 'I-TN-VPPM-ENB-0026', 'I-UW-MZGR-ENB-9034', 'I-UW-KHTL-ENB-9003', 'I-UW-MZGR-ENB-9032', 'I-UW-KHTL-ENB-9001', 'I-UW-PRQZ-ENB-9001', 'I-UW-MWNA-ENB-9019', 'I-UW-DBND-ENB-9022', 'I-UW-DBND-ENB-9024', 'I-UW-ALGR-ENB-6057', 'I-UW-DBND-ENB-9025', 'I-UW-MZGR-ENB-9030', 'I-UW-HPUR-ENB-0029', 'I-UW-SRPR-ENB-9007', 'I-UW-MZGR-ENB-9033', 'I-UW-HPUR-ENB-9008', 'I-UW-DBND-ENB-9023', 'I-UW-SRPR-ENB-0131', 'I-UW-MGAR-ENB-0016', 'I-UW-BLDR-ENB-9013', 'I-UW-SRPR-ENB-9015', 'I-UW-HPUR-ENB-9009', 'I-UW-SRPR-ENB-0149', 'I-UW-BJNR-ENB-9012', 'I-UW-SRPR-ENB-9016', 'I-UW-SRPR-ENB-0147', 'I-UW-BJNR-ENB-9014', 'I-UW-SRPR-ENB-9014', 'I-UW-BJNR-ENB-9013', 'I-UW-BJNR-ENB-0011', 'I-UW-BJNR-ENB-9011', 'I-UW-SRPR-ENB-0074', 'I-UW-SRPR-ENB-0155', 'I-UW-SRPR-ENB-0151', 'I-UW-NJBB-ENB-9014', 'I-UW-SRPR-ENB-9018', 'I-UW-SRPR-ENB-9013', 'I-UW-NJBB-ENB-9007', 'I-UW-NJBB-ENB-9018', 'I-HR-JULN-ENB-9005', 'I-UW-NKUR-ENB-9014', 'I-UW-AMRH-ENB-9011', 'I-UW-AMRH-ENB-9008', 'I-UW-SRPR-ENB-0175', 'I-UW-DAPR-ENB-9019', 'I-UW-JNST-ENB-9044', 'I-UW-AMRH-ENB-9021', 'I-UW-HSPR-ENB-9011', 'I-UW-DAPR-ENB-9027', 'I-UW-AMRH-ENB-9023', 'I-UW-AMRH-ENB-9020', 'I-UW-AMRH-ENB-9024', 'I-UW-BJNR-ENB-9009', 'I-UW-AMRH-ENB-9022', 'I-UW-NJBB-ENB-9010', 'I-UW-NKUR-ENB-9017', 'I-UW-JNST-ENB-9026', 'I-UW-CKST-ENB-9001', 'I-UW-HSPR-ENB-9010', 'I-UW-HSPR-ENB-0006', 'I-UW-HSPR-ENB-9012', 'I-UW-MDBD-ENB-9012', 'I-UW-BLRI-ENB-9011', 'I-UW-MZGR-ENB-9035', 'I-UW-MLAK-ENB-9006', 'I-UW-RMPR-ENB-9012', 'I-UW-MDBD-ENB-9013', 'I-UW-MLAK-ENB-9007', 'I-UW-SMLI-ENB-0019', 'I-UW-SMLI-ENB-0002', 'I-UW-CNDS-ENB-9009', 'I-UW-KIRN-ENB-9019', 'I-UW-KIRN-ENB-9011', 'I-UW-MIRG-ENB-9008', 'I-UW-MLAK-ENB-9004', 'I-UW-JNST-ENB-9023', 'I-UW-FDPR-ENB-9010', 'I-UW-FDPR-ENB-9004', 'I-UW-FDPR-ENB-9011', 'I-UW-BRLL-ENB-0216', 'I-UW-FDPR-ENB-9006', 'I-UW-BRLL-ENB-9009', 'I-UW-RMMH-ENB-9008', 'I-UW-NWGL-ENB-9028', 'I-UW-PLBT-ENB-9008', 'I-UW-NKUR-ENB-6008', 'I-UW-BRLL-ENB-0277', 'I-UW-NKUR-ENB-9052', 'I-UW-BRLL-ENB-0214', 'I-UW-SMLI-ENB-6013', 'I-UW-SRPR-ENB-0146', 'I-UW-KHTL-ENB-9004', 'I-UW-MIRG-ENB-9005', 'I-UW-PLBT-ENB-9009', 'I-UW-ANLA-ENB-9027', 'I-UW-PLBT-ENB-9011', 'I-UW-DBND-ENB-6000', 'I-UW-GUNR-ENB-9007', 'I-UW-GUNR-ENB-9011', 'I-UW-KSPR-ENB-0033', 'I-UW-SRPR-ENB-9006', 'I-UW-SMLI-ENB-6014', 'I-UW-BDNA-ENB-6011', 'I-UW-SHSN-ENB-9017', 'I-UW-JALB-ENB-6001', 'I-UW-BDNA-ENB-9034', 'I-UW-ALGR-ENB-0134', 'I-UW-SMLI-ENB-6030', 'I-UW-GBNA-ENB-9010', 'I-UW-CATA-ENB-9003', 'I-UW-MTHR-ENB-9027', 'I-UW-MDBD-ENB-0123', 'I-UW-KHRJ-ENB-9006', 'I-UW-NGIN-ENB-6006', 'I-AP-CRAD-ENB-0002', 'I-TN-PLNI-ENB-0011', 'I-OR-BLUG-ENB-9014', 'I-UW-NGIN-ENB-9016', 'I-UW-GTWR-ENB-9008', 'I-UW-MRUT-ENB-0395', 'I-UW-BJNR-ENB-9084', 'I-RJ-DENA-ENB-9013', 'I-OR-SOLA-ENB-9003', 'I-MP-DERI-ENB-9005', 'I-RJ-JAAL-ENB-9010', 'I-HR-CHKA-ENB-9012', 'I-OR-JRPO-ENB-9005', 'I-GJ-SAVL-ENB-9020', 'I-KL-SRNU-ENB-9003', 'I-UW-KHRJ-ENB-9066', 'I-TN-STTU-ENB-6001', 'I-RJ-NGUR-ENB-9017', 'I-KL-KOCH-ENB-6054', 'I-UE-SDHL-ENB-9007', 'I-UW-MRUT-ENB-0508', 'I-HR-NRWN-ENB-9040', 'admin', 'I-BR-CKUL-ENB-9002', 'I-BR-CKUL-ENB-9005', 'I-RJ-DENA-ENB-9008', 'I-RJ-JPUR-ENB-6003', 'I-RJ-BSSI-ENB-9008', 'I-RJ-LUNI-ENB-9018', 'I-RJ-BSSI-ENB-9022', 'I-RJ-BRPR-ENB-9015', 'I-RJ-THZI-ENB-9005', 'I-RJ-KSGR-ENB-0014', 'I-RJ-DLPR-ENB-9006', 'I-RJ-DLPR-ENB-9004', 'I-RJ-DLPR-ENB-9003', 'I-RJ-BHLR-ENB-9006', 'I-RJ-PHLS-ENB-9020', 'I-RJ-DENA-ENB-9009', 'I-RJ-LDNU-ENB-9007', 'I-RJ-BHLR-ENB-9007']\n"
          ],
          "name": "stdout"
        }
      ]
    }
  ]
}