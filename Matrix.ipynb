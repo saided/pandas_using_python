{
  "nbformat": 4,
  "nbformat_minor": 0,
  "metadata": {
    "colab": {
      "name": "Untitled9.ipynb",
      "provenance": [],
      "authorship_tag": "ABX9TyOWqe7SWhL2eQEuvUpmqjkM",
      "include_colab_link": true
    },
    "kernelspec": {
      "name": "python3",
      "display_name": "Python 3"
    }
  },
  "cells": [
    {
      "cell_type": "markdown",
      "metadata": {
        "id": "view-in-github",
        "colab_type": "text"
      },
      "source": [
        "<a href=\"https://colab.research.google.com/github/saided/pandas_using_python/blob/master/Matrix.ipynb\" target=\"_parent\"><img src=\"https://colab.research.google.com/assets/colab-badge.svg\" alt=\"Open In Colab\"/></a>"
      ]
    },
    {
      "cell_type": "code",
      "metadata": {
        "id": "D-cCyz0LI_rf",
        "colab_type": "code",
        "colab": {
          "base_uri": "https://localhost:8080/",
          "height": 136
        },
        "outputId": "a11ef94b-7e2e-4045-adcf-2fa662052fb0"
      },
      "source": [
        "def some(prompt):\n",
        "  home=[]\n",
        "  away=[]\n",
        "  teams=[]\n",
        "  for i in range(5): \n",
        "    lst = input(prompt)\n",
        "    l = lst.split()\n",
        "    del(l[2])\n",
        "    home.append(l[0])\n",
        "    hg = int(l[1])\n",
        "    ag = int(l[2])\n",
        "    away.append(l[3])\n",
        "    if home not in teams:\n",
        "      teams.append(home)\n",
        "    if away not in teams:\n",
        "      teams.append(away)\n",
        "\n",
        "  print(teams)\n",
        "#def points(hg,ag):\n",
        "  hp=0\n",
        "  ap=0\n",
        "  if hg>ag:\n",
        "      hp+=3\n",
        "      home.append(hp)\n",
        "  elif ag>hg:\n",
        "      ap+=3\n",
        "      away.append(ap)\n",
        "  elif ag==hg:\n",
        "      ap+=1\n",
        "      away.append(ap)\n",
        "      hp+=1\n",
        "      home.append(hp)\n",
        "  print(home,away)\n",
        "def goal_difference(home):\n",
        "  gd_home = hg-ag\n",
        "  gd_away = ag-hg\n",
        "\n",
        "\n",
        "\n",
        "some(\"Enter input\")"
      ],
      "execution_count": 25,
      "outputs": [
        {
          "output_type": "stream",
          "text": [
            "Enter inputmanutd 8 vs. 2 arsenal\n",
            "Enter inputlyon 1 vs. 2 manutd\n",
            "Enter inputfcbarca 0 vs. 0 lyon\n",
            "Enter inputfcbarca 5 vs. 1 arsenal\n",
            "Enter inputmanutd 3 vs. 1 fcbarca\n",
            "[['manutd', 'lyon', 'fcbarca', 'fcbarca', 'manutd'], ['arsenal', 'manutd', 'lyon', 'arsenal', 'fcbarca']]\n",
            "['manutd', 'lyon', 'fcbarca', 'fcbarca', 'manutd', 3] ['arsenal', 'manutd', 'lyon', 'arsenal', 'fcbarca']\n"
          ],
          "name": "stdout"
        }
      ]
    },
    {
      "cell_type": "code",
      "metadata": {
        "id": "vVHtkNv1cB7d",
        "colab_type": "code",
        "colab": {
          "base_uri": "https://localhost:8080/",
          "height": 34
        },
        "outputId": "24938668-b0ad-4900-ac7c-b27c6333c8fb"
      },
      "source": [
        "def square_matrix_power(A):\n",
        "  M=[]\n",
        "  for r in A:\n",
        "    m=[]\n",
        "  #print(r)\n",
        "    for j in range(3):\n",
        "      c= []\n",
        "      for row in A:\n",
        "      #print('row element is:',row[j])\n",
        "        c.append(row[j])\n",
        "        sum=0\n",
        "      for k in range(3):\n",
        "        sum+= (r[k]*c[k])\n",
        "      m.append(sum)\n",
        "    #print(m)\n",
        "    M.append(m)\n",
        "  print('Multiplication of the matrix is :',M)\n",
        "    #print('sum is:',sum)\n",
        "#print(M)\n",
        "\n",
        "A = [\n",
        "     [1,0,0],\n",
        "     [0,1,0],\n",
        "     [0,0,1]\n",
        "]\n",
        "\n",
        "square_matrix_power(A)"
      ],
      "execution_count": 28,
      "outputs": [
        {
          "output_type": "stream",
          "text": [
            "Multiplication of the matrix is : [[1, 0, 0], [0, 1, 0], [0, 0, 1]]\n"
          ],
          "name": "stdout"
        }
      ]
    }
  ]
}