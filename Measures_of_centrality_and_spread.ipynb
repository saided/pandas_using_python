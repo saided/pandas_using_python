{
  "nbformat": 4,
  "nbformat_minor": 0,
  "metadata": {
    "colab": {
      "name": "Untitled23.ipynb",
      "provenance": [],
      "authorship_tag": "ABX9TyPdDAlISssYUunI/pE19zr5",
      "include_colab_link": true
    },
    "kernelspec": {
      "name": "python3",
      "display_name": "Python 3"
    }
  },
  "cells": [
    {
      "cell_type": "markdown",
      "metadata": {
        "id": "view-in-github",
        "colab_type": "text"
      },
      "source": [
        "<a href=\"https://colab.research.google.com/github/saided/pandas_using_python/blob/master/Measures_of_centrality_and_spread.ipynb\" target=\"_parent\"><img src=\"https://colab.research.google.com/assets/colab-badge.svg\" alt=\"Open In Colab\"/></a>"
      ]
    },
    {
      "cell_type": "markdown",
      "metadata": {
        "id": "hh9B7LL9FPjs",
        "colab_type": "text"
      },
      "source": [
        "# Mean,Median,Variance and Standard Deviation"
      ]
    },
    {
      "cell_type": "code",
      "metadata": {
        "id": "pUNHGhcTxQHN",
        "colab_type": "code",
        "colab": {
          "base_uri": "https://localhost:8080/",
          "height": 119
        },
        "outputId": "bcf88300-657c-479a-c6a0-faceaa3abbb9"
      },
      "source": [
        "import math\n",
        "l1 = [ 11,13,14,17,19,20,27,29,29,30,31,34 ]\n",
        "l = sorted(l1)\n",
        "print(l)\n",
        "length = len(l)\n",
        "print(length)\n",
        "mean = sum(l)/length\n",
        "print('Mean :',mean)\n",
        "if length%2 != 0:\n",
        "  i = int((length+1)/2)\n",
        "  median = l[i-1]\n",
        "  print('Median :',median)\n",
        "else :\n",
        "  i = int(length/2)\n",
        "  j = i+1\n",
        "  median = (l[i-1]+l[j-1])/2\n",
        "  print('Median :',median)\n",
        "\n",
        "#Variance\n",
        "var = 0\n",
        "for  i in range(length):\n",
        "  var+= (l[i]-mean)**2\n",
        "variance = var / (length)\n",
        "print('variance :',variance)\n",
        "sd = math.sqrt(variance)\n",
        "print('Standard deviation :',sd)  "
      ],
      "execution_count": 31,
      "outputs": [
        {
          "output_type": "stream",
          "text": [
            "[11, 13, 14, 17, 19, 20, 27, 29, 29, 30, 31, 34]\n",
            "12\n",
            "Mean : 22.833333333333332\n",
            "Median : 23.5\n",
            "variance : 58.97222222222222\n",
            "Standard deviation : 7.679337355672182\n"
          ],
          "name": "stdout"
        }
      ]
    },
    {
      "cell_type": "markdown",
      "metadata": {
        "id": "WEjiRm2DGPxD",
        "colab_type": "text"
      },
      "source": [
        "#For sample "
      ]
    },
    {
      "cell_type": "code",
      "metadata": {
        "colab_type": "code",
        "outputId": "5cc251fd-a5a9-4318-af22-c76a9417a1c3",
        "id": "nEPXKhQAGINv",
        "colab": {
          "base_uri": "https://localhost:8080/",
          "height": 119
        }
      },
      "source": [
        "import math\n",
        "l1 = [6, 17, 19, 21, 23, 24, 26, 27, 29, 31, 33, 58]\n",
        "l = sorted(l1)\n",
        "print(l)\n",
        "length = len(l)\n",
        "print(length)\n",
        "mean = sum(l)/length\n",
        "print('Mean :',mean)\n",
        "if length%2 != 0:\n",
        "  i = int((length+1)/2)\n",
        "  median = l[i-1]\n",
        "  print('Median :',median)\n",
        "else :\n",
        "  i = int(length/2)\n",
        "  j = i+1\n",
        "  median = (l[i-1]+l[j-1])/2\n",
        "  print('Median :',median)\n",
        "\n",
        "#Variance\n",
        "var = 0\n",
        "for  i in range(length):\n",
        "  var+= (l[i]-mean)**2\n",
        "variance = var / (length-1)\n",
        "print('variance :',variance)\n",
        "sd = math.sqrt(variance)\n",
        "print('Standard deviation :',sd)  "
      ],
      "execution_count": 55,
      "outputs": [
        {
          "output_type": "stream",
          "text": [
            "[6, 17, 19, 21, 23, 24, 26, 27, 29, 31, 33, 58]\n",
            "12\n",
            "Mean : 26.166666666666668\n",
            "Median : 25.0\n",
            "variance : 152.33333333333337\n",
            "Standard deviation : 12.342339054382414\n"
          ],
          "name": "stdout"
        }
      ]
    },
    {
      "cell_type": "markdown",
      "metadata": {
        "id": "3bDmxJl5FEEo",
        "colab_type": "text"
      },
      "source": [
        "# Percentile Rank Calculation"
      ]
    },
    {
      "cell_type": "code",
      "metadata": {
        "id": "37x5jbUY_lHW",
        "colab_type": "code",
        "colab": {
          "base_uri": "https://localhost:8080/",
          "height": 51
        },
        "outputId": "ea6f800b-2fb4-428d-86b6-c3570d7c20c0"
      },
      "source": [
        "l = [ 11,31,13,29,14,17,34,19,20,30,27,29 ]\n",
        "p =29 \n",
        "tot = 0\n",
        "same = 0\n",
        "for i in range(len(l)):\n",
        "  if l[i]<p:\n",
        "    #print(l[i])\n",
        "    tot+=1\n",
        "  elif l[i]==p:\n",
        "    same+=1\n",
        "print(tot,same)\n",
        "prs  = (tot + (0.5*same))/(len(l))\n",
        "print(prs*100)\n"
      ],
      "execution_count": 29,
      "outputs": [
        {
          "output_type": "stream",
          "text": [
            "7 2\n",
            "66.66666666666666\n"
          ],
          "name": "stdout"
        }
      ]
    },
    {
      "cell_type": "markdown",
      "metadata": {
        "id": "a3kiIrPnE9Oh",
        "colab_type": "text"
      },
      "source": [
        "# Percentile Calculation"
      ]
    },
    {
      "cell_type": "code",
      "metadata": {
        "id": "G19TEM7UCPQE",
        "colab_type": "code",
        "colab": {
          "base_uri": "https://localhost:8080/",
          "height": 102
        },
        "outputId": "8f6b4a92-b945-4f44-8748-e3591b7f2f88"
      },
      "source": [
        "l1 = [ 11,13,14,17,19,20,27,29,29,30,31,34 ]\n",
        "l = sorted(l1)\n",
        "n = len(l1)\n",
        "#p = 50\n",
        "p = int(input('Enter the percentile to be calculated :'))\n",
        "Lp = (p/100)*(n+1)\n",
        "print(Lp)\n",
        "i = int(Lp)\n",
        "print(i)\n",
        "f = Lp%i\n",
        "print(f)\n",
        "Yp = l[i-1] + (f*(l[i]-l[i-1]))\n",
        "print(Yp)"
      ],
      "execution_count": 53,
      "outputs": [
        {
          "output_type": "stream",
          "text": [
            "Enter the percentile to be calculated :90\n",
            "11.700000000000001\n",
            "11\n",
            "0.7000000000000011\n",
            "33.1\n"
          ],
          "name": "stdout"
        }
      ]
    },
    {
      "cell_type": "code",
      "metadata": {
        "id": "W_a7S9kxC0LL",
        "colab_type": "code",
        "colab": {
          "base_uri": "https://localhost:8080/",
          "height": 34
        },
        "outputId": "48a2a6a1-7c3d-48ec-d2a7-cad092d9972c"
      },
      "source": [
        "x = 56.005\n",
        "a= x%int(x)\n",
        "print(a)"
      ],
      "execution_count": 52,
      "outputs": [
        {
          "output_type": "stream",
          "text": [
            "0.005000000000002558\n"
          ],
          "name": "stdout"
        }
      ]
    }
  ]
}