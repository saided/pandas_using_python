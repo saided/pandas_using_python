{
  "nbformat": 4,
  "nbformat_minor": 0,
  "metadata": {
    "colab": {
      "name": "Untitled2.ipynb",
      "provenance": [],
      "collapsed_sections": [
        "6q-mtY1oUmte"
      ],
      "authorship_tag": "ABX9TyNfRGIRlWXZ/k8uNV+upn5Y",
      "include_colab_link": true
    },
    "kernelspec": {
      "name": "python3",
      "display_name": "Python 3"
    }
  },
  "cells": [
    {
      "cell_type": "markdown",
      "metadata": {
        "id": "view-in-github",
        "colab_type": "text"
      },
      "source": [
        "<a href=\"https://colab.research.google.com/github/saided/pandas_using_python/blob/master/FactorialPproblems.ipynb\" target=\"_parent\"><img src=\"https://colab.research.google.com/assets/colab-badge.svg\" alt=\"Open In Colab\"/></a>"
      ]
    },
    {
      "cell_type": "code",
      "metadata": {
        "id": "xwofCLpcS4ij",
        "colab_type": "code",
        "colab": {}
      },
      "source": [
        ""
      ],
      "execution_count": 0,
      "outputs": []
    },
    {
      "cell_type": "markdown",
      "metadata": {
        "id": "6q-mtY1oUmte",
        "colab_type": "text"
      },
      "source": [
        "# Factorial using Iteration\n"
      ]
    },
    {
      "cell_type": "code",
      "metadata": {
        "id": "hXvtNiCTUrLf",
        "colab_type": "code",
        "colab": {
          "base_uri": "https://localhost:8080/",
          "height": 71
        },
        "outputId": "d5d4634f-8f24-4b4a-9fed-4ed0996151fa"
      },
      "source": [
        "number = int(input('Enter the number :'))\n",
        "fact = 1\n",
        "if number == 0:\n",
        "  print('factorial is',fact)\n",
        "else:\n",
        "  while(number>=1):\n",
        "    fact = fact * number\n",
        "    number = number - 1\n",
        "  print('factorial is ',fact)\n"
      ],
      "execution_count": 6,
      "outputs": [
        {
          "output_type": "stream",
          "text": [
            "Enter the number :100\n",
            "factorial is  93326215443944152681699238856266700490715968264381621468592963895217599993229915608941463976156518286253697920827223758251185210916864000000000000000000000000\n"
          ],
          "name": "stdout"
        }
      ]
    },
    {
      "cell_type": "markdown",
      "metadata": {
        "id": "euwljb1XUlfO",
        "colab_type": "text"
      },
      "source": [
        ""
      ]
    },
    {
      "cell_type": "markdown",
      "metadata": {
        "id": "bzOna39xV3NV",
        "colab_type": "text"
      },
      "source": [
        "# Factorial using Recursion"
      ]
    },
    {
      "cell_type": "code",
      "metadata": {
        "id": "bvvv8b5PV61r",
        "colab_type": "code",
        "colab": {
          "base_uri": "https://localhost:8080/",
          "height": 153
        },
        "outputId": "21c5f3ba-f37e-44b7-dce3-338c9e0569cd"
      },
      "source": [
        "def factorial(number):\n",
        "  fact = 1\n",
        "  if number == 0:\n",
        "    return fact\n",
        "  elif number >=1:\n",
        "    return number *factorial(number-1)\n",
        "#print(factorial(5))\n",
        "def compute(x,n):\n",
        "  return (x**n)/(factorial(n))\n",
        "\n",
        "#x = float(input('Enter some float number:'))\n",
        "#n = int(input('Enter some integer :'))\n",
        "#print(compute(x,n))\n",
        "\n",
        "def comp_new(N,x):\n",
        "  sum = 1\n",
        "  while N >0:\n",
        "    for n in range(1,N+1):\n",
        "      sum+= compute(x,n)\n",
        "    return sum\n",
        "#N = int(input('Enter the range :'))\n",
        "p = float(input('Enter the flaot value of p :'))\n",
        "q = float(input('Enter the flaot value of q :'))\n",
        "a = comp_new(100,p)\n",
        "print(a)\n",
        "#q = float(input('Enter the flaot value of q :'))\n",
        "b = comp_new(100,q)\n",
        "print(b)\n",
        "v1 = a*b\n",
        "print(v1)\n",
        "c = int(p+q)\n",
        "print(c)\n",
        "v2 = comp_new(c,100)\n",
        "print(v2)\n",
        "print(v1-v2)"
      ],
      "execution_count": 49,
      "outputs": [
        {
          "output_type": "stream",
          "text": [
            "Enter the flaot value of p :5\n",
            "Enter the flaot value of q :5\n",
            "148.41315910257657\n",
            "148.41315910257657\n",
            "22026.465794806707\n",
            "10\n",
            "30582384849898.18\n",
            "-30582384827871.715\n"
          ],
          "name": "stdout"
        }
      ]
    }
  ]
}