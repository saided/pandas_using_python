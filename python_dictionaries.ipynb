{
  "nbformat": 4,
  "nbformat_minor": 0,
  "metadata": {
    "colab": {
      "name": "Untitled16.ipynb",
      "provenance": [],
      "authorship_tag": "ABX9TyMRoykGKxxikKSMsoOftRwm",
      "include_colab_link": true
    },
    "kernelspec": {
      "name": "python3",
      "display_name": "Python 3"
    }
  },
  "cells": [
    {
      "cell_type": "markdown",
      "metadata": {
        "id": "view-in-github",
        "colab_type": "text"
      },
      "source": [
        "<a href=\"https://colab.research.google.com/github/saided/pandas_using_python/blob/master/python_dictionaries.ipynb\" target=\"_parent\"><img src=\"https://colab.research.google.com/assets/colab-badge.svg\" alt=\"Open In Colab\"/></a>"
      ]
    },
    {
      "cell_type": "code",
      "metadata": {
        "id": "NeX33HwZEowJ",
        "colab_type": "code",
        "outputId": "7e2b12be-efd8-4ecb-a88f-bc86aba895ad",
        "colab": {
          "base_uri": "https://localhost:8080/",
          "height": 51
        }
      },
      "source": [
        "sampleDict = { \n",
        "   \"class\":{ \n",
        "      \"student\":{ \n",
        "         \"name\":\"Mike\",\n",
        "         \"marks\":{ \n",
        "            \"physics\":70,\n",
        "            \"history\":80\n",
        "         }\n",
        "      }\n",
        "   }\n",
        "}\n",
        "print(sampleDict['class']['student']['marks']['history'])\n",
        "print(sampleDict.get('class'))"
      ],
      "execution_count": 0,
      "outputs": [
        {
          "output_type": "stream",
          "text": [
            "80\n",
            "{'student': {'name': 'Mike', 'marks': {'physics': 70, 'history': 80}}}\n"
          ],
          "name": "stdout"
        }
      ]
    },
    {
      "cell_type": "code",
      "metadata": {
        "id": "krJ-g9tBFOXK",
        "colab_type": "code",
        "outputId": "460e0cb1-1e88-4c22-9e16-01e022e009be",
        "colab": {
          "base_uri": "https://localhost:8080/",
          "height": 54
        }
      },
      "source": [
        "employees = ['Kelly', 'Emma', 'John']\n",
        "defaults = {\"designation\": 'Application Developer', \"salary\": 8000}\n",
        "\n",
        "resDict = dict.fromkeys(employees, defaults)\n",
        "print(resDict)"
      ],
      "execution_count": 0,
      "outputs": [
        {
          "output_type": "stream",
          "text": [
            "{'Kelly': {'designation': 'Application Developer', 'salary': 8000}, 'Emma': {'designation': 'Application Developer', 'salary': 8000}, 'John': {'designation': 'Application Developer', 'salary': 8000}}\n"
          ],
          "name": "stdout"
        }
      ]
    },
    {
      "cell_type": "code",
      "metadata": {
        "id": "Z1YTQR_CFWJY",
        "colab_type": "code",
        "outputId": "db09a05d-bfc9-4da7-97d7-f1ca340dc368",
        "colab": {
          "base_uri": "https://localhost:8080/",
          "height": 51
        }
      },
      "source": [
        "sampleDict = {\n",
        "  \"name\": \"Kelly\",\n",
        "  \"age\":25,\n",
        "  \"salary\": 8000,\n",
        "  \"city\": \"New york\"\n",
        "  \n",
        "}\n",
        "keys = ['name','salary']\n",
        "newdict = {\n",
        "    k : sampleDict[k] for k in keys\n",
        "}\n",
        "print(newdict)\n",
        "keystoremove = ['name','salary']\n",
        "for k in keystoremove:\n",
        "  del(sampleDict[k])\n",
        "print(sampleDict)"
      ],
      "execution_count": 0,
      "outputs": [
        {
          "output_type": "stream",
          "text": [
            "{'name': 'Kelly', 'salary': 8000}\n",
            "{'age': 25, 'city': 'New york'}\n"
          ],
          "name": "stdout"
        }
      ]
    },
    {
      "cell_type": "code",
      "metadata": {
        "id": "Jf0bR9BXHGWU",
        "colab_type": "code",
        "outputId": "e65f99f5-3829-47f6-d5ff-a1557f6ea956",
        "colab": {
          "base_uri": "https://localhost:8080/",
          "height": 34
        }
      },
      "source": [
        "sampleDict = {'a': 100, 'b': 200, 'c': 300}\n",
        "#check if value 200 exists in the dictionary\n",
        "for keys in sampleDict:\n",
        "  #print(keys)\n",
        "  if sampleDict[keys]== 200:\n",
        "    print(keys,'Yes')"
      ],
      "execution_count": 0,
      "outputs": [
        {
          "output_type": "stream",
          "text": [
            "b Yes\n"
          ],
          "name": "stdout"
        }
      ]
    },
    {
      "cell_type": "code",
      "metadata": {
        "id": "RFkCaw2BGMSG",
        "colab_type": "code",
        "outputId": "2f2dba8b-0dce-4827-db01-65602259026e",
        "colab": {
          "base_uri": "https://localhost:8080/",
          "height": 68
        }
      },
      "source": [
        "sampleDict = {\n",
        "  \"name\": \"Kelly\",\n",
        "  \"age\":25,\n",
        "  \"salary\": 8000,\n",
        "  \"city\": \"New york\"\n",
        "}\n",
        "# Rename key city to location\n",
        "sampleDict['location']=sampleDict.pop('city')\n",
        "print(sampleDict)\n",
        "#Pop() method is used to return and delete the value of the key specified.\n",
        "pop_ele = sampleDict.pop('age')\n",
        "print('the value of the  removed element is : '  + str(pop_ele))\n",
        "print(sampleDict)"
      ],
      "execution_count": 0,
      "outputs": [
        {
          "output_type": "stream",
          "text": [
            "{'name': 'Kelly', 'age': 25, 'salary': 8000, 'location': 'New york'}\n",
            "the value of the  removed element is : 25\n",
            "{'name': 'Kelly', 'salary': 8000, 'location': 'New york'}\n"
          ],
          "name": "stdout"
        }
      ]
    },
    {
      "cell_type": "code",
      "metadata": {
        "id": "y3jlqEAtIxi0",
        "colab_type": "code",
        "outputId": "9d5aeed2-acdf-46b1-87f0-649a31bbb858",
        "colab": {
          "base_uri": "https://localhost:8080/",
          "height": 51
        }
      },
      "source": [
        "sampleDict = {\n",
        "  'Physics': 82,\n",
        "  'Math': 65,\n",
        "  'history': 75\n",
        "}\n",
        "a = min(sampleDict[k] for k in sampleDict)\n",
        "print(a)\n",
        "if 'Math' in sampleDict.keys():\n",
        "  print('True')"
      ],
      "execution_count": 0,
      "outputs": [
        {
          "output_type": "stream",
          "text": [
            "65\n",
            "True\n"
          ],
          "name": "stdout"
        }
      ]
    },
    {
      "cell_type": "code",
      "metadata": {
        "id": "MUU22OvgJGry",
        "colab_type": "code",
        "outputId": "e34efa82-0a78-407a-bcac-309c3ee8af82",
        "colab": {
          "base_uri": "https://localhost:8080/",
          "height": 34
        }
      },
      "source": [
        "sampleDict = {\n",
        "     'emp1': {'name': 'Jhon', 'salary': 7500},\n",
        "     'emp2': {'name': 'Emma', 'salary': 8000},\n",
        "     'emp3': {'name': 'Brad', 'salary': 6500}\n",
        "}\n",
        "#Change Brad’s salary to 8500\n",
        "sampleDict['emp3']['salary']=8500\n",
        "print(sampleDict)"
      ],
      "execution_count": 0,
      "outputs": [
        {
          "output_type": "stream",
          "text": [
            "{'emp1': {'name': 'Jhon', 'salary': 7500}, 'emp2': {'name': 'Emma', 'salary': 8000}, 'emp3': {'name': 'Brad', 'salary': 8500}}\n"
          ],
          "name": "stdout"
        }
      ]
    },
    {
      "cell_type": "markdown",
      "metadata": {
        "id": "bFpUmljtJf6q",
        "colab_type": "text"
      },
      "source": [
        "#Merging two dictionaries"
      ]
    },
    {
      "cell_type": "code",
      "metadata": {
        "id": "WprPzAS0Jixd",
        "colab_type": "code",
        "outputId": "2cc39fd6-7876-44ee-9525-535e4e2adc3b",
        "colab": {
          "base_uri": "https://localhost:8080/",
          "height": 51
        }
      },
      "source": [
        "dict1 = {'Ten': 10, 'Twenty': 20, 'Thirty': 30}\n",
        "dict2 = {'Thirty': 30, 'Fourty': 40, 'Fifty': 50}\n",
        "dict3 = {**dict1,**dict2}\n",
        "print(dict3)\n",
        "print(dict3.get('Ten'))"
      ],
      "execution_count": 0,
      "outputs": [
        {
          "output_type": "stream",
          "text": [
            "{'Ten': 10, 'Twenty': 20, 'Thirty': 30, 'Fourty': 40, 'Fifty': 50}\n",
            "10\n"
          ],
          "name": "stdout"
        }
      ]
    },
    {
      "cell_type": "code",
      "metadata": {
        "id": "bqtLgs2gQmwN",
        "colab_type": "code",
        "outputId": "016d12e4-7839-4bbc-bdef-7072b2a80d1b",
        "colab": {
          "base_uri": "https://localhost:8080/",
          "height": 85
        }
      },
      "source": [
        "s = 'I am Sai,Sai is good'\n",
        "print(s)\n",
        "dict={}\n",
        "l1 = s.split(',')\n",
        "print(l1)\n",
        "for k in l1:\n",
        "  l2 = k.split()\n",
        "print(l2)\n",
        "for k in l2:\n",
        "  if k not in dict:\n",
        "    dict[k]=1\n",
        "  elif k in dict:\n",
        "    dict[k]+=1\n",
        "\n",
        "print(dict)\n"
      ],
      "execution_count": 0,
      "outputs": [
        {
          "output_type": "stream",
          "text": [
            "I am Sai,Sai is good\n",
            "['I am Sai', 'Sai is good']\n",
            "['Sai', 'is', 'good']\n",
            "{'Sai': 1, 'is': 1, 'good': 1}\n"
          ],
          "name": "stdout"
        }
      ]
    },
    {
      "cell_type": "code",
      "metadata": {
        "id": "P8TwpkNwU1Wo",
        "colab_type": "code",
        "outputId": "725d4c23-290e-4691-fc89-63b43029af5b",
        "colab": {
          "base_uri": "https://localhost:8080/",
          "height": 336
        }
      },
      "source": [
        "import re\n",
        "f= open('sample.txt','r')\n",
        "out_lines = f.readlines()\n",
        "for line in out_lines:\n",
        "  print(line.strip())\n",
        "\n",
        "print(l)\n",
        "l3=[]\n",
        "for k in l:\n",
        "  l2 = k.split()\n",
        "  l3.append(l2)\n",
        "print(l3)\n",
        "dict = {}\n",
        "for k in l3:\n",
        "  for k1 in k:\n",
        "    #print(k1)\n",
        "    if k1 not in dict:\n",
        "      dict[k1] = 1\n",
        "    elif k1 in dict:\n",
        "      dict[k1]+=1\n",
        "print(dict)"
      ],
      "execution_count": 0,
      "outputs": [
        {
          "output_type": "stream",
          "text": [
            "I would love to try or hear the sample audio your app can produce. I do not want to purchase, because I've purchased so many apps that say they do something and do not deliver.\n",
            "\n",
            "Can you please add audio samples with text you've converted? I'd love to see the end results.\n",
            "\n",
            "Thanks!\n"
          ],
          "name": "stdout"
        },
        {
          "output_type": "error",
          "ename": "AttributeError",
          "evalue": "ignored",
          "traceback": [
            "\u001b[0;31m---------------------------------------------------------------------------\u001b[0m",
            "\u001b[0;31mAttributeError\u001b[0m                            Traceback (most recent call last)",
            "\u001b[0;32m<ipython-input-60-d27d9cb071d1>\u001b[0m in \u001b[0;36m<module>\u001b[0;34m()\u001b[0m\n\u001b[1;32m      5\u001b[0m \u001b[0;34m\u001b[0m\u001b[0m\n\u001b[1;32m      6\u001b[0m \u001b[0;34m\u001b[0m\u001b[0m\n\u001b[0;32m----> 7\u001b[0;31m \u001b[0ml\u001b[0m \u001b[0;34m=\u001b[0m \u001b[0ms\u001b[0m\u001b[0;34m.\u001b[0m\u001b[0msplit\u001b[0m\u001b[0;34m(\u001b[0m\u001b[0;34m','\u001b[0m\u001b[0;34m)\u001b[0m\u001b[0;34m\u001b[0m\u001b[0;34m\u001b[0m\u001b[0m\n\u001b[0m\u001b[1;32m      8\u001b[0m \u001b[0mprint\u001b[0m\u001b[0;34m(\u001b[0m\u001b[0ml\u001b[0m\u001b[0;34m)\u001b[0m\u001b[0;34m\u001b[0m\u001b[0;34m\u001b[0m\u001b[0m\n\u001b[1;32m      9\u001b[0m \u001b[0ml3\u001b[0m\u001b[0;34m=\u001b[0m\u001b[0;34m[\u001b[0m\u001b[0;34m]\u001b[0m\u001b[0;34m\u001b[0m\u001b[0;34m\u001b[0m\u001b[0m\n",
            "\u001b[0;31mAttributeError\u001b[0m: 'list' object has no attribute 'split'"
          ]
        }
      ]
    },
    {
      "cell_type": "code",
      "metadata": {
        "id": "hYSQDq02gnhT",
        "colab_type": "code",
        "outputId": "490a2d42-b074-43bc-9be9-c4b22ea22a94",
        "colab": {
          "base_uri": "https://localhost:8080/",
          "height": 71
        }
      },
      "source": [
        "import re\n",
        "dict={}\n",
        "f= open('sample.txt','r')\n",
        "out_lines = f.readlines()\n",
        "#print(out_lines)\n",
        "for line in out_lines:\n",
        "  #print(line)\n",
        "  l2 = re.split(',|\\\\.|\\n',line)\n",
        "  for k in l2:\n",
        "    l3 = k.split()\n",
        "    for i in l3:\n",
        "      if i not in dict :\n",
        "        dict[i]=1\n",
        "      elif i in dict:\n",
        "        dict[i]+=1\n",
        "    #print(l3)\n",
        "print(dict)\n",
        "a = sorted(dict.items(),key=lambda item :item[1],reverse=True)\n",
        "print(a[:11])\n",
        "with open('most_common_words.txt','w') as f_out:\n",
        "  for line in a[:11]:\n",
        "    f_out.write(line[0]+ '\\n')"
      ],
      "execution_count": 7,
      "outputs": [
        {
          "output_type": "stream",
          "text": [
            "{'I': 2, 'would': 1, 'love': 2, 'to': 3, 'try': 1, 'or': 1, 'hear': 1, 'the': 2, 'sample': 1, 'audio': 2, 'your': 1, 'app': 1, 'can': 1, 'produce': 1, 'do': 3, 'not': 2, 'want': 1, 'purchase': 1, 'because': 1, \"I've\": 1, 'purchased': 1, 'so': 1, 'many': 1, 'apps': 1, 'that': 1, 'say': 1, 'they': 1, 'something': 1, 'and': 1, 'deliver': 1, 'Can': 1, 'you': 1, 'please': 1, 'add': 1, 'samples': 1, 'with': 1, 'text': 1, \"you've\": 1, 'converted?': 1, \"I'd\": 1, 'see': 1, 'end': 1, 'results': 1, 'Thanks!': 1}\n",
            "[('to', 3), ('do', 3), ('I', 2), ('love', 2), ('the', 2), ('audio', 2), ('not', 2), ('would', 1), ('try', 1), ('or', 1), ('hear', 1)]\n"
          ],
          "name": "stdout"
        }
      ]
    },
    {
      "cell_type": "code",
      "metadata": {
        "id": "o8fYASr5f9pi",
        "colab_type": "code",
        "outputId": "da327030-f0e5-4186-ae1d-a000f1650f7e",
        "colab": {
          "base_uri": "https://localhost:8080/",
          "height": 68
        }
      },
      "source": [
        "import re\n",
        "s = \"I would love to try or hear the sample audio your app can produce. I do not want to purchase, because I've purchased so many apps\"\n",
        "re.split(',|\\\\.',s)"
      ],
      "execution_count": 0,
      "outputs": [
        {
          "output_type": "execute_result",
          "data": {
            "text/plain": [
              "['I would love to try or hear the sample audio your app can produce',\n",
              " ' I do not want to purchase',\n",
              " \" because I've purchased so many apps\"]"
            ]
          },
          "metadata": {
            "tags": []
          },
          "execution_count": 81
        }
      ]
    },
    {
      "cell_type": "code",
      "metadata": {
        "id": "BDHZ5VtC-Yyh",
        "colab_type": "code",
        "colab": {
          "base_uri": "https://localhost:8080/",
          "height": 71
        },
        "outputId": "4e4ed87a-c22e-43e9-b7f2-628db8c82df7"
      },
      "source": [
        "f = open('sample.txt','r')\n",
        "lines = f.readlines()\n",
        "#print(lines)\n",
        "length = len(lines)\n",
        "for i in range(length):\n",
        "  lines[i]=lines[i].lower()\n",
        "#print(lines[0])\n",
        "charaters_to_rep = ['\\n',',','?','.','!']\n",
        "for i in range(length):\n",
        "  for s in charaters_to_rep:\n",
        "    lines[i] = lines[i].replace(s,'')\n",
        "#print(lines)\n",
        "for i in range(length):\n",
        "  lines[i] = lines[i].split()\n",
        "#print(lines)\n",
        "d = {}\n",
        "for i in lines:\n",
        "  for k in i:\n",
        "    if k in d:\n",
        "      d[k]+=1\n",
        "    elif k not in d:\n",
        "      d[k]=1\n",
        "print(d)\n",
        "b = sorted(d.items())# it will sort the keys in alphabetical order\n",
        "#print(b)\n",
        "c = sorted(d.items(),key=lambda items:items[1],reverse=True)\n",
        "print(c[:11])\n",
        "with open('most_common_2.txt','w') as fo:\n",
        "  for line in c[:11]:\n",
        "    fo.write(line[0] + '\\n')"
      ],
      "execution_count": 26,
      "outputs": [
        {
          "output_type": "stream",
          "text": [
            "{'i': 2, 'would': 1, 'love': 2, 'to': 3, 'try': 1, 'or': 1, 'hear': 1, 'the': 2, 'sample': 1, 'audio': 2, 'your': 1, 'app': 1, 'can': 2, 'produce': 1, 'do': 3, 'not': 2, 'want': 1, 'purchase': 1, 'because': 1, \"i've\": 1, 'purchased': 1, 'so': 1, 'many': 1, 'apps': 1, 'that': 1, 'say': 1, 'they': 1, 'something': 1, 'and': 1, 'deliver': 1, 'you': 1, 'please': 1, 'add': 1, 'samples': 1, 'with': 1, 'text': 1, \"you've\": 1, 'converted': 1, \"i'd\": 1, 'see': 1, 'end': 1, 'results': 1, 'thanks': 1}\n",
            "[('to', 3), ('do', 3), ('i', 2), ('love', 2), ('the', 2), ('audio', 2), ('can', 2), ('not', 2), ('would', 1), ('try', 1), ('or', 1)]\n"
          ],
          "name": "stdout"
        }
      ]
    },
    {
      "cell_type": "markdown",
      "metadata": {
        "id": "ilwpr5WwEgcr",
        "colab_type": "text"
      },
      "source": [
        "#*Two grams*"
      ]
    },
    {
      "cell_type": "code",
      "metadata": {
        "id": "ATeC3tteEfjK",
        "colab_type": "code",
        "colab": {
          "base_uri": "https://localhost:8080/",
          "height": 119
        },
        "outputId": "94cf9da6-70b3-46a2-fae3-d42abe3245fd"
      },
      "source": [
        "s = 'unending ,love; by sai!'\n",
        "c = [',',';','!']\n",
        "for i in c:\n",
        "  s = s.replace(i,'')\n",
        "two=[]\n",
        "l = s.split()\n",
        "print(l)\n",
        "for i in range(len(l)):\n",
        "  #print(l[i])\n",
        "  j=1\n",
        "  j+=i\n",
        "  print(j)\n",
        "  while j<len(l):\n",
        "    a = (l[i],l[j])\n",
        "    #print(a)\n",
        "    j+=1\n",
        "    two.append(a)\n",
        "print(two)"
      ],
      "execution_count": 41,
      "outputs": [
        {
          "output_type": "stream",
          "text": [
            "['unending', 'love', 'by', 'sai']\n",
            "1\n",
            "2\n",
            "3\n",
            "4\n",
            "[('unending', 'love'), ('unending', 'by'), ('unending', 'sai'), ('love', 'by'), ('love', 'sai'), ('by', 'sai')]\n"
          ],
          "name": "stdout"
        }
      ]
    },
    {
      "cell_type": "code",
      "metadata": {
        "id": "To2OtbkJIPs4",
        "colab_type": "code",
        "colab": {}
      },
      "source": [
        ""
      ],
      "execution_count": 0,
      "outputs": []
    },
    {
      "cell_type": "code",
      "metadata": {
        "colab_type": "code",
        "outputId": "4e3abc93-3889-4e65-96eb-5ac7ce0dad1f",
        "id": "p9IKU9yXIQOJ",
        "colab": {
          "base_uri": "https://localhost:8080/",
          "height": 248
        }
      },
      "source": [
        "f = open('sample.txt','r')\n",
        "lines = f.readlines()\n",
        "#print(lines)\n",
        "length = len(lines)\n",
        "for i in range(length):\n",
        "  lines[i]=lines[i].lower()\n",
        "#print(lines[0])\n",
        "charaters_to_rep = ['\\n',',','?','.','!']\n",
        "for i in range(length):\n",
        "  for s in charaters_to_rep:\n",
        "    lines[i] = lines[i].replace(s,'')\n",
        "#print(lines)\n",
        "for i in range(length):\n",
        "  lines[i] = lines[i].split()\n",
        "#print(len(lines))\n",
        "k=1\n",
        "two=[]\n",
        "for i in range(length):\n",
        "  #print(lines[i])\n",
        "  for j in range(len(lines[i])):\n",
        "    k+=j\n",
        "    print(k)\n",
        "    while k<len(lines[i]):\n",
        "      a = (lines[j],lines[k])\n",
        "      two.append(a)\n",
        "      k+=1\n",
        "print(two)\n",
        "\n",
        "\n",
        "\n"
      ],
      "execution_count": 57,
      "outputs": [
        {
          "output_type": "stream",
          "text": [
            "1\n"
          ],
          "name": "stdout"
        },
        {
          "output_type": "error",
          "ename": "IndexError",
          "evalue": "ignored",
          "traceback": [
            "\u001b[0;31m---------------------------------------------------------------------------\u001b[0m",
            "\u001b[0;31mIndexError\u001b[0m                                Traceback (most recent call last)",
            "\u001b[0;32m<ipython-input-57-2960acc76ea1>\u001b[0m in \u001b[0;36m<module>\u001b[0;34m()\u001b[0m\n\u001b[1;32m     22\u001b[0m     \u001b[0mprint\u001b[0m\u001b[0;34m(\u001b[0m\u001b[0mk\u001b[0m\u001b[0;34m)\u001b[0m\u001b[0;34m\u001b[0m\u001b[0;34m\u001b[0m\u001b[0m\n\u001b[1;32m     23\u001b[0m     \u001b[0;32mwhile\u001b[0m \u001b[0mk\u001b[0m\u001b[0;34m<\u001b[0m\u001b[0mlen\u001b[0m\u001b[0;34m(\u001b[0m\u001b[0mlines\u001b[0m\u001b[0;34m[\u001b[0m\u001b[0mi\u001b[0m\u001b[0;34m]\u001b[0m\u001b[0;34m)\u001b[0m\u001b[0;34m:\u001b[0m\u001b[0;34m\u001b[0m\u001b[0;34m\u001b[0m\u001b[0m\n\u001b[0;32m---> 24\u001b[0;31m       \u001b[0ma\u001b[0m \u001b[0;34m=\u001b[0m \u001b[0;34m(\u001b[0m\u001b[0mlines\u001b[0m\u001b[0;34m[\u001b[0m\u001b[0mj\u001b[0m\u001b[0;34m]\u001b[0m\u001b[0;34m,\u001b[0m\u001b[0mlines\u001b[0m\u001b[0;34m[\u001b[0m\u001b[0mk\u001b[0m\u001b[0;34m]\u001b[0m\u001b[0;34m)\u001b[0m\u001b[0;34m\u001b[0m\u001b[0;34m\u001b[0m\u001b[0m\n\u001b[0m\u001b[1;32m     25\u001b[0m       \u001b[0mtwo\u001b[0m\u001b[0;34m.\u001b[0m\u001b[0mappend\u001b[0m\u001b[0;34m(\u001b[0m\u001b[0ma\u001b[0m\u001b[0;34m)\u001b[0m\u001b[0;34m\u001b[0m\u001b[0;34m\u001b[0m\u001b[0m\n\u001b[1;32m     26\u001b[0m       \u001b[0mk\u001b[0m\u001b[0;34m+=\u001b[0m\u001b[0;36m1\u001b[0m\u001b[0;34m\u001b[0m\u001b[0;34m\u001b[0m\u001b[0m\n",
            "\u001b[0;31mIndexError\u001b[0m: list index out of range"
          ]
        }
      ]
    },
    {
      "cell_type": "code",
      "metadata": {
        "id": "uIQyRdr5Nk0t",
        "colab_type": "code",
        "colab": {}
      },
      "source": [
        ""
      ],
      "execution_count": 0,
      "outputs": []
    },
    {
      "cell_type": "code",
      "metadata": {
        "colab_type": "code",
        "outputId": "3039c6b3-c7bd-4b88-b538-fb3aacf787fe",
        "id": "ZVqD_cUcNlZU",
        "colab": {
          "base_uri": "https://localhost:8080/",
          "height": 88
        }
      },
      "source": [
        "import re\n",
        "dict={}\n",
        "two=[]\n",
        "f= open('sample.txt','r')\n",
        "out_lines = f.readlines()\n",
        "#print(out_lines)\n",
        "for line in out_lines:\n",
        "  #print(line)\n",
        "  l2 = re.split(',|\\\\.|\\n',line)\n",
        "  for k in l2:\n",
        "    l3 = k.split()\n",
        "    j=1\n",
        "    #print(l3)\n",
        "    for k in range(len(l3)):\n",
        "      j+=k\n",
        "      while j<len(l3):\n",
        "        a = (l3[k],l3[j])\n",
        "        j+=1\n",
        "        two.append(a)\n",
        "\n",
        "print(two[6])\n",
        "for i in two:\n",
        "  if i not in dict:\n",
        "    dict[i]=1\n",
        "  elif i in dict:\n",
        "    dict[i]+=1\n",
        "print(dict)\n",
        "a = sorted(dict.items(),key=lambda items:items[1],reverse=True)\n",
        "print(a[:5])"
      ],
      "execution_count": 69,
      "outputs": [
        {
          "output_type": "stream",
          "text": [
            "('I', 'the')\n",
            "{('I', 'would'): 1, ('I', 'love'): 1, ('I', 'to'): 2, ('I', 'try'): 1, ('I', 'or'): 1, ('I', 'hear'): 1, ('I', 'the'): 1, ('I', 'sample'): 1, ('I', 'audio'): 1, ('I', 'your'): 1, ('I', 'app'): 1, ('I', 'can'): 1, ('I', 'produce'): 1, ('I', 'do'): 1, ('I', 'not'): 1, ('I', 'want'): 1, ('I', 'purchase'): 1, ('because', \"I've\"): 1, ('because', 'purchased'): 1, ('because', 'so'): 1, ('because', 'many'): 1, ('because', 'apps'): 1, ('because', 'that'): 1, ('because', 'say'): 1, ('because', 'they'): 1, ('because', 'do'): 2, ('because', 'something'): 1, ('because', 'and'): 1, ('because', 'not'): 1, ('because', 'deliver'): 1, ('Can', 'you'): 1, ('Can', 'please'): 1, ('Can', 'add'): 1, ('Can', 'audio'): 1, ('Can', 'samples'): 1, ('Can', 'with'): 1, ('Can', 'text'): 1, ('Can', \"you've\"): 1, ('Can', 'converted?'): 1, ('Can', \"I'd\"): 1, ('Can', 'love'): 1, ('Can', 'to'): 1, ('Can', 'see'): 1, ('Can', 'the'): 1, ('Can', 'end'): 1, ('Can', 'results'): 1}\n",
            "[(('I', 'to'), 2), (('because', 'do'), 2), (('I', 'would'), 1), (('I', 'love'), 1), (('I', 'try'), 1)]\n"
          ],
          "name": "stdout"
        }
      ]
    },
    {
      "cell_type": "markdown",
      "metadata": {
        "id": "6fPq0RUR5xTp",
        "colab_type": "text"
      },
      "source": [
        "# HASHING"
      ]
    },
    {
      "cell_type": "code",
      "metadata": {
        "id": "Xo8vs3ZB50Rs",
        "colab_type": "code",
        "colab": {
          "base_uri": "https://localhost:8080/",
          "height": 34
        },
        "outputId": "6be47ee1-c718-497e-f7e9-3133e0d31ac9"
      },
      "source": [
        "def hashing(string,length):\n",
        "  s= string\n",
        "  len = length\n",
        "  sum=0\n",
        "  for i in s:\n",
        "    sum+= ord(i)\n",
        "  index = sum % len\n",
        "  return index\n",
        "\n",
        "print(hashing('march 22',100))\n",
        "# so sai will be stored in the index 7 of the list of size 10 allocated in the ram "
      ],
      "execution_count": 4,
      "outputs": [
        {
          "output_type": "stream",
          "text": [
            "55\n"
          ],
          "name": "stdout"
        }
      ]
    },
    {
      "cell_type": "code",
      "metadata": {
        "id": "ro7-k2bc79AU",
        "colab_type": "code",
        "colab": {
          "base_uri": "https://localhost:8080/",
          "height": 1000
        },
        "outputId": "840f6187-3e1a-425b-ac1a-c81712404db2"
      },
      "source": [
        "class Hashtable:\n",
        "  def __init__(self):\n",
        "    self.max = 100\n",
        "    self.arr = [None for x in range(self.max)]\n",
        "  def hashing(self,key):\n",
        "    self.len = self.max\n",
        "    sum=0\n",
        "    for i in key:\n",
        "      sum+= ord(i)\n",
        "    index = sum % self.len\n",
        "    return index\n",
        "  def __setitem__(self,key,val):\n",
        "    p = self.hashing(key)\n",
        "    self.arr[p]=val\n",
        "  def __getitem__(self,key):\n",
        "    p = self.hashing(key)\n",
        "    return self.arr[p]\n",
        "\n",
        "t = Hashtable()\n",
        "t['march 6']=130\n",
        "t['march 6']\n",
        "t.arr"
      ],
      "execution_count": 16,
      "outputs": [
        {
          "output_type": "execute_result",
          "data": {
            "text/plain": [
              "[None,\n",
              " None,\n",
              " None,\n",
              " None,\n",
              " None,\n",
              " None,\n",
              " None,\n",
              " None,\n",
              " None,\n",
              " 130,\n",
              " None,\n",
              " None,\n",
              " None,\n",
              " None,\n",
              " None,\n",
              " None,\n",
              " None,\n",
              " None,\n",
              " None,\n",
              " None,\n",
              " None,\n",
              " None,\n",
              " None,\n",
              " None,\n",
              " None,\n",
              " None,\n",
              " None,\n",
              " None,\n",
              " None,\n",
              " None,\n",
              " None,\n",
              " None,\n",
              " None,\n",
              " None,\n",
              " None,\n",
              " None,\n",
              " None,\n",
              " None,\n",
              " None,\n",
              " None,\n",
              " None,\n",
              " None,\n",
              " None,\n",
              " None,\n",
              " None,\n",
              " None,\n",
              " None,\n",
              " None,\n",
              " None,\n",
              " None,\n",
              " None,\n",
              " None,\n",
              " None,\n",
              " None,\n",
              " None,\n",
              " None,\n",
              " None,\n",
              " None,\n",
              " None,\n",
              " None,\n",
              " None,\n",
              " None,\n",
              " None,\n",
              " None,\n",
              " None,\n",
              " None,\n",
              " None,\n",
              " None,\n",
              " None,\n",
              " None,\n",
              " None,\n",
              " None,\n",
              " None,\n",
              " None,\n",
              " None,\n",
              " None,\n",
              " None,\n",
              " None,\n",
              " None,\n",
              " None,\n",
              " None,\n",
              " None,\n",
              " None,\n",
              " None,\n",
              " None,\n",
              " None,\n",
              " None,\n",
              " None,\n",
              " None,\n",
              " None,\n",
              " None,\n",
              " None,\n",
              " None,\n",
              " None,\n",
              " None,\n",
              " None,\n",
              " None,\n",
              " None,\n",
              " None,\n",
              " None]"
            ]
          },
          "metadata": {
            "tags": []
          },
          "execution_count": 16
        }
      ]
    }
  ]
}