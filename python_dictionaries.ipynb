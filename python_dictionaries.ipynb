{
  "nbformat": 4,
  "nbformat_minor": 0,
  "metadata": {
    "colab": {
      "name": "Untitled16.ipynb",
      "provenance": [],
      "authorship_tag": "ABX9TyO1xe3gvPGHpUcMLE96pOSl",
      "include_colab_link": true
    },
    "kernelspec": {
      "name": "python3",
      "display_name": "Python 3"
    }
  },
  "cells": [
    {
      "cell_type": "markdown",
      "metadata": {
        "id": "view-in-github",
        "colab_type": "text"
      },
      "source": [
        "<a href=\"https://colab.research.google.com/github/saided/pandas_using_python/blob/master/python_dictionaries.ipynb\" target=\"_parent\"><img src=\"https://colab.research.google.com/assets/colab-badge.svg\" alt=\"Open In Colab\"/></a>"
      ]
    },
    {
      "cell_type": "code",
      "metadata": {
        "id": "NeX33HwZEowJ",
        "colab_type": "code",
        "colab": {
          "base_uri": "https://localhost:8080/",
          "height": 51
        },
        "outputId": "7e2b12be-efd8-4ecb-a88f-bc86aba895ad"
      },
      "source": [
        "sampleDict = { \n",
        "   \"class\":{ \n",
        "      \"student\":{ \n",
        "         \"name\":\"Mike\",\n",
        "         \"marks\":{ \n",
        "            \"physics\":70,\n",
        "            \"history\":80\n",
        "         }\n",
        "      }\n",
        "   }\n",
        "}\n",
        "print(sampleDict['class']['student']['marks']['history'])\n",
        "print(sampleDict.get('class'))"
      ],
      "execution_count": 26,
      "outputs": [
        {
          "output_type": "stream",
          "text": [
            "80\n",
            "{'student': {'name': 'Mike', 'marks': {'physics': 70, 'history': 80}}}\n"
          ],
          "name": "stdout"
        }
      ]
    },
    {
      "cell_type": "code",
      "metadata": {
        "id": "krJ-g9tBFOXK",
        "colab_type": "code",
        "colab": {
          "base_uri": "https://localhost:8080/",
          "height": 54
        },
        "outputId": "460e0cb1-1e88-4c22-9e16-01e022e009be"
      },
      "source": [
        "employees = ['Kelly', 'Emma', 'John']\n",
        "defaults = {\"designation\": 'Application Developer', \"salary\": 8000}\n",
        "\n",
        "resDict = dict.fromkeys(employees, defaults)\n",
        "print(resDict)"
      ],
      "execution_count": 2,
      "outputs": [
        {
          "output_type": "stream",
          "text": [
            "{'Kelly': {'designation': 'Application Developer', 'salary': 8000}, 'Emma': {'designation': 'Application Developer', 'salary': 8000}, 'John': {'designation': 'Application Developer', 'salary': 8000}}\n"
          ],
          "name": "stdout"
        }
      ]
    },
    {
      "cell_type": "code",
      "metadata": {
        "id": "Z1YTQR_CFWJY",
        "colab_type": "code",
        "colab": {
          "base_uri": "https://localhost:8080/",
          "height": 51
        },
        "outputId": "db09a05d-bfc9-4da7-97d7-f1ca340dc368"
      },
      "source": [
        "sampleDict = {\n",
        "  \"name\": \"Kelly\",\n",
        "  \"age\":25,\n",
        "  \"salary\": 8000,\n",
        "  \"city\": \"New york\"\n",
        "  \n",
        "}\n",
        "keys = ['name','salary']\n",
        "newdict = {\n",
        "    k : sampleDict[k] for k in keys\n",
        "}\n",
        "print(newdict)\n",
        "keystoremove = ['name','salary']\n",
        "for k in keystoremove:\n",
        "  del(sampleDict[k])\n",
        "print(sampleDict)"
      ],
      "execution_count": 5,
      "outputs": [
        {
          "output_type": "stream",
          "text": [
            "{'name': 'Kelly', 'salary': 8000}\n",
            "{'age': 25, 'city': 'New york'}\n"
          ],
          "name": "stdout"
        }
      ]
    },
    {
      "cell_type": "code",
      "metadata": {
        "id": "Jf0bR9BXHGWU",
        "colab_type": "code",
        "colab": {
          "base_uri": "https://localhost:8080/",
          "height": 34
        },
        "outputId": "e65f99f5-3829-47f6-d5ff-a1557f6ea956"
      },
      "source": [
        "sampleDict = {'a': 100, 'b': 200, 'c': 300}\n",
        "#check if value 200 exists in the dictionary\n",
        "for keys in sampleDict:\n",
        "  #print(keys)\n",
        "  if sampleDict[keys]== 200:\n",
        "    print(keys,'Yes')"
      ],
      "execution_count": 11,
      "outputs": [
        {
          "output_type": "stream",
          "text": [
            "b Yes\n"
          ],
          "name": "stdout"
        }
      ]
    },
    {
      "cell_type": "code",
      "metadata": {
        "id": "RFkCaw2BGMSG",
        "colab_type": "code",
        "colab": {
          "base_uri": "https://localhost:8080/",
          "height": 68
        },
        "outputId": "2f2dba8b-0dce-4827-db01-65602259026e"
      },
      "source": [
        "sampleDict = {\n",
        "  \"name\": \"Kelly\",\n",
        "  \"age\":25,\n",
        "  \"salary\": 8000,\n",
        "  \"city\": \"New york\"\n",
        "}\n",
        "# Rename key city to location\n",
        "sampleDict['location']=sampleDict.pop('city')\n",
        "print(sampleDict)\n",
        "#Pop() method is used to return and delete the value of the key specified.\n",
        "pop_ele = sampleDict.pop('age')\n",
        "print('the value of the  removed element is : '  + str(pop_ele))\n",
        "print(sampleDict)"
      ],
      "execution_count": 30,
      "outputs": [
        {
          "output_type": "stream",
          "text": [
            "{'name': 'Kelly', 'age': 25, 'salary': 8000, 'location': 'New york'}\n",
            "the value of the  removed element is : 25\n",
            "{'name': 'Kelly', 'salary': 8000, 'location': 'New york'}\n"
          ],
          "name": "stdout"
        }
      ]
    },
    {
      "cell_type": "code",
      "metadata": {
        "id": "y3jlqEAtIxi0",
        "colab_type": "code",
        "colab": {
          "base_uri": "https://localhost:8080/",
          "height": 51
        },
        "outputId": "9d5aeed2-acdf-46b1-87f0-649a31bbb858"
      },
      "source": [
        "sampleDict = {\n",
        "  'Physics': 82,\n",
        "  'Math': 65,\n",
        "  'history': 75\n",
        "}\n",
        "a = min(sampleDict[k] for k in sampleDict)\n",
        "print(a)\n",
        "if 'Math' in sampleDict.keys():\n",
        "  print('True')"
      ],
      "execution_count": 34,
      "outputs": [
        {
          "output_type": "stream",
          "text": [
            "65\n",
            "True\n"
          ],
          "name": "stdout"
        }
      ]
    },
    {
      "cell_type": "code",
      "metadata": {
        "id": "MUU22OvgJGry",
        "colab_type": "code",
        "colab": {
          "base_uri": "https://localhost:8080/",
          "height": 34
        },
        "outputId": "e34efa82-0a78-407a-bcac-309c3ee8af82"
      },
      "source": [
        "sampleDict = {\n",
        "     'emp1': {'name': 'Jhon', 'salary': 7500},\n",
        "     'emp2': {'name': 'Emma', 'salary': 8000},\n",
        "     'emp3': {'name': 'Brad', 'salary': 6500}\n",
        "}\n",
        "#Change Brad’s salary to 8500\n",
        "sampleDict['emp3']['salary']=8500\n",
        "print(sampleDict)"
      ],
      "execution_count": 19,
      "outputs": [
        {
          "output_type": "stream",
          "text": [
            "{'emp1': {'name': 'Jhon', 'salary': 7500}, 'emp2': {'name': 'Emma', 'salary': 8000}, 'emp3': {'name': 'Brad', 'salary': 8500}}\n"
          ],
          "name": "stdout"
        }
      ]
    },
    {
      "cell_type": "markdown",
      "metadata": {
        "id": "bFpUmljtJf6q",
        "colab_type": "text"
      },
      "source": [
        "#Merging two dictionaries"
      ]
    },
    {
      "cell_type": "code",
      "metadata": {
        "id": "WprPzAS0Jixd",
        "colab_type": "code",
        "colab": {
          "base_uri": "https://localhost:8080/",
          "height": 51
        },
        "outputId": "2cc39fd6-7876-44ee-9525-535e4e2adc3b"
      },
      "source": [
        "dict1 = {'Ten': 10, 'Twenty': 20, 'Thirty': 30}\n",
        "dict2 = {'Thirty': 30, 'Fourty': 40, 'Fifty': 50}\n",
        "dict3 = {**dict1,**dict2}\n",
        "print(dict3)\n",
        "print(dict3.get('Ten'))"
      ],
      "execution_count": 22,
      "outputs": [
        {
          "output_type": "stream",
          "text": [
            "{'Ten': 10, 'Twenty': 20, 'Thirty': 30, 'Fourty': 40, 'Fifty': 50}\n",
            "10\n"
          ],
          "name": "stdout"
        }
      ]
    },
    {
      "cell_type": "code",
      "metadata": {
        "id": "bqtLgs2gQmwN",
        "colab_type": "code",
        "colab": {
          "base_uri": "https://localhost:8080/",
          "height": 85
        },
        "outputId": "016d12e4-7839-4bbc-bdef-7072b2a80d1b"
      },
      "source": [
        "s = 'I am Sai,Sai is good'\n",
        "print(s)\n",
        "dict={}\n",
        "l1 = s.split(',')\n",
        "print(l1)\n",
        "for k in l1:\n",
        "  l2 = k.split()\n",
        "print(l2)\n",
        "for k in l2:\n",
        "  if k not in dict:\n",
        "    dict[k]=1\n",
        "  elif k in dict:\n",
        "    dict[k]+=1\n",
        "\n",
        "print(dict)\n"
      ],
      "execution_count": 49,
      "outputs": [
        {
          "output_type": "stream",
          "text": [
            "I am Sai,Sai is good\n",
            "['I am Sai', 'Sai is good']\n",
            "['Sai', 'is', 'good']\n",
            "{'Sai': 1, 'is': 1, 'good': 1}\n"
          ],
          "name": "stdout"
        }
      ]
    },
    {
      "cell_type": "code",
      "metadata": {
        "id": "P8TwpkNwU1Wo",
        "colab_type": "code",
        "colab": {
          "base_uri": "https://localhost:8080/",
          "height": 336
        },
        "outputId": "725d4c23-290e-4691-fc89-63b43029af5b"
      },
      "source": [
        "import re\n",
        "f= open('sample.txt','r')\n",
        "out_lines = f.readlines()\n",
        "for line in out_lines:\n",
        "  print(line.strip())\n",
        "\n",
        "print(l)\n",
        "l3=[]\n",
        "for k in l:\n",
        "  l2 = k.split()\n",
        "  l3.append(l2)\n",
        "print(l3)\n",
        "dict = {}\n",
        "for k in l3:\n",
        "  for k1 in k:\n",
        "    #print(k1)\n",
        "    if k1 not in dict:\n",
        "      dict[k1] = 1\n",
        "    elif k1 in dict:\n",
        "      dict[k1]+=1\n",
        "print(dict)"
      ],
      "execution_count": 60,
      "outputs": [
        {
          "output_type": "stream",
          "text": [
            "I would love to try or hear the sample audio your app can produce. I do not want to purchase, because I've purchased so many apps that say they do something and do not deliver.\n",
            "\n",
            "Can you please add audio samples with text you've converted? I'd love to see the end results.\n",
            "\n",
            "Thanks!\n"
          ],
          "name": "stdout"
        },
        {
          "output_type": "error",
          "ename": "AttributeError",
          "evalue": "ignored",
          "traceback": [
            "\u001b[0;31m---------------------------------------------------------------------------\u001b[0m",
            "\u001b[0;31mAttributeError\u001b[0m                            Traceback (most recent call last)",
            "\u001b[0;32m<ipython-input-60-d27d9cb071d1>\u001b[0m in \u001b[0;36m<module>\u001b[0;34m()\u001b[0m\n\u001b[1;32m      5\u001b[0m \u001b[0;34m\u001b[0m\u001b[0m\n\u001b[1;32m      6\u001b[0m \u001b[0;34m\u001b[0m\u001b[0m\n\u001b[0;32m----> 7\u001b[0;31m \u001b[0ml\u001b[0m \u001b[0;34m=\u001b[0m \u001b[0ms\u001b[0m\u001b[0;34m.\u001b[0m\u001b[0msplit\u001b[0m\u001b[0;34m(\u001b[0m\u001b[0;34m','\u001b[0m\u001b[0;34m)\u001b[0m\u001b[0;34m\u001b[0m\u001b[0;34m\u001b[0m\u001b[0m\n\u001b[0m\u001b[1;32m      8\u001b[0m \u001b[0mprint\u001b[0m\u001b[0;34m(\u001b[0m\u001b[0ml\u001b[0m\u001b[0;34m)\u001b[0m\u001b[0;34m\u001b[0m\u001b[0;34m\u001b[0m\u001b[0m\n\u001b[1;32m      9\u001b[0m \u001b[0ml3\u001b[0m\u001b[0;34m=\u001b[0m\u001b[0;34m[\u001b[0m\u001b[0;34m]\u001b[0m\u001b[0;34m\u001b[0m\u001b[0;34m\u001b[0m\u001b[0m\n",
            "\u001b[0;31mAttributeError\u001b[0m: 'list' object has no attribute 'split'"
          ]
        }
      ]
    },
    {
      "cell_type": "code",
      "metadata": {
        "id": "hYSQDq02gnhT",
        "colab_type": "code",
        "colab": {
          "base_uri": "https://localhost:8080/",
          "height": 251
        },
        "outputId": "8e12406e-4cb5-4236-f56d-027ef2ced234"
      },
      "source": [
        "import re\n",
        "dict={}\n",
        "f= open('sample.txt','r')\n",
        "out_lines = f.readlines()\n",
        "#print(out_lines)\n",
        "for line in out_lines:\n",
        "  #print(line)\n",
        "  l2 = re.split(',|\\\\.|\\n',line)\n",
        "  for k in l2:\n",
        "    l3 = k.split()\n",
        "    for i in l3:\n",
        "      if i not in dict :\n",
        "        dict[i]=1\n",
        "      elif i in dict:\n",
        "        dict[i]+=1\n",
        "    #print(l3)\n",
        "print(dict)\n",
        "for k in dict:\n",
        "  a = max(dict[k] )\n",
        "  print(a , k)"
      ],
      "execution_count": 103,
      "outputs": [
        {
          "output_type": "stream",
          "text": [
            "{'I': 2, 'would': 1, 'love': 2, 'to': 3, 'try': 1, 'or': 1, 'hear': 1, 'the': 2, 'sample': 1, 'audio': 2, 'your': 1, 'app': 1, 'can': 1, 'produce': 1, 'do': 3, 'not': 2, 'want': 1, 'purchase': 1, 'because': 1, \"I've\": 1, 'purchased': 1, 'so': 1, 'many': 1, 'apps': 1, 'that': 1, 'say': 1, 'they': 1, 'something': 1, 'and': 1, 'deliver': 1, 'Can': 1, 'you': 1, 'please': 1, 'add': 1, 'samples': 1, 'with': 1, 'text': 1, \"you've\": 1, 'converted?': 1, \"I'd\": 1, 'see': 1, 'end': 1, 'results': 1, 'Thanks!': 1}\n"
          ],
          "name": "stdout"
        },
        {
          "output_type": "error",
          "ename": "TypeError",
          "evalue": "ignored",
          "traceback": [
            "\u001b[0;31m---------------------------------------------------------------------------\u001b[0m",
            "\u001b[0;31mTypeError\u001b[0m                                 Traceback (most recent call last)",
            "\u001b[0;32m<ipython-input-103-5808f17e0b68>\u001b[0m in \u001b[0;36m<module>\u001b[0;34m()\u001b[0m\n\u001b[1;32m     17\u001b[0m \u001b[0mprint\u001b[0m\u001b[0;34m(\u001b[0m\u001b[0mdict\u001b[0m\u001b[0;34m)\u001b[0m\u001b[0;34m\u001b[0m\u001b[0;34m\u001b[0m\u001b[0m\n\u001b[1;32m     18\u001b[0m \u001b[0;32mfor\u001b[0m \u001b[0mk\u001b[0m \u001b[0;32min\u001b[0m \u001b[0mdict\u001b[0m\u001b[0;34m:\u001b[0m\u001b[0;34m\u001b[0m\u001b[0;34m\u001b[0m\u001b[0m\n\u001b[0;32m---> 19\u001b[0;31m   \u001b[0ma\u001b[0m \u001b[0;34m=\u001b[0m \u001b[0mmax\u001b[0m\u001b[0;34m(\u001b[0m\u001b[0mdict\u001b[0m\u001b[0;34m[\u001b[0m\u001b[0mk\u001b[0m\u001b[0;34m]\u001b[0m \u001b[0;34m)\u001b[0m\u001b[0;34m\u001b[0m\u001b[0;34m\u001b[0m\u001b[0m\n\u001b[0m\u001b[1;32m     20\u001b[0m   \u001b[0mprint\u001b[0m\u001b[0;34m(\u001b[0m\u001b[0ma\u001b[0m \u001b[0;34m,\u001b[0m \u001b[0mk\u001b[0m\u001b[0;34m)\u001b[0m\u001b[0;34m\u001b[0m\u001b[0;34m\u001b[0m\u001b[0m\n",
            "\u001b[0;31mTypeError\u001b[0m: 'int' object is not iterable"
          ]
        }
      ]
    },
    {
      "cell_type": "code",
      "metadata": {
        "id": "o8fYASr5f9pi",
        "colab_type": "code",
        "colab": {
          "base_uri": "https://localhost:8080/",
          "height": 68
        },
        "outputId": "da327030-f0e5-4186-ae1d-a000f1650f7e"
      },
      "source": [
        "import re\n",
        "s = \"I would love to try or hear the sample audio your app can produce. I do not want to purchase, because I've purchased so many apps\"\n",
        "re.split(',|\\\\.',s)"
      ],
      "execution_count": 81,
      "outputs": [
        {
          "output_type": "execute_result",
          "data": {
            "text/plain": [
              "['I would love to try or hear the sample audio your app can produce',\n",
              " ' I do not want to purchase',\n",
              " \" because I've purchased so many apps\"]"
            ]
          },
          "metadata": {
            "tags": []
          },
          "execution_count": 81
        }
      ]
    }
  ]
}