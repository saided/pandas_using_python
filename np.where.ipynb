{
  "nbformat": 4,
  "nbformat_minor": 0,
  "metadata": {
    "colab": {
      "name": "Untitled31.ipynb",
      "provenance": [],
      "collapsed_sections": [],
      "authorship_tag": "ABX9TyPJcFWMdHsvJPZry5sCv+HM",
      "include_colab_link": true
    },
    "kernelspec": {
      "name": "python3",
      "display_name": "Python 3"
    }
  },
  "cells": [
    {
      "cell_type": "markdown",
      "metadata": {
        "id": "view-in-github",
        "colab_type": "text"
      },
      "source": [
        "<a href=\"https://colab.research.google.com/github/saided/pandas_using_python/blob/master/np.where.ipynb\" target=\"_parent\"><img src=\"https://colab.research.google.com/assets/colab-badge.svg\" alt=\"Open In Colab\"/></a>"
      ]
    },
    {
      "cell_type": "markdown",
      "metadata": {
        "id": "7lcGgUotBSXh",
        "colab_type": "text"
      },
      "source": [
        "#np.where"
      ]
    },
    {
      "cell_type": "code",
      "metadata": {
        "id": "W8RQLK75BRUT",
        "colab_type": "code",
        "colab": {}
      },
      "source": [
        "import numpy as np\n",
        "arr = np.arange(10,20)\n",
        "a = np.where(arr<15) # np.where returns an array of position where the given condition is satisfied in the array"
      ],
      "execution_count": 0,
      "outputs": []
    },
    {
      "cell_type": "code",
      "metadata": {
        "id": "MUdV89AhB9gd",
        "colab_type": "code",
        "colab": {
          "base_uri": "https://localhost:8080/",
          "height": 34
        },
        "outputId": "08ec57be-adc3-42de-8f34-47ad6a02c637"
      },
      "source": [
        "a[0] # If you know that it is one-dimensional, you can use the first element of the result of np.where() as it is"
      ],
      "execution_count": 9,
      "outputs": [
        {
          "output_type": "execute_result",
          "data": {
            "text/plain": [
              "array([0, 1, 2, 3, 4])"
            ]
          },
          "metadata": {
            "tags": []
          },
          "execution_count": 9
        }
      ]
    },
    {
      "cell_type": "code",
      "metadata": {
        "id": "hjbQv0zkCWOM",
        "colab_type": "code",
        "colab": {}
      },
      "source": [
        "#Using numpy.where(), elements of the NumPy array ndarray that satisfy the conditions can be replaced or performed specified processing.\n",
        "#numpy.where(condition[, x, y])\n",
        "#Return elements, either from x or y, depending on condition.\n",
        "#If only condition is given, return condition.nonzero()\n",
        "#np.where() is a function that returns ndarray which is x if condition is True and y if False. x, y and condition need to be broadcastable to same shape.\n",
        "#If x andy are omitted, index is returned. As shown in the above example."
      ],
      "execution_count": 0,
      "outputs": []
    },
    {
      "cell_type": "code",
      "metadata": {
        "id": "33mHeWvMC0qB",
        "colab_type": "code",
        "colab": {
          "base_uri": "https://localhost:8080/",
          "height": 68
        },
        "outputId": "8f2c4423-3130-400b-dd89-c54bf145cb56"
      },
      "source": [
        "a = np.arange(9).reshape((3, 3))\n",
        "print(np.where(a < 4, -1, 100)) # elements 0,1,2,3 will be replaced with -1(as they satisfy the given condition) and 4 to 8 are replaced with 100 in the resulting array\n"
      ],
      "execution_count": 10,
      "outputs": [
        {
          "output_type": "stream",
          "text": [
            "[[ -1  -1  -1]\n",
            " [ -1 100 100]\n",
            " [100 100 100]]\n"
          ],
          "name": "stdout"
        }
      ]
    },
    {
      "cell_type": "code",
      "metadata": {
        "id": "CJBTn6QsDT3B",
        "colab_type": "code",
        "colab": {
          "base_uri": "https://localhost:8080/",
          "height": 68
        },
        "outputId": "a6a74136-59ce-438d-8035-ab428d8d3f18"
      },
      "source": [
        "#We can also ise multiple conditions\n",
        "print(np.where((a > 2) & (a < 6), -1, 100)) # here 3,4,5 will be replaced with -1 and the rest with 100"
      ],
      "execution_count": 11,
      "outputs": [
        {
          "output_type": "stream",
          "text": [
            "[[100 100 100]\n",
            " [ -1  -1  -1]\n",
            " [100 100 100]]\n"
          ],
          "name": "stdout"
        }
      ]
    },
    {
      "cell_type": "code",
      "metadata": {
        "id": "QTEwogh-De2e",
        "colab_type": "code",
        "colab": {
          "base_uri": "https://localhost:8080/",
          "height": 68
        },
        "outputId": "de2cbc62-ad96-4d8e-a5f0-78d945066a5e"
      },
      "source": [
        "print(np.where((a > 2) & (a < 6) | (a == 7), -1, 100))\n"
      ],
      "execution_count": 12,
      "outputs": [
        {
          "output_type": "stream",
          "text": [
            "[[100 100 100]\n",
            " [ -1  -1  -1]\n",
            " [100  -1 100]]\n"
          ],
          "name": "stdout"
        }
      ]
    },
    {
      "cell_type": "code",
      "metadata": {
        "id": "7BffcLxrDlCq",
        "colab_type": "code",
        "colab": {
          "base_uri": "https://localhost:8080/",
          "height": 136
        },
        "outputId": "52a0ed4b-d24f-43bf-a294-eee9e2121693"
      },
      "source": [
        "# It is also possible to replace elements with an arbitrary value only when the condition is satisfied or only when the condition is not satisfied\n",
        "print(np.where(a < 4, -1, a))\n",
        "print('*************')\n",
        "print(np.where(a < 4, a, 100))\n"
      ],
      "execution_count": 17,
      "outputs": [
        {
          "output_type": "stream",
          "text": [
            "[[-1 -1 -1]\n",
            " [-1  4  5]\n",
            " [ 6  7  8]]\n",
            "*************\n",
            "[[  0   1   2]\n",
            " [  3 100 100]\n",
            " [100 100 100]]\n"
          ],
          "name": "stdout"
        }
      ]
    },
    {
      "cell_type": "code",
      "metadata": {
        "id": "gesp94dgD8p-",
        "colab_type": "code",
        "colab": {
          "base_uri": "https://localhost:8080/",
          "height": 119
        },
        "outputId": "8ae68d08-a487-4a8a-eb6e-ad6f5d8527d7"
      },
      "source": [
        "a_org = np.arange(9).reshape((3, 3))\n",
        "print(a_org)\n",
        "a_new = np.where(a_org < 4, -1, a_org)\n",
        "print(a_new)"
      ],
      "execution_count": 18,
      "outputs": [
        {
          "output_type": "stream",
          "text": [
            "[[0 1 2]\n",
            " [3 4 5]\n",
            " [6 7 8]]\n",
            "[[-1 -1 -1]\n",
            " [-1  4  5]\n",
            " [ 6  7  8]]\n"
          ],
          "name": "stdout"
        }
      ]
    },
    {
      "cell_type": "code",
      "metadata": {
        "id": "D7fGADEaEIIM",
        "colab_type": "code",
        "colab": {
          "base_uri": "https://localhost:8080/",
          "height": 119
        },
        "outputId": "03294fca-2784-4fd4-b179-3718f568aac7"
      },
      "source": [
        "# Note that np.where() returns a new ndarray, and the original ndarray is unchanged\n",
        "print(a_org)\n",
        "# if we want to change the original array itself then\n",
        "a_org[a_org < 4] = -1\n",
        "print(a_org)"
      ],
      "execution_count": 20,
      "outputs": [
        {
          "output_type": "stream",
          "text": [
            "[[0 1 2]\n",
            " [3 4 5]\n",
            " [6 7 8]]\n",
            "[[-1 -1 -1]\n",
            " [-1  4  5]\n",
            " [ 6  7  8]]\n"
          ],
          "name": "stdout"
        }
      ]
    },
    {
      "cell_type": "code",
      "metadata": {
        "id": "4T5QtXsZEjZX",
        "colab_type": "code",
        "colab": {
          "base_uri": "https://localhost:8080/",
          "height": 170
        },
        "outputId": "67e882f1-160e-4bfa-f902-11821ce6f8f9"
      },
      "source": [
        "# Process the elements that satisfy the condition\n",
        "a = np.arange(10,19).reshape(3,3)\n",
        "print(a)\n",
        "b = np.where(a<15,a**2,a) # 10 to 14 will be squared and the remaining will be as it is\n",
        "print(b)\n",
        "print(a) # Here again the original array remains same"
      ],
      "execution_count": 24,
      "outputs": [
        {
          "output_type": "stream",
          "text": [
            "[[10 11 12]\n",
            " [13 14 15]\n",
            " [16 17 18]]\n",
            "[[100 121 144]\n",
            " [169 196  15]\n",
            " [ 16  17  18]]\n",
            "[[10 11 12]\n",
            " [13 14 15]\n",
            " [16 17 18]]\n"
          ],
          "name": "stdout"
        }
      ]
    },
    {
      "cell_type": "code",
      "metadata": {
        "id": "pgo3NHtCFXFv",
        "colab_type": "code",
        "colab": {
          "base_uri": "https://localhost:8080/",
          "height": 34
        },
        "outputId": "5b6443c7-9bbe-4f33-aea1-845c99027e1d"
      },
      "source": [
        "a = np.array([3,6,9,12,15])\n",
        "b = np.array([2,4,6,8,12])\n",
        "c = np.where(a == b)\n",
        "print(c[0]) # for one dimensional array first index will return the array"
      ],
      "execution_count": 25,
      "outputs": [
        {
          "output_type": "stream",
          "text": [
            "[]\n"
          ],
          "name": "stdout"
        }
      ]
    },
    {
      "cell_type": "code",
      "metadata": {
        "id": "zd4Ncq-6F7_z",
        "colab_type": "code",
        "colab": {
          "base_uri": "https://localhost:8080/",
          "height": 68
        },
        "outputId": "fe6d5e16-e233-46e2-b035-a5ddc0e60d22"
      },
      "source": [
        "a = np.array([1.0,2.2,3.5])\n",
        "a = a/0.0\n",
        "print(a[0])"
      ],
      "execution_count": 26,
      "outputs": [
        {
          "output_type": "stream",
          "text": [
            "inf\n"
          ],
          "name": "stdout"
        },
        {
          "output_type": "stream",
          "text": [
            "/usr/local/lib/python3.6/dist-packages/ipykernel_launcher.py:2: RuntimeWarning: divide by zero encountered in true_divide\n",
            "  \n"
          ],
          "name": "stderr"
        }
      ]
    },
    {
      "cell_type": "code",
      "metadata": {
        "id": "nEqoe2YvGQQC",
        "colab_type": "code",
        "colab": {
          "base_uri": "https://localhost:8080/",
          "height": 51
        },
        "outputId": "5d5f68a1-710f-4084-9047-42f115ad26ce"
      },
      "source": [
        "a = np.array([1,2,3,4])\n",
        "print(a.dtype)\n",
        "a[0] =0.9\n",
        "print(a[0], a.dtype)"
      ],
      "execution_count": 28,
      "outputs": [
        {
          "output_type": "stream",
          "text": [
            "int64\n",
            "0 int64\n"
          ],
          "name": "stdout"
        }
      ]
    },
    {
      "cell_type": "code",
      "metadata": {
        "id": "kWHCEtuUG7fy",
        "colab_type": "code",
        "colab": {
          "base_uri": "https://localhost:8080/",
          "height": 34
        },
        "outputId": "fbb6c2d1-5786-4f99-ef03-4de6c4b4d428"
      },
      "source": [
        "a = np.array([[1,2,3,], [4,5,6]])\n",
        "print(a[1][2])"
      ],
      "execution_count": 29,
      "outputs": [
        {
          "output_type": "stream",
          "text": [
            "6\n"
          ],
          "name": "stdout"
        }
      ]
    }
  ]
}