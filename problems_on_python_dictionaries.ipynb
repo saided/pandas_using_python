{
  "nbformat": 4,
  "nbformat_minor": 0,
  "metadata": {
    "colab": {
      "name": "Untitled17.ipynb",
      "provenance": [],
      "toc_visible": true,
      "authorship_tag": "ABX9TyPPmbpqgkBMK3X8EJv9ibir",
      "include_colab_link": true
    },
    "kernelspec": {
      "name": "python3",
      "display_name": "Python 3"
    }
  },
  "cells": [
    {
      "cell_type": "markdown",
      "metadata": {
        "id": "view-in-github",
        "colab_type": "text"
      },
      "source": [
        "<a href=\"https://colab.research.google.com/github/saided/pandas_using_python/blob/master/problems_on_python_dictionaries.ipynb\" target=\"_parent\"><img src=\"https://colab.research.google.com/assets/colab-badge.svg\" alt=\"Open In Colab\"/></a>"
      ]
    },
    {
      "cell_type": "code",
      "metadata": {
        "id": "z4ak26qutjwD",
        "colab_type": "code",
        "colab": {
          "base_uri": "https://localhost:8080/",
          "height": 214
        },
        "outputId": "01046f56-0eae-4309-8673-7f7879cc3867"
      },
      "source": [
        "t=(1,2,3)\n",
        "l = list(t)\n",
        "print(l)\n",
        "a = 'amoeba'\n",
        "print(a+1)"
      ],
      "execution_count": 3,
      "outputs": [
        {
          "output_type": "stream",
          "text": [
            "[1, 2, 3]\n"
          ],
          "name": "stdout"
        },
        {
          "output_type": "error",
          "ename": "TypeError",
          "evalue": "ignored",
          "traceback": [
            "\u001b[0;31m---------------------------------------------------------------------------\u001b[0m",
            "\u001b[0;31mTypeError\u001b[0m                                 Traceback (most recent call last)",
            "\u001b[0;32m<ipython-input-3-88f4035ee434>\u001b[0m in \u001b[0;36m<module>\u001b[0;34m()\u001b[0m\n\u001b[1;32m      3\u001b[0m \u001b[0mprint\u001b[0m\u001b[0;34m(\u001b[0m\u001b[0ml\u001b[0m\u001b[0;34m)\u001b[0m\u001b[0;34m\u001b[0m\u001b[0;34m\u001b[0m\u001b[0m\n\u001b[1;32m      4\u001b[0m \u001b[0ma\u001b[0m \u001b[0;34m=\u001b[0m \u001b[0;34m'amoeba'\u001b[0m\u001b[0;34m\u001b[0m\u001b[0;34m\u001b[0m\u001b[0m\n\u001b[0;32m----> 5\u001b[0;31m \u001b[0mprint\u001b[0m\u001b[0;34m(\u001b[0m\u001b[0ma\u001b[0m\u001b[0;34m+\u001b[0m\u001b[0;36m1\u001b[0m\u001b[0;34m)\u001b[0m\u001b[0;34m\u001b[0m\u001b[0;34m\u001b[0m\u001b[0m\n\u001b[0m",
            "\u001b[0;31mTypeError\u001b[0m: must be str, not int"
          ]
        }
      ]
    },
    {
      "cell_type": "code",
      "metadata": {
        "id": "w8saGDVluUQI",
        "colab_type": "code",
        "colab": {
          "base_uri": "https://localhost:8080/",
          "height": 68
        },
        "outputId": "3cb275f2-2f30-4431-9615-92c2d7e2919e"
      },
      "source": [
        "fruit = {\"apple\": 5, \"mango\":7, \"peach\":8, \"berry\":10}\n",
        "a = fruit.get('orange')\n",
        "b = (1,2,3) + (2,2,2)\n",
        "print(id(b))\n",
        "print(b)\n",
        "print(id(b))\n"
      ],
      "execution_count": 8,
      "outputs": [
        {
          "output_type": "stream",
          "text": [
            "140540959926408\n",
            "(1, 2, 3, 2, 2, 2)\n",
            "140540959926408\n"
          ],
          "name": "stdout"
        }
      ]
    },
    {
      "cell_type": "code",
      "metadata": {
        "id": "G6_AKEI1wxaF",
        "colab_type": "code",
        "colab": {
          "base_uri": "https://localhost:8080/",
          "height": 68
        },
        "outputId": "1d567274-1100-4f17-8bd9-d964ee7f72fd"
      },
      "source": [
        "b= (1,2,3)\n",
        "c = (3,4,5)\n",
        "d = b+c\n",
        "print(id(d))\n",
        "#print(d+(5,6,7))\n",
        "d = d+(5,6,7)\n",
        "print(id(d))\n",
        "\n",
        "#print(list(b)+list(c))\n",
        "print(id(b),id(c),id(d))\n",
        "#b.append(c)\n",
        "#print(b)"
      ],
      "execution_count": 29,
      "outputs": [
        {
          "output_type": "stream",
          "text": [
            "140540959926312\n",
            "140540960384848\n",
            "140540950247464 140540950273120 140540960384848\n"
          ],
          "name": "stdout"
        }
      ]
    },
    {
      "cell_type": "code",
      "metadata": {
        "id": "R5tGqAWjxJH6",
        "colab_type": "code",
        "colab": {}
      },
      "source": [
        "l=[1]\n",
        "for i in range(10):\n",
        "  l+=list(i)"
      ],
      "execution_count": 0,
      "outputs": []
    },
    {
      "cell_type": "markdown",
      "metadata": {
        "id": "rWpE5IsDMTIo",
        "colab_type": "text"
      },
      "source": [
        "# Problem 1"
      ]
    },
    {
      "cell_type": "code",
      "metadata": {
        "id": "kKdKZCajHqJ6",
        "colab_type": "code",
        "colab": {
          "base_uri": "https://localhost:8080/",
          "height": 204
        },
        "outputId": "7cbf68b1-af75-481b-d864-37c9be14dbab"
      },
      "source": [
        "import random\n",
        "l=[]\n",
        "r = \n",
        "while len(l)<10:\n",
        "  x = random.randint(-6,7)\n",
        "  y = random.randint(-6,7)\n",
        "  if x**2 + y**2 == r**2:\n",
        "    a = (x,y)\n",
        "    print(a)\n",
        "    l.append(a)\n",
        "  \n",
        "print(l)\n",
        "#print(l[5][1])\n",
        "#for x in range(-6,7):\n",
        "  #print(x)"
      ],
      "execution_count": 43,
      "outputs": [
        {
          "output_type": "stream",
          "text": [
            "(0, -1)\n",
            "(1, 0)\n",
            "(-1, 0)\n",
            "(0, 1)\n",
            "(0, -1)\n",
            "(1, 0)\n",
            "(0, -1)\n",
            "(1, 0)\n",
            "(0, -1)\n",
            "(1, 0)\n",
            "[(0, -1), (1, 0), (-1, 0), (0, 1), (0, -1), (1, 0), (0, -1), (1, 0), (0, -1), (1, 0)]\n"
          ],
          "name": "stdout"
        }
      ]
    },
    {
      "cell_type": "markdown",
      "metadata": {
        "id": "5KH1iCrxMfq3",
        "colab_type": "text"
      },
      "source": [
        "# Problem 2"
      ]
    },
    {
      "cell_type": "code",
      "metadata": {
        "id": "7rDMu20dMjxE",
        "colab_type": "code",
        "colab": {
          "base_uri": "https://localhost:8080/",
          "height": 51
        },
        "outputId": "028f7a2f-b6d2-4d37-82a3-172840d5cdad"
      },
      "source": [
        "data = [('Sumit', 183), ('Rahul', 175), ('Kritika', 170), ('Harshit', 177), ('Deepak', 162)]\n",
        "dict={}\n",
        "#dict[name]=height\n",
        "for x in data:\n",
        "  dict[x[0]]=x[1]\n",
        "print(dict)\n",
        "print(dict['Deepak'])"
      ],
      "execution_count": 46,
      "outputs": [
        {
          "output_type": "stream",
          "text": [
            "{'Sumit': 183, 'Rahul': 175, 'Kritika': 170, 'Harshit': 177, 'Deepak': 162}\n",
            "162\n"
          ],
          "name": "stdout"
        }
      ]
    },
    {
      "cell_type": "markdown",
      "metadata": {
        "id": "Cw15ZwKSNN33",
        "colab_type": "text"
      },
      "source": [
        "#Problem 3"
      ]
    },
    {
      "cell_type": "code",
      "metadata": {
        "id": "81Iu61bINR3p",
        "colab_type": "code",
        "colab": {
          "base_uri": "https://localhost:8080/",
          "height": 51
        },
        "outputId": "66130a58-13f6-45b6-83a0-04e275f5a295"
      },
      "source": [
        "import random\n",
        "input=[]\n",
        "while len(input)<20:\n",
        "  input.append(random.randint(1,10))\n",
        "print(input)\n",
        "s = set(input)\n",
        "#print(s)\n",
        "output = list(s)\n",
        "print(output)"
      ],
      "execution_count": 63,
      "outputs": [
        {
          "output_type": "stream",
          "text": [
            "[6, 8, 10, 8, 1, 3, 8, 1, 8, 10, 9, 10, 9, 3, 7, 5, 8, 7, 9, 1]\n",
            "[1, 3, 5, 6, 7, 8, 9, 10]\n"
          ],
          "name": "stdout"
        }
      ]
    },
    {
      "cell_type": "markdown",
      "metadata": {
        "id": "tqAqjPTXPZmy",
        "colab_type": "text"
      },
      "source": [
        "# Problem 4"
      ]
    },
    {
      "cell_type": "code",
      "metadata": {
        "id": "JpFkeWjhPcvv",
        "colab_type": "code",
        "colab": {
          "base_uri": "https://localhost:8080/",
          "height": 34
        },
        "outputId": "b296b2b5-aa2d-4942-8c04-9207ac542070"
      },
      "source": [
        "def gen_dict(n):\n",
        "  dict={}\n",
        "  for x in range(0,n+1):\n",
        "    if x**2 < n:\n",
        "      dict[x]=x**2\n",
        "  return dict\n",
        "print(gen_dict(8))"
      ],
      "execution_count": 236,
      "outputs": [
        {
          "output_type": "stream",
          "text": [
            "{0: 0, 1: 1, 2: 4}\n"
          ],
          "name": "stdout"
        }
      ]
    },
    {
      "cell_type": "markdown",
      "metadata": {
        "id": "UJgTIIwXQJTW",
        "colab_type": "text"
      },
      "source": [
        "# Problem 5"
      ]
    },
    {
      "cell_type": "code",
      "metadata": {
        "id": "La0n1GUpQMBu",
        "colab_type": "code",
        "colab": {
          "base_uri": "https://localhost:8080/",
          "height": 34
        },
        "outputId": "271c723e-04ab-420b-f018-2d45f2c9634c"
      },
      "source": [
        "def uni_val(dict):\n",
        "\n",
        "  val = dict.values()\n",
        "  print(list(set(val)))\n",
        "\n",
        "uni_val({'a':1, 'b':2, 'c':1, 'd':1, 'e':2, 'f':3, 'g':4, 'h':3, 'i':4})"
      ],
      "execution_count": 73,
      "outputs": [
        {
          "output_type": "stream",
          "text": [
            "[1, 2, 3, 4]\n"
          ],
          "name": "stdout"
        }
      ]
    },
    {
      "cell_type": "markdown",
      "metadata": {
        "id": "8yuCaKigRGAZ",
        "colab_type": "text"
      },
      "source": [
        "# Problem 6"
      ]
    },
    {
      "cell_type": "code",
      "metadata": {
        "id": "auxQ3W2HRILG",
        "colab_type": "code",
        "colab": {
          "base_uri": "https://localhost:8080/",
          "height": 51
        },
        "outputId": "68bcc4b1-491e-4f89-a109-6decf07ef12d"
      },
      "source": [
        "#differentiation principle\n",
        "#dy/dx = ((f(x)+dx)-f(x))/dx\n",
        "def func(x):\n",
        "  return x**2+2*x\n",
        "def slope(func,xa):\n",
        "  f = func(xa)\n",
        "  dx = 0.0000001\n",
        "  f1 = func(xa+dx)\n",
        "  print(f1)\n",
        "  d = (f1-(f))/dx\n",
        "  print(d)\n",
        "\n",
        "slope(func,2)\n",
        "\n"
      ],
      "execution_count": 237,
      "outputs": [
        {
          "output_type": "stream",
          "text": [
            "8.000000600000009\n",
            "6.000000087880153\n"
          ],
          "name": "stdout"
        }
      ]
    },
    {
      "cell_type": "code",
      "metadata": {
        "id": "vA7GI1NPcgge",
        "colab_type": "code",
        "colab": {
          "base_uri": "https://localhost:8080/",
          "height": 34
        },
        "outputId": "b87d6536-030c-4b27-e796-70c9ec5f5900"
      },
      "source": [
        "import random\n",
        "def slope(f):\n",
        "  #x = x+dx\n",
        "  y = lambda x ,dx: (((x+dx)**2 + x+dx) - (f))/dx\n",
        "#dx = random.random(0,0.0001)\n",
        "  print(int(y(2,random.uniform(0,0.00001))))\n",
        "\n",
        "slope(x**2+x)"
      ],
      "execution_count": 108,
      "outputs": [
        {
          "output_type": "stream",
          "text": [
            "5\n"
          ],
          "name": "stdout"
        }
      ]
    },
    {
      "cell_type": "code",
      "metadata": {
        "id": "ZHIvVUJ7slTZ",
        "colab_type": "code",
        "colab": {
          "base_uri": "https://localhost:8080/",
          "height": 197
        },
        "outputId": "2a55c042-2d5d-440a-c78c-da9ae2c3bbe8"
      },
      "source": [
        "f1 = lambda y : y**3 + 2*y\n",
        "#y = y+2\n",
        "f1(2+dy)\n"
      ],
      "execution_count": 115,
      "outputs": [
        {
          "output_type": "error",
          "ename": "NameError",
          "evalue": "ignored",
          "traceback": [
            "\u001b[0;31m---------------------------------------------------------------------------\u001b[0m",
            "\u001b[0;31mNameError\u001b[0m                                 Traceback (most recent call last)",
            "\u001b[0;32m<ipython-input-115-cfc1c5706c74>\u001b[0m in \u001b[0;36m<module>\u001b[0;34m()\u001b[0m\n\u001b[1;32m      1\u001b[0m \u001b[0mf1\u001b[0m \u001b[0;34m=\u001b[0m \u001b[0;32mlambda\u001b[0m \u001b[0my\u001b[0m\u001b[0;34m,\u001b[0m\u001b[0mdy\u001b[0m \u001b[0;34m:\u001b[0m \u001b[0my\u001b[0m\u001b[0;34m**\u001b[0m\u001b[0;36m3\u001b[0m \u001b[0;34m+\u001b[0m \u001b[0;36m2\u001b[0m\u001b[0;34m*\u001b[0m\u001b[0my\u001b[0m\u001b[0;34m\u001b[0m\u001b[0;34m\u001b[0m\u001b[0m\n\u001b[1;32m      2\u001b[0m \u001b[0;31m#y = y+2\u001b[0m\u001b[0;34m\u001b[0m\u001b[0;34m\u001b[0m\u001b[0;34m\u001b[0m\u001b[0m\n\u001b[0;32m----> 3\u001b[0;31m \u001b[0mf1\u001b[0m\u001b[0;34m(\u001b[0m\u001b[0;36m2\u001b[0m\u001b[0;34m+\u001b[0m\u001b[0mdy\u001b[0m\u001b[0;34m)\u001b[0m\u001b[0;34m\u001b[0m\u001b[0;34m\u001b[0m\u001b[0m\n\u001b[0m",
            "\u001b[0;31mNameError\u001b[0m: name 'dy' is not defined"
          ]
        }
      ]
    },
    {
      "cell_type": "markdown",
      "metadata": {
        "id": "l8jl5MuLtRDX",
        "colab_type": "text"
      },
      "source": [
        "# Problem 7"
      ]
    },
    {
      "cell_type": "code",
      "metadata": {
        "id": "JUOusVNgtVlr",
        "colab_type": "code",
        "colab": {
          "base_uri": "https://localhost:8080/",
          "height": 544
        },
        "outputId": "40d0d870-558e-4e1e-ec37-d55347f53720"
      },
      "source": [
        "def factorial(n):\n",
        "  f = 1\n",
        "  if n == 0:\n",
        "    return 1\n",
        "  else:\n",
        "    return n * factorial(n-1)\n",
        "def func(n,a):\n",
        "  l=[]\n",
        "  sum = 0\n",
        "  for i in range(n+1):\n",
        "    sum+= (a**i)/(factorial(i))\n",
        "    l.append(sum)\n",
        "  t = tuple(l)\n",
        "  return t\n",
        "\n",
        "func(30,7)\n",
        "\n"
      ],
      "execution_count": 238,
      "outputs": [
        {
          "output_type": "execute_result",
          "data": {
            "text/plain": [
              "(1.0,\n",
              " 8.0,\n",
              " 32.5,\n",
              " 89.66666666666666,\n",
              " 189.70833333333331,\n",
              " 329.76666666666665,\n",
              " 493.16805555555555,\n",
              " 656.5694444444445,\n",
              " 799.5456597222222,\n",
              " 910.7493827160494,\n",
              " 988.5919888117284,\n",
              " 1038.1281926907968,\n",
              " 1067.0243116202535,\n",
              " 1082.5837602745762,\n",
              " 1090.3634846017376,\n",
              " 1093.9940226210795,\n",
              " 1095.5823830045415,\n",
              " 1096.236413750673,\n",
              " 1096.4907590408352,\n",
              " 1096.5844652003686,\n",
              " 1096.6172623562054,\n",
              " 1096.6281947414843,\n",
              " 1096.6316732277094,\n",
              " 1096.63273189743,\n",
              " 1096.6330406760985,\n",
              " 1096.6331271341257,\n",
              " 1096.6331504112868,\n",
              " 1096.6331564461063,\n",
              " 1096.6331579548112,\n",
              " 1096.6331583189813,\n",
              " 1096.6331584039542)"
            ]
          },
          "metadata": {
            "tags": []
          },
          "execution_count": 238
        }
      ]
    },
    {
      "cell_type": "code",
      "metadata": {
        "id": "aB7XztVHw231",
        "colab_type": "code",
        "colab": {
          "base_uri": "https://localhost:8080/",
          "height": 34
        },
        "outputId": "9e3350ca-3faa-4e44-f181-b7c599316e93"
      },
      "source": [
        "l =[1,2,3,4,5]\n",
        "t = tuple(l)\n",
        "print(t)"
      ],
      "execution_count": 122,
      "outputs": [
        {
          "output_type": "stream",
          "text": [
            "(1, 2, 3, 4, 5)\n"
          ],
          "name": "stdout"
        }
      ]
    },
    {
      "cell_type": "markdown",
      "metadata": {
        "id": "Pn4vzQiSxSsr",
        "colab_type": "text"
      },
      "source": [
        "# Problem 8"
      ]
    },
    {
      "cell_type": "code",
      "metadata": {
        "id": "6oIYGTtaxVUf",
        "colab_type": "code",
        "colab": {
          "base_uri": "https://localhost:8080/",
          "height": 54
        },
        "outputId": "1fcf4e5f-e6bc-4c2e-9089-158cc9be73ce"
      },
      "source": [
        "def stu(dict):\n",
        "  A = [1]\n",
        "  b=0.99\n",
        "  for key in dict:\n",
        "    if key == 'Marks':\n",
        "      #αi=βαi−1+(1−β)ai  \n",
        "      l = dict[key]\n",
        "      #print(l)\n",
        "      for i in range(0,10):\n",
        "        #print(A[i-1],l[i])\n",
        "        a= b * A[i] + (1-b)*l[i]\n",
        "        A.append(a)\n",
        "      print(A[1:])\n",
        "\n",
        "\n",
        "dict = {\n",
        "    'Name':'sai',\n",
        "    'Marks': [10,20,30,40,50,60,70,80,90,100]\n",
        "}\n",
        "stu(dict)\n"
      ],
      "execution_count": 137,
      "outputs": [
        {
          "output_type": "stream",
          "text": [
            "[1.09, 1.2791000000000003, 1.5663090000000006, 1.9506459100000009, 2.4311394509000013, 3.0068280563910017, 3.6767597758270925, 4.439992178068822, 5.295592256288135, 6.242636333725255]\n"
          ],
          "name": "stdout"
        }
      ]
    },
    {
      "cell_type": "markdown",
      "metadata": {
        "id": "jESqE5jt421E",
        "colab_type": "text"
      },
      "source": [
        "# Problem 9"
      ]
    },
    {
      "cell_type": "code",
      "metadata": {
        "id": "Tinc7HZj45KU",
        "colab_type": "code",
        "colab": {
          "base_uri": "https://localhost:8080/",
          "height": 68
        },
        "outputId": "5ed95c45-482f-442e-b430-cbea3e618630"
      },
      "source": [
        "def fibonacci(n):\n",
        "  f=[]\n",
        "  a=0\n",
        "  b=1\n",
        "  for i in range(n+1):\n",
        "    c=a+b\n",
        "    f.append(a)\n",
        "    a=b\n",
        "    b=c\n",
        "  return f\n",
        "\n",
        "def prime (n):\n",
        "  p=[]\n",
        "  for i in range(2,n+1):\n",
        "      for j in range(2,i):\n",
        "        if i%j == 0:\n",
        "           break\n",
        "      else:\n",
        "          p.append(i)\n",
        "        \n",
        "  return p\n",
        "\n",
        "def square(n):\n",
        "  s=[]\n",
        "  for i in  range(1,n+1):\n",
        "    s.append(i**2)\n",
        "  return s\n",
        "\n",
        "def cd(n):\n",
        "  dict={}\n",
        "  f= fibonacci(n)\n",
        "  p = prime(n)\n",
        "  s = square(n)\n",
        "  for k in range(1,n+1):\n",
        "    dict[k]=[]\n",
        "    if k in f:\n",
        "      dict[k].append('Fibonacci')\n",
        "    if k in p:\n",
        "      dict[k].append('Prime')\n",
        "    if k in s:\n",
        "      dict[k].append('Square')\n",
        "\n",
        "  return dict\n",
        "\n",
        "\n",
        "def new(d, str):\n",
        "  #li = list(d.values())\n",
        "  #print(li)\n",
        "  num=[]\n",
        "  for i in d.items():\n",
        "    #print(i[1])\n",
        "    if str in i[1]:\n",
        "      num.append(i[0])\n",
        "  print(num)\n",
        "\n",
        "d = cd(100)\n",
        "#print(d)\n",
        "new(d,'Square')\n",
        "new(d,'Prime')\n",
        "new(d,'Fibonacci')"
      ],
      "execution_count": 247,
      "outputs": [
        {
          "output_type": "stream",
          "text": [
            "[1, 4, 9, 16, 25, 36, 49, 64, 81, 100]\n",
            "[2, 3, 5, 7, 11, 13, 17, 19, 23, 29, 31, 37, 41, 43, 47, 53, 59, 61, 67, 71, 73, 79, 83, 89, 97]\n",
            "[1, 2, 3, 5, 8, 13, 21, 34, 55, 89]\n"
          ],
          "name": "stdout"
        }
      ]
    },
    {
      "cell_type": "code",
      "metadata": {
        "id": "AN3t7RIDHhFU",
        "colab_type": "code",
        "colab": {
          "base_uri": "https://localhost:8080/",
          "height": 197
        },
        "outputId": "0a6dc6b3-10c6-45bf-df67-26205260bc19"
      },
      "source": [
        "d = {1: ['Fibonacci', 'Square'], 6: [],13: ['Prime', 'Fibonacci']}\n",
        "if d[6][0] == '':\n",
        "  print('cfvjn')"
      ],
      "execution_count": 204,
      "outputs": [
        {
          "output_type": "error",
          "ename": "IndexError",
          "evalue": "ignored",
          "traceback": [
            "\u001b[0;31m---------------------------------------------------------------------------\u001b[0m",
            "\u001b[0;31mIndexError\u001b[0m                                Traceback (most recent call last)",
            "\u001b[0;32m<ipython-input-204-6de31d71fa3b>\u001b[0m in \u001b[0;36m<module>\u001b[0;34m()\u001b[0m\n\u001b[1;32m      1\u001b[0m \u001b[0md\u001b[0m \u001b[0;34m=\u001b[0m \u001b[0;34m{\u001b[0m\u001b[0;36m1\u001b[0m\u001b[0;34m:\u001b[0m \u001b[0;34m[\u001b[0m\u001b[0;34m'Fibonacci'\u001b[0m\u001b[0;34m,\u001b[0m \u001b[0;34m'Square'\u001b[0m\u001b[0;34m]\u001b[0m\u001b[0;34m,\u001b[0m \u001b[0;36m6\u001b[0m\u001b[0;34m:\u001b[0m \u001b[0;34m[\u001b[0m\u001b[0;34m]\u001b[0m\u001b[0;34m,\u001b[0m\u001b[0;36m13\u001b[0m\u001b[0;34m:\u001b[0m \u001b[0;34m[\u001b[0m\u001b[0;34m'Prime'\u001b[0m\u001b[0;34m,\u001b[0m \u001b[0;34m'Fibonacci'\u001b[0m\u001b[0;34m]\u001b[0m\u001b[0;34m}\u001b[0m\u001b[0;34m\u001b[0m\u001b[0;34m\u001b[0m\u001b[0m\n\u001b[0;32m----> 2\u001b[0;31m \u001b[0;32mif\u001b[0m \u001b[0md\u001b[0m\u001b[0;34m[\u001b[0m\u001b[0;36m6\u001b[0m\u001b[0;34m]\u001b[0m\u001b[0;34m[\u001b[0m\u001b[0;36m0\u001b[0m\u001b[0;34m]\u001b[0m \u001b[0;34m==\u001b[0m \u001b[0;34m''\u001b[0m\u001b[0;34m:\u001b[0m\u001b[0;34m\u001b[0m\u001b[0;34m\u001b[0m\u001b[0m\n\u001b[0m\u001b[1;32m      3\u001b[0m   \u001b[0mprint\u001b[0m\u001b[0;34m(\u001b[0m\u001b[0;34m'cfvjn'\u001b[0m\u001b[0;34m)\u001b[0m\u001b[0;34m\u001b[0m\u001b[0;34m\u001b[0m\u001b[0m\n",
            "\u001b[0;31mIndexError\u001b[0m: list index out of range"
          ]
        }
      ]
    },
    {
      "cell_type": "markdown",
      "metadata": {
        "id": "Nf5H08DrOGYg",
        "colab_type": "text"
      },
      "source": [
        "Problem 10"
      ]
    },
    {
      "cell_type": "code",
      "metadata": {
        "id": "t35TqJSWOI3B",
        "colab_type": "code",
        "colab": {
          "base_uri": "https://localhost:8080/",
          "height": 360
        },
        "outputId": "1c2223d5-50e0-4185-c1b9-1e4c66787893"
      },
      "source": [
        "f = open('data.txt','r')\n",
        "lines = f.readlines()\n",
        "print(lines)\n",
        "rep = ['-','.']\n",
        "for line in lines:\n",
        "  for s in rep:\n",
        "    l = line.replace(s,'')\n",
        "  print(l)\n",
        "\n",
        "words = l.split()\n",
        "print(words)\n",
        "w=[]\n",
        "for i in range(len(words)):\n",
        "    if i%10 ==0:\n",
        "      print(words[i])\n",
        "      a = words[i]\n",
        "      w.append(a[0])\n",
        "print(w)\n",
        "\n",
        "with open('File_1.txt','w') as f_out:\n",
        "  for i in w:\n",
        "    f_out.writelines(i + '\\n')\n"
      ],
      "execution_count": 232,
      "outputs": [
        {
          "output_type": "stream",
          "text": [
            "['Data science is an inter-disciplinary field that uses scientific methods processes algorithms and systems to extract knowledge and insights from structured and unstructured data Data science is related to data mining and big data. Data science is a concept to unify statistics data analysis machine learning and their related methods in order to understand and analyze actual phenomena with data It employs techniques and theories drawn from many fields within the context of mathematics statistics computer science and information science Turing award winner Jim Gray imagined data science as a fourth paradigm of science empirical theoretical computational and now data driven and asserted that everything about science is changing because of the impact of information technology and the data deluge In 2015 the American Statistical Association identified database management statistics and machine learning and distributed and parallel systems as the three emerging foundational professional communities']\n",
            "Data science is an inter-disciplinary field that uses scientific methods processes algorithms and systems to extract knowledge and insights from structured and unstructured data Data science is related to data mining and big data Data science is a concept to unify statistics data analysis machine learning and their related methods in order to understand and analyze actual phenomena with data It employs techniques and theories drawn from many fields within the context of mathematics statistics computer science and information science Turing award winner Jim Gray imagined data science as a fourth paradigm of science empirical theoretical computational and now data driven and asserted that everything about science is changing because of the impact of information technology and the data deluge In 2015 the American Statistical Association identified database management statistics and machine learning and distributed and parallel systems as the three emerging foundational professional communities\n",
            "['Data', 'science', 'is', 'an', 'inter-disciplinary', 'field', 'that', 'uses', 'scientific', 'methods', 'processes', 'algorithms', 'and', 'systems', 'to', 'extract', 'knowledge', 'and', 'insights', 'from', 'structured', 'and', 'unstructured', 'data', 'Data', 'science', 'is', 'related', 'to', 'data', 'mining', 'and', 'big', 'data', 'Data', 'science', 'is', 'a', 'concept', 'to', 'unify', 'statistics', 'data', 'analysis', 'machine', 'learning', 'and', 'their', 'related', 'methods', 'in', 'order', 'to', 'understand', 'and', 'analyze', 'actual', 'phenomena', 'with', 'data', 'It', 'employs', 'techniques', 'and', 'theories', 'drawn', 'from', 'many', 'fields', 'within', 'the', 'context', 'of', 'mathematics', 'statistics', 'computer', 'science', 'and', 'information', 'science', 'Turing', 'award', 'winner', 'Jim', 'Gray', 'imagined', 'data', 'science', 'as', 'a', 'fourth', 'paradigm', 'of', 'science', 'empirical', 'theoretical', 'computational', 'and', 'now', 'data', 'driven', 'and', 'asserted', 'that', 'everything', 'about', 'science', 'is', 'changing', 'because', 'of', 'the', 'impact', 'of', 'information', 'technology', 'and', 'the', 'data', 'deluge', 'In', '2015', 'the', 'American', 'Statistical', 'Association', 'identified', 'database', 'management', 'statistics', 'and', 'machine', 'learning', 'and', 'distributed', 'and', 'parallel', 'systems', 'as', 'the', 'three', 'emerging', 'foundational', 'professional', 'communities']\n",
            "Data\n",
            "processes\n",
            "structured\n",
            "mining\n",
            "unify\n",
            "in\n",
            "It\n",
            "the\n",
            "Turing\n",
            "fourth\n",
            "driven\n",
            "of\n",
            "In\n",
            "and\n",
            "three\n",
            "['D', 'p', 's', 'm', 'u', 'i', 'I', 't', 'T', 'f', 'd', 'o', 'I', 'a', 't']\n"
          ],
          "name": "stdout"
        }
      ]
    }
  ]
}