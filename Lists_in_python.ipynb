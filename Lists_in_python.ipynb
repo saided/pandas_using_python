{
  "nbformat": 4,
  "nbformat_minor": 0,
  "metadata": {
    "colab": {
      "name": "Untitled8.ipynb",
      "provenance": [],
      "collapsed_sections": [],
      "authorship_tag": "ABX9TyPteca1qQN4y7eJIVkSbPis",
      "include_colab_link": true
    },
    "kernelspec": {
      "name": "python3",
      "display_name": "Python 3"
    }
  },
  "cells": [
    {
      "cell_type": "markdown",
      "metadata": {
        "id": "view-in-github",
        "colab_type": "text"
      },
      "source": [
        "<a href=\"https://colab.research.google.com/github/saided/pandas_using_python/blob/master/Lists_in_python.ipynb\" target=\"_parent\"><img src=\"https://colab.research.google.com/assets/colab-badge.svg\" alt=\"Open In Colab\"/></a>"
      ]
    },
    {
      "cell_type": "markdown",
      "metadata": {
        "id": "jF-7QH34Xea2",
        "colab_type": "text"
      },
      "source": [
        "# Exception in python"
      ]
    },
    {
      "cell_type": "code",
      "metadata": {
        "id": "SXBrB1hgXit3",
        "colab_type": "code",
        "colab": {
          "base_uri": "https://localhost:8080/",
          "height": 68
        },
        "outputId": "1becf71a-9c55-4267-a6b7-504f4945bc55"
      },
      "source": [
        "def input_float(prompt):\n",
        "  \"\"\"Conversion of input into a float\"\"\"\n",
        "  user_input = input(prompt)\n",
        "  try:\n",
        "    output = 1 / float(user_input)\n",
        "  except ValueError:\n",
        "    print('Enter a number not a string!!')\n",
        "    output  = None\n",
        "  except ZeroDivisionError:\n",
        "    print(\"Dont enter zero as its value is infinite!!!\")\n",
        "    output  = None\n",
        "  return output\n",
        "\n",
        "print(input_float('Enter number :'))"
      ],
      "execution_count": 6,
      "outputs": [
        {
          "output_type": "stream",
          "text": [
            "Enter number :0\n",
            "Dont enter zero as its value is infinite!!!\n",
            "None\n"
          ],
          "name": "stdout"
        }
      ]
    },
    {
      "cell_type": "code",
      "metadata": {
        "id": "UB_V7wkSZWDl",
        "colab_type": "code",
        "colab": {}
      },
      "source": [
        "# Exception is an event which occurs during the execution of the program,that disrupts the normal flow of the program instructions\n",
        "# Exception handling is process of responding to the occurrence during computation of exceptional conditions requiring special processing\n"
      ],
      "execution_count": 0,
      "outputs": []
    },
    {
      "cell_type": "code",
      "metadata": {
        "id": "F979uDG6fSv9",
        "colab_type": "code",
        "colab": {
          "base_uri": "https://localhost:8080/",
          "height": 51
        },
        "outputId": "ae94831c-c7b5-441f-e33f-4949b0a9c5b4"
      },
      "source": [
        "lst1 = ['one','two','three']\n",
        "lst2 = ['four','five']\n",
        "for x in lst2:\n",
        "  lst1.append(x)\n",
        "print(lst1)\n",
        "lst1.extend(lst2)\n",
        "print(lst1)\n"
      ],
      "execution_count": 2,
      "outputs": [
        {
          "output_type": "stream",
          "text": [
            "['one', 'two', 'three', 'four', 'five']\n",
            "['one', 'two', 'three', 'four', 'five', 'four', 'five']\n"
          ],
          "name": "stdout"
        }
      ]
    },
    {
      "cell_type": "code",
      "metadata": {
        "id": "VaWIDRcfgaM5",
        "colab_type": "code",
        "colab": {
          "base_uri": "https://localhost:8080/",
          "height": 51
        },
        "outputId": "18bb9252-0ce3-47a8-b185-cd31f23bf4d2"
      },
      "source": [
        "#print(lst1)\n",
        "#del lst1[5]\n",
        "print(lst1)\n",
        "#a = lst1.pop()\n",
        "a = lst1.pop(1)\n",
        "print(a)"
      ],
      "execution_count": 8,
      "outputs": [
        {
          "output_type": "stream",
          "text": [
            "['one', 'two', 'three']\n",
            "two\n"
          ],
          "name": "stdout"
        }
      ]
    },
    {
      "cell_type": "code",
      "metadata": {
        "id": "hEnNWzijkrks",
        "colab_type": "code",
        "colab": {
          "base_uri": "https://localhost:8080/",
          "height": 102
        },
        "outputId": "dfdb011f-580e-4b97-d8ed-0a93740dec06"
      },
      "source": [
        " s = 'one,two,three,four,five'\n",
        " slist = s.split(',')\n",
        " print(slist)\n",
        " s2 = [1,5,3,2,9.4]\n",
        " print(sorted(s2))\n",
        " print(sorted(s2,reverse=True))\n",
        " print(s2.count(5))\n",
        " print(slist+s2)"
      ],
      "execution_count": 16,
      "outputs": [
        {
          "output_type": "stream",
          "text": [
            "['one', 'two', 'three', 'four', 'five']\n",
            "[1, 2, 3, 5, 9.4]\n",
            "[9.4, 5, 3, 2, 1]\n",
            "1\n",
            "['one', 'two', 'three', 'four', 'five', 1, 5, 3, 2, 9.4]\n"
          ],
          "name": "stdout"
        }
      ]
    },
    {
      "cell_type": "code",
      "metadata": {
        "id": "L9Sz6fYKn9v-",
        "colab_type": "code",
        "colab": {
          "base_uri": "https://localhost:8080/",
          "height": 51
        },
        "outputId": "572b34d7-e7aa-4924-d15e-0c390debbded"
      },
      "source": [
        "squares = [i**2 for i in range(10)]\n",
        "print(squares)\n",
        "doubles = [i*2 for i in range(10)]\n",
        "print(doubles)"
      ],
      "execution_count": 18,
      "outputs": [
        {
          "output_type": "stream",
          "text": [
            "[0, 1, 4, 9, 16, 25, 36, 49, 64, 81]\n",
            "[0, 2, 4, 6, 8, 10, 12, 14, 16, 18]\n"
          ],
          "name": "stdout"
        }
      ]
    },
    {
      "cell_type": "markdown",
      "metadata": {
        "id": "D2vZj51LsBY7",
        "colab_type": "text"
      },
      "source": [
        "#Transpose of a Matrix\n"
      ]
    },
    {
      "cell_type": "code",
      "metadata": {
        "id": "OenOPt9sl77H",
        "colab_type": "code",
        "colab": {
          "base_uri": "https://localhost:8080/",
          "height": 544
        },
        "outputId": "8f309788-01d3-41e2-fa2f-d2ceb8aa22d4"
      },
      "source": [
        "A = [[1,2,3],\n",
        "     [4,5,6],\n",
        "     [7,8,9]]\n",
        "print(A)\n",
        "transposed = []\n",
        "for i in  range(3):\n",
        "  list=[]\n",
        "  for row in A:\n",
        "    print('The row we are considering is :',row)\n",
        "    print('the element we are considering is :',row[i])\n",
        "    list.append(row[i])\n",
        "    print(list)\n",
        "  transposed.append(list)\n",
        "  print(transposed)"
      ],
      "execution_count": 35,
      "outputs": [
        {
          "output_type": "stream",
          "text": [
            "[[1, 2, 3], [4, 5, 6], [7, 8, 9]]\n",
            "The row we are considering is : [1, 2, 3]\n",
            "the element we are considering is : 1\n",
            "[1]\n",
            "The row we are considering is : [4, 5, 6]\n",
            "the element we are considering is : 4\n",
            "[1, 4]\n",
            "The row we are considering is : [7, 8, 9]\n",
            "the element we are considering is : 7\n",
            "[1, 4, 7]\n",
            "[[1, 4, 7]]\n",
            "The row we are considering is : [1, 2, 3]\n",
            "the element we are considering is : 2\n",
            "[2]\n",
            "The row we are considering is : [4, 5, 6]\n",
            "the element we are considering is : 5\n",
            "[2, 5]\n",
            "The row we are considering is : [7, 8, 9]\n",
            "the element we are considering is : 8\n",
            "[2, 5, 8]\n",
            "[[1, 4, 7], [2, 5, 8]]\n",
            "The row we are considering is : [1, 2, 3]\n",
            "the element we are considering is : 3\n",
            "[3]\n",
            "The row we are considering is : [4, 5, 6]\n",
            "the element we are considering is : 6\n",
            "[3, 6]\n",
            "The row we are considering is : [7, 8, 9]\n",
            "the element we are considering is : 9\n",
            "[3, 6, 9]\n",
            "[[1, 4, 7], [2, 5, 8], [3, 6, 9]]\n"
          ],
          "name": "stdout"
        }
      ]
    },
    {
      "cell_type": "code",
      "metadata": {
        "id": "YhZR9-uOv1IH",
        "colab_type": "code",
        "colab": {
          "base_uri": "https://localhost:8080/",
          "height": 119
        },
        "outputId": "25b23fa0-4489-4aaa-e1bc-a988901612f4"
      },
      "source": [
        "mat = [[1,2,3],[4,5,6]]\n",
        "#for i in range(3):\n",
        "for r in mat:\n",
        "    for i in range(3):\n",
        "      print(r[i])"
      ],
      "execution_count": 41,
      "outputs": [
        {
          "output_type": "stream",
          "text": [
            "1\n",
            "2\n",
            "3\n",
            "4\n",
            "5\n",
            "6\n"
          ],
          "name": "stdout"
        }
      ]
    }
  ]
}