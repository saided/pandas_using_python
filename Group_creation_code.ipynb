{
  "nbformat": 4,
  "nbformat_minor": 0,
  "metadata": {
    "colab": {
      "name": "Untitled43.ipynb",
      "provenance": [],
      "collapsed_sections": [],
      "authorship_tag": "ABX9TyMhA1v91IvD+D8hdkTdLCrF",
      "include_colab_link": true
    },
    "kernelspec": {
      "name": "python3",
      "display_name": "Python 3"
    }
  },
  "cells": [
    {
      "cell_type": "markdown",
      "metadata": {
        "id": "view-in-github",
        "colab_type": "text"
      },
      "source": [
        "<a href=\"https://colab.research.google.com/github/saided/pandas_using_python/blob/master/Group_creation_code.ipynb\" target=\"_parent\"><img src=\"https://colab.research.google.com/assets/colab-badge.svg\" alt=\"Open In Colab\"/></a>"
      ]
    },
    {
      "cell_type": "code",
      "metadata": {
        "id": "ObrgCSNoJKEq",
        "colab_type": "code",
        "colab": {}
      },
      "source": [
        "import re\n",
        "import requests\n",
        "import xlrd\n",
        "import openpyxl\n",
        "from collections import ChainMap\n",
        "from requests import Timeout"
      ],
      "execution_count": 34,
      "outputs": []
    },
    {
      "cell_type": "code",
      "metadata": {
        "id": "7e7hLBfAXfel",
        "colab_type": "code",
        "colab": {
          "base_uri": "https://localhost:8080/",
          "height": 105
        },
        "outputId": "a23f43ea-cd50-4d86-d148-1b981dd4a44c"
      },
      "source": [
        "def root_group():\n",
        "    url = \"https://api.cloud.jiosurveillance.com/auth/oauth/token\"\n",
        "    username = input(\"Enter account ID\")\n",
        "    #print(username)\n",
        "    password = input(\"Enter account password\")\n",
        "    #print(password)\n",
        "\n",
        "    payload = 'client_secret=8b078e3496893ae3b9d7ccb83a6befdb&client_id=firmware-upgrade-job&grant_type=password&username={}&password={}'.format(\n",
        "    username, password)\n",
        "    headers = {\n",
        "        'Content-Type': 'application/x-www-form-urlencoded'\n",
        "            }\n",
        "    try:\n",
        "        response = requests.request(\"POST\", url, headers=headers, data=payload, timeout=6)\n",
        "        #print(response.text.encode('utf8'))\n",
        "        #print(response.json())\n",
        "    except: Timeout\n",
        "\n",
        "    r = response.json()\n",
        "    access_token = r['access_token']\n",
        "    token = str(access_token)\n",
        "    #print(token)\n",
        "    own_id = r['owner_id']\n",
        "    own_id = str(own_id)\n",
        "    #print(own_id)\n",
        "\n",
        "    url = \"https://api.cloud.jiosurveillance.com/folders?op=FIND\"\n",
        "\n",
        "    payload = \"{\\n\\t\\\"user\\\" : \\\"%s\\\"\\n}\" % (own_id)\n",
        "    headers = {\n",
        "    'Content-Type': 'application/json',\n",
        "    'Authorization': 'Bearer %s' % (token)\n",
        "    }\n",
        "    #print(payload)\n",
        "    response = requests.request(\"POST\", url, headers=headers, data=payload, timeout=6)\n",
        "    #print(response.text.encode('utf8')) # it gives total info about groups present in that  account\n",
        "    #print(response.url)\n",
        "\n",
        "    own_response = response.json()\n",
        "    print(own_response)\n",
        "    b = own_response['result']\n",
        "    #print(b)\n",
        "    c = b['items']\n",
        "    #print(c[0])\n",
        "    #print(len(c))\n",
        "    #print('Total no.of existing groups in the account :',len(c)-1)\n",
        "    mast_grp_id = c[0]['id']\n",
        "    #print(mast_grp_id,type(mast_grp_id))\n",
        "    if len(c)==0:\n",
        "      print('something went wrong')\n",
        "    return(mast_grp_id,own_id,token)\n",
        "\n",
        "print(root_group())  "
      ],
      "execution_count": 109,
      "outputs": [
        {
          "output_type": "stream",
          "text": [
            "Enter account IDrr.test4@gmail.com\n",
            "Enter account passwordJioadmin@123\n",
            "{'success': True, 'result': {'items': [{'id': '801-Z6hTHMk9Ii', 'name': '__root__', 'subfolders': [], 'cameras': [], 'owner_id': '801000012219', 'owner_name': 'rr.test4@gmail.com', 'root': True, 'permissions': ['admin', 'live', 'archive', 'ptz', 'events', 'faces_read', 'faces_add', 'faces_admin'], 'geo': None}]}}\n",
            "('801-Z6hTHMk9Ii', '801000012219', '801-U9ad407b0-4f8b-4463-93ae-6c845209b29f')\n"
          ],
          "name": "stdout"
        }
      ]
    },
    {
      "cell_type": "code",
      "metadata": {
        "id": "TPv8wlbK7MRa",
        "colab_type": "code",
        "colab": {
          "base_uri": "https://localhost:8080/",
          "height": 105
        },
        "outputId": "e535ca89-f115-464b-9441-a6c22b3d0867"
      },
      "source": [
        "is_root_grp = list(root_group())\n",
        "print(len(is_root_grp))\n",
        "mast_grp_id = is_root_grp[0]\n",
        "own_id = is_root_grp[1]\n",
        "token = is_root_grp[2]\n",
        "#print(token,type(token))"
      ],
      "execution_count": 110,
      "outputs": [
        {
          "output_type": "stream",
          "text": [
            "Enter account IDrr.test4@gmail.com\n",
            "Enter account passwordJioadmin@123\n",
            "{'success': True, 'result': {'items': [{'id': '801-Z6hTHMk9Ii', 'name': '__root__', 'subfolders': [], 'cameras': [], 'owner_id': '801000012219', 'owner_name': 'rr.test4@gmail.com', 'root': True, 'permissions': ['admin', 'live', 'archive', 'ptz', 'events', 'faces_read', 'faces_add', 'faces_admin'], 'geo': None}]}}\n",
            "3\n"
          ],
          "name": "stdout"
        }
      ]
    },
    {
      "cell_type": "code",
      "metadata": {
        "id": "QFQ7BTqT_FU-",
        "colab_type": "code",
        "colab": {}
      },
      "source": [
        "\n",
        "def create_zone(cellvalue,grp_id,token):\n",
        "      #cellvalue1 = list(cellvalue)\n",
        "      #if cellvalue not in cellvalue1:\n",
        "        url = \"https://api.cloud.jiosurveillance.com/folders?op=CREATE\"\n",
        "        payload = '{\\n\\t\\\"parent_folder\\\" : \\\"' + grp_id + '\\\",\\n\\t\\\"name\\\" : \\\"' + cellvalue + \"\\\"\\n}\"\n",
        "        print(payload)\n",
        "        headers = {\n",
        "          'Content-Type': 'application/json',\n",
        "          'Authorization': 'Bearer %s' % token\n",
        "        }\n",
        "\n",
        "        response = requests.request(\"POST\", url, headers=headers, data=payload, timeout=6)\n",
        "        r = response.json()\n",
        "        return r\n",
        "        #cellvalue1.add(cellvalue)\n",
        "\n",
        "\n"
      ],
      "execution_count": 111,
      "outputs": []
    },
    {
      "cell_type": "code",
      "metadata": {
        "id": "FyHZeZwIy8n2",
        "colab_type": "code",
        "colab": {
          "base_uri": "https://localhost:8080/",
          "height": 272
        },
        "outputId": "4d969492-727e-4957-a412-5b76a848ccef"
      },
      "source": [
        "North=0\n",
        "theFile = openpyxl.load_workbook('/content/grp_test.xlsx')\n",
        "allSheetNames = theFile.sheetnames\n",
        "#print(allSheetNames)\n",
        "print(\"All sheet names {} \" .format(allSheetNames))\n",
        "for sh in xlrd.open_workbook('/content/grp_test.xlsx').sheets():\n",
        "  print('Total no of rows',sh.nrows)\n",
        "  print('Total no of columns',sh.ncols)\n",
        "  zone_folder = []\n",
        "  for row in range(1, sh.nrows):\n",
        "    #print(row)\n",
        "    #cellcontent=[]\n",
        "    for col in range(sh.ncols):\n",
        "      mycell = sh.cell(row,col).value\n",
        "      #print(mycell)\n",
        "      #cellcontent.append(mycell)\n",
        "      #dict[row]= cellcontent\n",
        "    #print(cellcontent)\n",
        "    #print(dict)\n",
        "      if (len(is_root_grp) !=0 and col==1):\n",
        "        if (mycell=='North' and North==0):\n",
        "          zone_folder.append(create_zone(mycell,mast_grp_id,token))\n",
        "          North+=1\n",
        "        else:\n",
        "           print(\"Repeated\")\n",
        "           break\n",
        "      #print(n)\n",
        "\n",
        "\n"
      ],
      "execution_count": 112,
      "outputs": [
        {
          "output_type": "stream",
          "text": [
            "All sheet names ['Sheet1'] \n",
            "Total no of rows 10\n",
            "Total no of columns 9\n",
            "{\n",
            "\t\"parent_folder\" : \"801-Z6hTHMk9Ii\",\n",
            "\t\"name\" : \"North\"\n",
            "}\n",
            "Repeated\n",
            "Repeated\n",
            "Repeated\n",
            "Repeated\n",
            "Repeated\n",
            "Repeated\n",
            "Repeated\n",
            "Repeated\n"
          ],
          "name": "stdout"
        }
      ]
    },
    {
      "cell_type": "code",
      "metadata": {
        "id": "QX7v6WgJbaVN",
        "colab_type": "code",
        "colab": {
          "base_uri": "https://localhost:8080/",
          "height": 34
        },
        "outputId": "80f397e0-4e14-4806-d37d-4e5cc1368219"
      },
      "source": [
        "#print(zone_folder[0]['result']['id'])\n",
        "zone_id = zone_folder[0]['result']['id']\n",
        "print(zone_id)"
      ],
      "execution_count": 116,
      "outputs": [
        {
          "output_type": "stream",
          "text": [
            "801-z0T0Ov0LYQ\n"
          ],
          "name": "stdout"
        }
      ]
    },
    {
      "cell_type": "code",
      "metadata": {
        "colab_type": "code",
        "id": "j3vtqM9qoGol",
        "colab": {}
      },
      "source": [
        "\n",
        "def create_substate(statevalue,zone_id,token):\n",
        "      #cellvalue1 = list(cellvalue)\n",
        "      #if cellvalue not in cellvalue1:\n",
        "        url = \"https://api.cloud.jiosurveillance.com/folders?op=CREATE\"\n",
        "        payload = '{\\n\\t\\\"parent_folder\\\" : \\\"' + zone_id + '\\\",\\n\\t\\\"name\\\" : \\\"' + statevalue + \"\\\"\\n}\"\n",
        "        print(payload)\n",
        "        headers = {\n",
        "          'Content-Type': 'application/json',\n",
        "          'Authorization': 'Bearer %s' % token\n",
        "        }\n",
        "\n",
        "        response = requests.request(\"POST\", url, headers=headers, data=payload, timeout=6)\n",
        "        r = response.json()\n",
        "        return r\n",
        "        #cellvalue1.add(cellvalue)\n",
        "\n",
        "\n"
      ],
      "execution_count": 117,
      "outputs": []
    },
    {
      "cell_type": "code",
      "metadata": {
        "id": "byjQe9VKhlrx",
        "colab_type": "code",
        "colab": {
          "base_uri": "https://localhost:8080/",
          "height": 102
        },
        "outputId": "c78e6da1-903a-400a-a271-803584f0fc29"
      },
      "source": [
        "#print(n)\n",
        "#zone_id = n['result']['id']\n",
        "#print(zone_id)\n",
        "for sh in xlrd.open_workbook('/content/grp_test.xlsx').sheets():\n",
        "  northList = []\n",
        "  for row in range(1, sh.nrows):\n",
        "    for col in range(1, 3):\n",
        "      mycell = sh.cell(row,col).value\n",
        "      if mycell=='North':\n",
        "        statecell = sh.cell(row, col+1).value\n",
        "        #statecell.value = str(statecell.value)\n",
        "        if statecell.lower() in [name.lower() for name in northList]:\n",
        "          break\n",
        "        else:\n",
        "          northList.append(statecell)\n",
        "          print(\"NorthList contains following list\" + str(northList))\n",
        "          state_folder = create_substate(statecell,zone_id,token)\n",
        "          #print(\"Received folder id for NORTH is\" + folder_id[0])\n",
        "          #check_state_present = check_state_created(cell_content, folder_id)\n",
        "          #create_folder(folder_id[0], stateCell.value, token)"
      ],
      "execution_count": 118,
      "outputs": [
        {
          "output_type": "stream",
          "text": [
            "NorthList contains following list['Haryana']\n",
            "{\n",
            "\t\"parent_folder\" : \"801-z0T0Ov0LYQ\",\n",
            "\t\"name\" : \"Haryana\"\n",
            "}\n"
          ],
          "name": "stdout"
        }
      ]
    },
    {
      "cell_type": "code",
      "metadata": {
        "id": "wq_b2IBbcL1j",
        "colab_type": "code",
        "colab": {
          "base_uri": "https://localhost:8080/",
          "height": 34
        },
        "outputId": "d75bf66e-3ad2-440d-8822-7b495e3b8de1"
      },
      "source": [
        "print(state_folder['result']['id'])"
      ],
      "execution_count": 119,
      "outputs": [
        {
          "output_type": "stream",
          "text": [
            "801-zQ9qwG0HYd\n"
          ],
          "name": "stdout"
        }
      ]
    },
    {
      "cell_type": "code",
      "metadata": {
        "id": "IDvpP1ohuii0",
        "colab_type": "code",
        "colab": {}
      },
      "source": [
        "def create_town(townvalue,state_id,token):\n",
        "      #cellvalue1 = list(cellvalue)\n",
        "      #if cellvalue not in cellvalue1:\n",
        "        url = \"https://api.cloud.jiosurveillance.com/folders?op=CREATE\"\n",
        "        payload = '{\\n\\t\\\"parent_folder\\\" : \\\"' + state_id + '\\\",\\n\\t\\\"name\\\" : \\\"' + townvalue + \"\\\"\\n}\"\n",
        "        print(payload)\n",
        "        headers = {\n",
        "          'Content-Type': 'application/json',\n",
        "          'Authorization': 'Bearer %s' % token\n",
        "        }\n",
        "\n",
        "        response = requests.request(\"POST\", url, headers=headers, data=payload, timeout=10)\n",
        "        r = response.json()\n",
        "        return r\n",
        "        #cellvalue1.add(cellvalue)\n"
      ],
      "execution_count": 121,
      "outputs": []
    },
    {
      "cell_type": "code",
      "metadata": {
        "id": "nx29RnweqakG",
        "colab_type": "code",
        "colab": {
          "base_uri": "https://localhost:8080/",
          "height": 646
        },
        "outputId": "c35e072f-90d4-4343-f6ff-c5183503b300"
      },
      "source": [
        "#print(state_folder)\n",
        "state_id = state_folder['result']['id']\n",
        "print(state_id)\n",
        "for sh in xlrd.open_workbook('/content/grp_test.xlsx').sheets():\n",
        "  northtownList = []\n",
        "  town_folder=[]\n",
        "  for row in range(1, sh.nrows):\n",
        "    for col in range(1, 4):\n",
        "      mycell = sh.cell(row,col).value\n",
        "      for x in northList:\n",
        "        if mycell == x:\n",
        "          town = sh.cell(row, col+1).value\n",
        "        #statecell.value = str(statecell.value)\n",
        "          if town.lower() in [name.lower() for name in northtownList]:\n",
        "            break\n",
        "          else:\n",
        "            northtownList.append(town)\n",
        "            #print(\"NorthtownList contains following list\" + str(northtownList))\n",
        "            town_folder.append(create_town(town,state_id,token))\n",
        "          #print(\"Received folder id for NORTH is\" + folder_id[0])\n",
        "          #check_state_present = check_state_created(cell_content, folder_id)\n",
        "          #create_folder(folder_id[0], stateCell.value, token)\n"
      ],
      "execution_count": 123,
      "outputs": [
        {
          "output_type": "stream",
          "text": [
            "801-zQ9qwG0HYd\n",
            "{\n",
            "\t\"parent_folder\" : \"801-zQ9qwG0HYd\",\n",
            "\t\"name\" : \"Adampur\"\n",
            "}\n",
            "{\n",
            "\t\"parent_folder\" : \"801-zQ9qwG0HYd\",\n",
            "\t\"name\" : \"Badhra(40)\"\n",
            "}\n",
            "{\n",
            "\t\"parent_folder\" : \"801-zQ9qwG0HYd\",\n",
            "\t\"name\" : \"Bawal\"\n",
            "}\n",
            "{\n",
            "\t\"parent_folder\" : \"801-zQ9qwG0HYd\",\n",
            "\t\"name\" : \"Bawani Khera\"\n",
            "}\n",
            "{\n",
            "\t\"parent_folder\" : \"801-zQ9qwG0HYd\",\n",
            "\t\"name\" : \"Bilaspur\"\n",
            "}\n",
            "{\n",
            "\t\"parent_folder\" : \"801-zQ9qwG0HYd\",\n",
            "\t\"name\" : \"Chhachhrauli\"\n",
            "}\n",
            "{\n",
            "\t\"parent_folder\" : \"801-zQ9qwG0HYd\",\n",
            "\t\"name\" : \"Hathin\"\n",
            "}\n",
            "{\n",
            "\t\"parent_folder\" : \"801-zQ9qwG0HYd\",\n",
            "\t\"name\" : \"Julana\"\n",
            "}\n",
            "{\n",
            "\t\"parent_folder\" : \"801-zQ9qwG0HYd\",\n",
            "\t\"name\" : \"Kharkhoda\"\n",
            "}\n"
          ],
          "name": "stdout"
        }
      ]
    },
    {
      "cell_type": "code",
      "metadata": {
        "id": "g-qStjYcwwCF",
        "colab_type": "code",
        "colab": {
          "base_uri": "https://localhost:8080/",
          "height": 34
        },
        "outputId": "ae2d8e3c-0180-4eb7-f392-61fbe3b3b70a"
      },
      "source": [
        "#print(town_folder[0])\n",
        "town_id = []\n",
        "for x in range(len(town_folder)):\n",
        "  town_id.append(town_folder[x]['result']['id'])\n",
        "  #print(town_folder[x]['success']['id'])\n",
        "print(len(town_id))\n",
        "\n",
        "\n"
      ],
      "execution_count": 131,
      "outputs": [
        {
          "output_type": "stream",
          "text": [
            "9\n"
          ],
          "name": "stdout"
        }
      ]
    },
    {
      "cell_type": "code",
      "metadata": {
        "id": "LNgSW3Nf8Gg6",
        "colab_type": "code",
        "colab": {}
      },
      "source": [
        "def create_jp(jpvalue,town_id,token):\n",
        "      #cellvalue1 = list(cellvalue)\n",
        "      #if cellvalue not in cellvalue1:\n",
        "        url = \"https://api.cloud.jiosurveillance.com/folders?op=CREATE\"\n",
        "        payload = '{\\n\\t\\\"parent_folder\\\" : \\\"' + town_id + '\\\",\\n\\t\\\"name\\\" : \\\"' + jpvalue + \"\\\"\\n}\"\n",
        "        print(payload)\n",
        "        headers = {\n",
        "          'Content-Type': 'application/json',\n",
        "          'Authorization': 'Bearer %s' % token\n",
        "        }\n",
        "\n",
        "        response = requests.request(\"POST\", url, headers=headers, data=payload, timeout=10)\n",
        "        r = response.json()\n",
        "        return r\n",
        "        #cellvalue1.add(cellvalue)"
      ],
      "execution_count": 132,
      "outputs": []
    },
    {
      "cell_type": "code",
      "metadata": {
        "id": "r5PbTNyt7tYi",
        "colab_type": "code",
        "colab": {
          "base_uri": "https://localhost:8080/",
          "height": 629
        },
        "outputId": "2cdf9324-2415-4a52-b124-ac062d816f9c"
      },
      "source": [
        "#jplist = []\n",
        "for sh in xlrd.open_workbook('/content/grp_test.xlsx').sheets():\n",
        "  jplist = []\n",
        "  jp_folder = []\n",
        "  i=0\n",
        "  #print(northtownList)\n",
        "  for row in range(1, sh.nrows):\n",
        "    for col in range(1, 5):\n",
        "      mycell = sh.cell(row,col).value\n",
        "      #print(mycell)\n",
        "      for x in northtownList:\n",
        "        #print(x)\n",
        "        if mycell ==x :\n",
        "          #print(mycell,x)\n",
        "          jp = sh.cell(row,col+1).value\n",
        "          #print('jp',jp)\n",
        "          if jp.lower() in [name.lower() for name in jplist]:\n",
        "            break\n",
        "          else:\n",
        "            jplist.append(jp)\n",
        "            jp_folder.append(create_jp(jp,town_id[i],token))\n",
        "            i+=1"
      ],
      "execution_count": 133,
      "outputs": [
        {
          "output_type": "stream",
          "text": [
            "{\n",
            "\t\"parent_folder\" : \"801-ySxKVVhkT4\",\n",
            "\t\"name\" : \"Jio Point - Adampur-HR\"\n",
            "}\n",
            "{\n",
            "\t\"parent_folder\" : \"801-Ds5wDvDwzL\",\n",
            "\t\"name\" : \"Jio Point - Badhra(40)\"\n",
            "}\n",
            "{\n",
            "\t\"parent_folder\" : \"801-pK035W8kUj\",\n",
            "\t\"name\" : \"Jio Point - Bawal\"\n",
            "}\n",
            "{\n",
            "\t\"parent_folder\" : \"801-rZuu4NxksY\",\n",
            "\t\"name\" : \"Jio Point - Bawani Khera\"\n",
            "}\n",
            "{\n",
            "\t\"parent_folder\" : \"801-N20kR6eFV5\",\n",
            "\t\"name\" : \"Jio Point - Bilaspur-HR\"\n",
            "}\n",
            "{\n",
            "\t\"parent_folder\" : \"801-6SGvEJ8kWL\",\n",
            "\t\"name\" : \"Jio Point - Chhachhrauli\"\n",
            "}\n",
            "{\n",
            "\t\"parent_folder\" : \"801-bD9o0eYtB5\",\n",
            "\t\"name\" : \"Jio Point - Hathin\"\n",
            "}\n",
            "{\n",
            "\t\"parent_folder\" : \"801-ltmOwwcsWj\",\n",
            "\t\"name\" : \"Jio Point - Julana\"\n",
            "}\n",
            "{\n",
            "\t\"parent_folder\" : \"801-Wd9MxxHHjr\",\n",
            "\t\"name\" : \"Jio Point - Kharkhoda-HR\"\n",
            "}\n"
          ],
          "name": "stdout"
        }
      ]
    },
    {
      "cell_type": "code",
      "metadata": {
        "id": "iTS9v-VFBXaB",
        "colab_type": "code",
        "colab": {
          "base_uri": "https://localhost:8080/",
          "height": 54
        },
        "outputId": "f14d914d-67e0-4a7c-ac81-4dc915346fea"
      },
      "source": [
        "jp_idlist = []\n",
        "for x in range(len(jp_folder)):\n",
        "   jp_idlist.append(jp_folder[x]['result']['id'])\n",
        "   #print(jp_folder[x]['result']['id'])\n",
        "   #i=0\n",
        "print(jp_idlist)\n",
        "#for x in range(len(jp_idlist)):\n",
        "    #print(jp_idlist[1])\n",
        "    #i+=1"
      ],
      "execution_count": 135,
      "outputs": [
        {
          "output_type": "stream",
          "text": [
            "['801-GtuTzMY0N9', '801-rJ1fkTVGdD', '801-cwzGcSZKbb', '801-c7yBRNoPqR', '801-MyjsHq0V8M', '801-60aUDv3rMA', '801-EsvRz2Gjh6', '801-iqvCEGLkM1', '801-sw9XaLA1Ip']\n"
          ],
          "name": "stdout"
        }
      ]
    },
    {
      "cell_type": "code",
      "metadata": {
        "id": "OwBs3fv_ESKf",
        "colab_type": "code",
        "colab": {}
      },
      "source": [
        "def create_city(cityvalue,jp_id,token):\n",
        "      #cellvalue1 = list(cellvalue)\n",
        "      #if cellvalue not in cellvalue1:\n",
        "        url = \"https://api.cloud.jiosurveillance.com/folders?op=CREATE\"\n",
        "        payload = '{\\n\\t\\\"parent_folder\\\" : \\\"' + jp_id + '\\\",\\n\\t\\\"name\\\" : \\\"' + cityvalue + \"\\\"\\n}\"\n",
        "        print(payload)\n",
        "        headers = {\n",
        "          'Content-Type': 'application/json',\n",
        "          'Authorization': 'Bearer %s' % token\n",
        "        }\n",
        "\n",
        "        response = requests.request(\"POST\", url, headers=headers, data=payload, timeout=10)\n",
        "        r = response.json()\n",
        "        return r\n",
        "        #cellvalue1.add(cellvalue)"
      ],
      "execution_count": 136,
      "outputs": []
    },
    {
      "cell_type": "code",
      "metadata": {
        "id": "q0H3_a0bESyT",
        "colab_type": "code",
        "colab": {
          "base_uri": "https://localhost:8080/",
          "height": 629
        },
        "outputId": "27d1a2f9-12e6-4dd2-cf52-3bf71d5a5258"
      },
      "source": [
        "for sh in xlrd.open_workbook('/content/grp_test.xlsx').sheets():\n",
        "  jpcity = []\n",
        "  city_folder=[]\n",
        "  i=0\n",
        "  #print(northtownList)\n",
        "  for row in range(1, sh.nrows):\n",
        "    for col in range(1, 8):\n",
        "      mycell = sh.cell(row,col).value\n",
        "      #print(mycell)\n",
        "      for x in jplist:\n",
        "        #print(x)\n",
        "        if mycell ==x :\n",
        "          #print(mycell,x)\n",
        "          city = sh.cell(row,col+3).value\n",
        "          #print('jp',jp)\n",
        "          #if city.lower() in [name.lower() for name in jpcity]:\n",
        "            #break\n",
        "          #else:\n",
        "          jpcity.append(city)\n",
        "            #for x in jp_idlist:\n",
        "          city_folder.append(create_city(city,jp_idlist[i],token))\n",
        "          i+=1\n",
        "            \n",
        "#print(jpcity)"
      ],
      "execution_count": 137,
      "outputs": [
        {
          "output_type": "stream",
          "text": [
            "{\n",
            "\t\"parent_folder\" : \"801-GtuTzMY0N9\",\n",
            "\t\"name\" : \"Hisar\"\n",
            "}\n",
            "{\n",
            "\t\"parent_folder\" : \"801-rJ1fkTVGdD\",\n",
            "\t\"name\" : \"Charkhi Dadri (MC)\"\n",
            "}\n",
            "{\n",
            "\t\"parent_folder\" : \"801-cwzGcSZKbb\",\n",
            "\t\"name\" : \"Rewari\"\n",
            "}\n",
            "{\n",
            "\t\"parent_folder\" : \"801-c7yBRNoPqR\",\n",
            "\t\"name\" : \"Bhiwani\"\n",
            "}\n",
            "{\n",
            "\t\"parent_folder\" : \"801-MyjsHq0V8M\",\n",
            "\t\"name\" : \"Yamunanagar\"\n",
            "}\n",
            "{\n",
            "\t\"parent_folder\" : \"801-60aUDv3rMA\",\n",
            "\t\"name\" : \"Yamunanagar\"\n",
            "}\n",
            "{\n",
            "\t\"parent_folder\" : \"801-EsvRz2Gjh6\",\n",
            "\t\"name\" : \"Palwal\"\n",
            "}\n",
            "{\n",
            "\t\"parent_folder\" : \"801-iqvCEGLkM1\",\n",
            "\t\"name\" : \"Jind\"\n",
            "}\n",
            "{\n",
            "\t\"parent_folder\" : \"801-sw9XaLA1Ip\",\n",
            "\t\"name\" : \"Sonipat\"\n",
            "}\n"
          ],
          "name": "stdout"
        }
      ]
    },
    {
      "cell_type": "code",
      "metadata": {
        "id": "lMryxQx8OZ3p",
        "colab_type": "code",
        "colab": {
          "base_uri": "https://localhost:8080/",
          "height": 34
        },
        "outputId": "40bd6a6e-beba-410b-84fd-8f3e86527afb"
      },
      "source": [
        "#print(city_folder)\n",
        "city_idlist = []\n",
        "for x in range(len(city_folder)):\n",
        "   city_idlist.append(city_folder[x]['result']['id'])\n",
        "   #print(jp_folder[x]['result']['id'])\n",
        "print(len(city_idlist))"
      ],
      "execution_count": 138,
      "outputs": [
        {
          "output_type": "stream",
          "text": [
            "9\n"
          ],
          "name": "stdout"
        }
      ]
    },
    {
      "cell_type": "code",
      "metadata": {
        "id": "jzj-nbymSitP",
        "colab_type": "code",
        "colab": {}
      },
      "source": [
        "def create_mail(mailvalue,city_id,token):\n",
        "      #cellvalue1 = list(cellvalue)\n",
        "      #if cellvalue not in cellvalue1:\n",
        "        url = \"https://api.cloud.jiosurveillance.com/folders?op=CREATE\"\n",
        "        payload = '{\\n\\t\\\"parent_folder\\\" : \\\"' + city_id + '\\\",\\n\\t\\\"name\\\" : \\\"' + mailvalue + \"\\\"\\n}\"\n",
        "        print(payload)\n",
        "        headers = {\n",
        "          'Content-Type': 'application/json',\n",
        "          'Authorization': 'Bearer %s' % token\n",
        "        }\n",
        "\n",
        "        response = requests.request(\"POST\", url, headers=headers, data=payload, timeout=10)\n",
        "        r = response.json()\n",
        "        return r\n",
        "        #cellvalue1.add(cellvalue)"
      ],
      "execution_count": 139,
      "outputs": []
    },
    {
      "cell_type": "code",
      "metadata": {
        "id": "LTXYEFT_SbXl",
        "colab_type": "code",
        "colab": {
          "base_uri": "https://localhost:8080/",
          "height": 629
        },
        "outputId": "17e33027-9239-4f1a-fea2-550be92530cd"
      },
      "source": [
        "for sh in xlrd.open_workbook('/content/grp_test.xlsx').sheets():\n",
        "  jpmail = []\n",
        "  i=0\n",
        "  mail_folder = []\n",
        "  #print(northtownList)\n",
        "  for row in range(1, sh.nrows):\n",
        "    for col in range(1, 6):\n",
        "      mycell = sh.cell(row,col).value\n",
        "      #print(mycell)\n",
        "      for x in jplist:\n",
        "        #print(x)\n",
        "        if mycell ==x :\n",
        "          #print(mycell,x)\n",
        "          mail = sh.cell(row,col+1).value\n",
        "          #print('jp',jp)\n",
        "          if mail.lower() in [name.lower() for name in jpmail]:\n",
        "            break\n",
        "          else:\n",
        "            jpmail.append(mail)\n",
        "            mail_folder.append(create_mail(mail,city_idlist[i],token))\n",
        "            i+=1\n"
      ],
      "execution_count": 140,
      "outputs": [
        {
          "output_type": "stream",
          "text": [
            "{\n",
            "\t\"parent_folder\" : \"801-SELYlO0T5M\",\n",
            "\t\"name\" : \"jiopoint_hr.ibm1_adampur@zmail.ril.com\"\n",
            "}\n",
            "{\n",
            "\t\"parent_folder\" : \"801-5mBoZnvF85\",\n",
            "\t\"name\" : \"jiopoint_hr.ib67_badhra@zmail.ril.com\"\n",
            "}\n",
            "{\n",
            "\t\"parent_folder\" : \"801-D6VLKcauf8\",\n",
            "\t\"name\" : \"jiopoint_hr.ibl9_bawal@zmail.ril.com\"\n",
            "}\n",
            "{\n",
            "\t\"parent_folder\" : \"801-YdunVeeR6g\",\n",
            "\t\"name\" : \"jiopoint_hr.ibf2_bawanikhera@zmail.ril.com\"\n",
            "}\n",
            "{\n",
            "\t\"parent_folder\" : \"801-wMghauPsFs\",\n",
            "\t\"name\" : \"jiopoint_hr.ibak_bilaspur@zmail.ril.com\"\n",
            "}\n",
            "{\n",
            "\t\"parent_folder\" : \"801-fC2vpLdHFi\",\n",
            "\t\"name\" : \"jiopoint_hr.ibk7_chhachhrauli@zmail.ril.com\"\n",
            "}\n",
            "{\n",
            "\t\"parent_folder\" : \"801-CcxsSKu5is\",\n",
            "\t\"name\" : \"jiopoint_hr.ibf8_hathin@zmail.ril.com\"\n",
            "}\n",
            "{\n",
            "\t\"parent_folder\" : \"801-VMyG4HOpVl\",\n",
            "\t\"name\" : \"jiopoint_hr.ibf3_julana@zmail.ril.com\"\n",
            "}\n",
            "{\n",
            "\t\"parent_folder\" : \"801-2xQ2lHoNAd\",\n",
            "\t\"name\" : \"jiopoint_hr.iba4_kharkhoda@zmail.ril.com\"\n",
            "}\n"
          ],
          "name": "stdout"
        }
      ]
    }
  ]
}