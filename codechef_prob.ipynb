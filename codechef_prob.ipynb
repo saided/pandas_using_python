{
  "nbformat": 4,
  "nbformat_minor": 0,
  "metadata": {
    "colab": {
      "name": "Untitled21.ipynb",
      "provenance": [],
      "authorship_tag": "ABX9TyOPLpab1FHwbzFfFMrHGXIO",
      "include_colab_link": true
    },
    "kernelspec": {
      "name": "python3",
      "display_name": "Python 3"
    }
  },
  "cells": [
    {
      "cell_type": "markdown",
      "metadata": {
        "id": "view-in-github",
        "colab_type": "text"
      },
      "source": [
        "<a href=\"https://colab.research.google.com/github/saided/pandas_using_python/blob/master/codechef_prob.ipynb\" target=\"_parent\"><img src=\"https://colab.research.google.com/assets/colab-badge.svg\" alt=\"Open In Colab\"/></a>"
      ]
    },
    {
      "cell_type": "code",
      "metadata": {
        "id": "mnOL8wapAUL6",
        "colab_type": "code",
        "colab": {}
      },
      "source": [
        "t = int(input(''))\n",
        "for i in range(t):\n",
        "  total = 100\n",
        "  n = list((int(x) for x in (input('').split())))\n",
        "  N= n[0]\n",
        "  sum = n[1]\n",
        "  rem = total-sum\n",
        "  s = list((int(x) for x in (input('').split())))\n",
        "#print(l)\n",
        "  p = list((int(x) for x in (input('').split())))\n",
        "  d=[]\n",
        "  f=[]\n",
        "  found = False\n",
        "  for i in range(N):\n",
        "    if p[i]==0:\n",
        "      d.append(s[i])\n",
        "    elif p[i]==1:\n",
        "      f.append(s[i])\n",
        "  for i in range(len(d)):\n",
        "    for j in range(len(f)):\n",
        "      #print(d[i],f[j])\n",
        "      if d[i]+f[j]<= rem:\n",
        "        found =True\n",
        "        break\n",
        "  if found:\n",
        "    print('Yes')\n",
        "  else :\n",
        "    print('No')\n",
        "\n"
      ],
      "execution_count": 0,
      "outputs": []
    }
  ]
}