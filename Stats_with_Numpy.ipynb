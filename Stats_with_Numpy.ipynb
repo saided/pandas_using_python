{
  "nbformat": 4,
  "nbformat_minor": 0,
  "metadata": {
    "colab": {
      "name": "Untitled26.ipynb",
      "provenance": [],
      "authorship_tag": "ABX9TyM04iJEATV0Jq8hyFhLRiCC",
      "include_colab_link": true
    },
    "kernelspec": {
      "name": "python3",
      "display_name": "Python 3"
    }
  },
  "cells": [
    {
      "cell_type": "markdown",
      "metadata": {
        "id": "view-in-github",
        "colab_type": "text"
      },
      "source": [
        "<a href=\"https://colab.research.google.com/github/saided/pandas_using_python/blob/master/Stats_with_Numpy.ipynb\" target=\"_parent\"><img src=\"https://colab.research.google.com/assets/colab-badge.svg\" alt=\"Open In Colab\"/></a>"
      ]
    },
    {
      "cell_type": "markdown",
      "metadata": {
        "id": "Ju7fWRUAM5ok",
        "colab_type": "text"
      },
      "source": [
        "#stats with Numpy"
      ]
    },
    {
      "cell_type": "code",
      "metadata": {
        "id": "LhuV6xoZM2QJ",
        "colab_type": "code",
        "colab": {
          "base_uri": "https://localhost:8080/",
          "height": 34
        },
        "outputId": "87a5b12f-4c16-400e-e54d-6c999979b798"
      },
      "source": [
        "import numpy as np\n",
        "arr = np.random.rand(100000,)\n",
        "np.amin(arr)"
      ],
      "execution_count": 1,
      "outputs": [
        {
          "output_type": "execute_result",
          "data": {
            "text/plain": [
              "1.186770073835497e-05"
            ]
          },
          "metadata": {
            "tags": []
          },
          "execution_count": 1
        }
      ]
    },
    {
      "cell_type": "code",
      "metadata": {
        "id": "mTqoqmcfNbd9",
        "colab_type": "code",
        "colab": {
          "base_uri": "https://localhost:8080/",
          "height": 34
        },
        "outputId": "cc9ef602-af8c-471d-ec17-53efae117768"
      },
      "source": [
        "np.amax(arr)"
      ],
      "execution_count": 2,
      "outputs": [
        {
          "output_type": "execute_result",
          "data": {
            "text/plain": [
              "0.9999651649404268"
            ]
          },
          "metadata": {
            "tags": []
          },
          "execution_count": 2
        }
      ]
    },
    {
      "cell_type": "code",
      "metadata": {
        "id": "4s23M6oYNh4o",
        "colab_type": "code",
        "colab": {
          "base_uri": "https://localhost:8080/",
          "height": 34
        },
        "outputId": "188d314a-68f4-44dc-996a-a654e273b5ce"
      },
      "source": [
        "# To calculate the variance\n",
        "np.var(arr)"
      ],
      "execution_count": 3,
      "outputs": [
        {
          "output_type": "execute_result",
          "data": {
            "text/plain": [
              "0.08317257167423955"
            ]
          },
          "metadata": {
            "tags": []
          },
          "execution_count": 3
        }
      ]
    },
    {
      "cell_type": "code",
      "metadata": {
        "id": "nfTvbGclNn8d",
        "colab_type": "code",
        "colab": {
          "base_uri": "https://localhost:8080/",
          "height": 34
        },
        "outputId": "801c85f2-5e68-4698-9670-21ef5b95ad6a"
      },
      "source": [
        "#TO calculate the standard deviation\n",
        "np.std(arr)"
      ],
      "execution_count": 4,
      "outputs": [
        {
          "output_type": "execute_result",
          "data": {
            "text/plain": [
              "0.28839655281268456"
            ]
          },
          "metadata": {
            "tags": []
          },
          "execution_count": 4
        }
      ]
    },
    {
      "cell_type": "code",
      "metadata": {
        "id": "jsjTwCB1N12L",
        "colab_type": "code",
        "colab": {
          "base_uri": "https://localhost:8080/",
          "height": 34
        },
        "outputId": "584b79d4-0c6c-4e98-9499-552bc140135e"
      },
      "source": [
        "# to calculate the mean\n",
        "np.mean(arr)"
      ],
      "execution_count": 5,
      "outputs": [
        {
          "output_type": "execute_result",
          "data": {
            "text/plain": [
              "0.4994583449865205"
            ]
          },
          "metadata": {
            "tags": []
          },
          "execution_count": 5
        }
      ]
    },
    {
      "cell_type": "code",
      "metadata": {
        "id": "jaaN5j24N6uD",
        "colab_type": "code",
        "colab": {
          "base_uri": "https://localhost:8080/",
          "height": 34
        },
        "outputId": "65c1f71a-8d3a-4175-886c-485b52042d7b"
      },
      "source": [
        "# to claculate the Median\n",
        "np.median(arr)"
      ],
      "execution_count": 6,
      "outputs": [
        {
          "output_type": "execute_result",
          "data": {
            "text/plain": [
              "0.4993635938064149"
            ]
          },
          "metadata": {
            "tags": []
          },
          "execution_count": 6
        }
      ]
    },
    {
      "cell_type": "code",
      "metadata": {
        "id": "M01q6VwsOBCZ",
        "colab_type": "code",
        "colab": {
          "base_uri": "https://localhost:8080/",
          "height": 34
        },
        "outputId": "3a5c908b-0502-4431-b2a3-8cee600fad35"
      },
      "source": [
        "# to calculate the percentiles\n",
        "# 50th percentile\n",
        "np.percentile(arr ,50) # it will be close to the median"
      ],
      "execution_count": 7,
      "outputs": [
        {
          "output_type": "execute_result",
          "data": {
            "text/plain": [
              "0.4993635938064149"
            ]
          },
          "metadata": {
            "tags": []
          },
          "execution_count": 7
        }
      ]
    },
    {
      "cell_type": "code",
      "metadata": {
        "id": "4mRYPBUtOUEw",
        "colab_type": "code",
        "colab": {
          "base_uri": "https://localhost:8080/",
          "height": 34
        },
        "outputId": "d969c625-93f0-43b6-fc29-f6680e199555"
      },
      "source": [
        "# to calculate 10th and 90th percentiles\n",
        "np.percentile(arr,10)\n",
        "np.percentile(arr,90)\n"
      ],
      "execution_count": 10,
      "outputs": [
        {
          "output_type": "execute_result",
          "data": {
            "text/plain": [
              "0.8984966350836462"
            ]
          },
          "metadata": {
            "tags": []
          },
          "execution_count": 10
        }
      ]
    },
    {
      "cell_type": "code",
      "metadata": {
        "id": "vGn9nQULOnUo",
        "colab_type": "code",
        "colab": {
          "base_uri": "https://localhost:8080/",
          "height": 34
        },
        "outputId": "d3627a37-125f-4dfa-e385-6703b3e02ab9"
      },
      "source": [
        "# to calculate IQR ie 75th percentile - 25th percentile\n",
        "IQR = np.percentile(arr,75) - np.percentile(arr,25)\n",
        "IQR"
      ],
      "execution_count": 11,
      "outputs": [
        {
          "output_type": "execute_result",
          "data": {
            "text/plain": [
              "0.4999628218694028"
            ]
          },
          "metadata": {
            "tags": []
          },
          "execution_count": 11
        }
      ]
    },
    {
      "cell_type": "code",
      "metadata": {
        "id": "FGXcSKLLPKS1",
        "colab_type": "code",
        "colab": {
          "base_uri": "https://localhost:8080/",
          "height": 34
        },
        "outputId": "e8d547ec-c286-4e32-fbd9-5973ad59bfc4"
      },
      "source": [
        "quartiles  = np.percentile(arr,[25,50,75,100]) # we can give a list of percentiles that are to be calculated\n",
        "quartiles"
      ],
      "execution_count": 12,
      "outputs": [
        {
          "output_type": "execute_result",
          "data": {
            "text/plain": [
              "array([0.24901588, 0.49936359, 0.74897871, 0.99996516])"
            ]
          },
          "metadata": {
            "tags": []
          },
          "execution_count": 12
        }
      ]
    },
    {
      "cell_type": "code",
      "metadata": {
        "id": "gP6uyoVyPZ1R",
        "colab_type": "code",
        "colab": {
          "base_uri": "https://localhost:8080/",
          "height": 34
        },
        "outputId": "c5111880-64fc-489c-a86c-a11d0b044744"
      },
      "source": [
        "#now we can also IQR from  the above code.It requires less numpy calls\n",
        "iqr = quartiles[2]-quartiles[0]\n",
        "iqr"
      ],
      "execution_count": 13,
      "outputs": [
        {
          "output_type": "execute_result",
          "data": {
            "text/plain": [
              "0.4999628218694028"
            ]
          },
          "metadata": {
            "tags": []
          },
          "execution_count": 13
        }
      ]
    },
    {
      "cell_type": "code",
      "metadata": {
        "id": "rxn0GA3kP323",
        "colab_type": "code",
        "colab": {
          "base_uri": "https://localhost:8080/",
          "height": 51
        },
        "outputId": "44e8013a-20e1-44aa-d883-3a1a3ffc6f2a"
      },
      "source": [
        "# to calculate the z-score which tells us how far a data point is away from the mean in terms of std deviations\n",
        "# z = (x - mean)/std\n",
        "z_score = (arr - np.mean(arr))/np.std(arr)\n",
        "z_score "
      ],
      "execution_count": 15,
      "outputs": [
        {
          "output_type": "execute_result",
          "data": {
            "text/plain": [
              "array([ 1.34239391, -0.12374952,  0.89150887, ..., -1.41894429,\n",
              "       -1.05373948,  0.35302351])"
            ]
          },
          "metadata": {
            "tags": []
          },
          "execution_count": 15
        }
      ]
    },
    {
      "cell_type": "code",
      "metadata": {
        "id": "MegP-KMLQfLB",
        "colab_type": "code",
        "colab": {
          "base_uri": "https://localhost:8080/",
          "height": 102
        },
        "outputId": "4eda225d-6b74-4bf5-f142-d82615eaaffb"
      },
      "source": [
        "# Numerical representation of histograms\n",
        "np.histogram(arr)"
      ],
      "execution_count": 16,
      "outputs": [
        {
          "output_type": "execute_result",
          "data": {
            "text/plain": [
              "(array([10044,  9996, 10024,  9950, 10052, 10030,  9910, 10042, 10095,\n",
              "         9857]),\n",
              " array([1.18677007e-05, 1.00007197e-01, 2.00002527e-01, 2.99997857e-01,\n",
              "        3.99993187e-01, 4.99988516e-01, 5.99983846e-01, 6.99979176e-01,\n",
              "        7.99974505e-01, 8.99969835e-01, 9.99965165e-01]))"
            ]
          },
          "metadata": {
            "tags": []
          },
          "execution_count": 16
        }
      ]
    },
    {
      "cell_type": "code",
      "metadata": {
        "id": "nQ5pr4OyQv5v",
        "colab_type": "code",
        "colab": {}
      },
      "source": [
        "# in the above output we have two arrays\n",
        "# First arrays represents the frequencies\n",
        "# Second arrays represents the bin sizes. that is pos(0 to 1) reperesents one bin size and the first value in the first array represents its frequency\n"
      ],
      "execution_count": 0,
      "outputs": []
    },
    {
      "cell_type": "code",
      "metadata": {
        "id": "R7PgT2SiRYVw",
        "colab_type": "code",
        "colab": {
          "base_uri": "https://localhost:8080/",
          "height": 68
        },
        "outputId": "6425bb69-24bc-4bf8-c49b-da0b827a27b9"
      },
      "source": [
        "# we can also bins of our choice\n",
        "np.histogram(arr,bins=5)\n",
        "#pos(0-1) first bin\n",
        "#pos(1-2) second bin\n",
        "#pos(2-3) third bin\n",
        "#pos(3-4) fourth bin\n",
        "#pos(4-5) fifth bin\n",
        "\n",
        "# As first array values represents the frequencies of the bins respectively"
      ],
      "execution_count": 17,
      "outputs": [
        {
          "output_type": "execute_result",
          "data": {
            "text/plain": [
              "(array([20040, 19974, 20082, 19952, 19952]),\n",
              " array([1.18677007e-05, 2.00002527e-01, 3.99993187e-01, 5.99983846e-01,\n",
              "        7.99974505e-01, 9.99965165e-01]))"
            ]
          },
          "metadata": {
            "tags": []
          },
          "execution_count": 17
        }
      ]
    },
    {
      "cell_type": "code",
      "metadata": {
        "id": "qZkjoVZWSDaC",
        "colab_type": "code",
        "colab": {
          "base_uri": "https://localhost:8080/",
          "height": 34
        },
        "outputId": "5f3c87ac-5858-45f0-e084-1c5f74565b8d"
      },
      "source": [
        "# we can also give our own customized bins\n",
        "np.histogram(arr,bins=[0,0.25,0.5,0.75,1]) # here we have created 4 bin intervals each of size equal to 0.25\n",
        "# Accordingly we will get 4 frequency value sfor the respective bins in the first array"
      ],
      "execution_count": 18,
      "outputs": [
        {
          "output_type": "execute_result",
          "data": {
            "text/plain": [
              "(array([25091, 24975, 25033, 24901]), array([0.  , 0.25, 0.5 , 0.75, 1.  ]))"
            ]
          },
          "metadata": {
            "tags": []
          },
          "execution_count": 18
        }
      ]
    },
    {
      "cell_type": "code",
      "metadata": {
        "id": "HsbSQ1BbSr9G",
        "colab_type": "code",
        "colab": {
          "base_uri": "https://localhost:8080/",
          "height": 34
        },
        "outputId": "def39825-db1d-4313-ccee-72c87b0c6bd7"
      },
      "source": [
        "#we can also map points in the array to the respective bins\n",
        "arr1 = np.random.randint(10,20,(10))\n",
        "bins = [10,14,20]\n",
        "arr1\n"
      ],
      "execution_count": 24,
      "outputs": [
        {
          "output_type": "execute_result",
          "data": {
            "text/plain": [
              "array([16, 12, 11, 12, 11, 19, 17, 14, 13, 17])"
            ]
          },
          "metadata": {
            "tags": []
          },
          "execution_count": 24
        }
      ]
    },
    {
      "cell_type": "code",
      "metadata": {
        "id": "nHiUAX0zTyhe",
        "colab_type": "code",
        "colab": {
          "base_uri": "https://localhost:8080/",
          "height": 34
        },
        "outputId": "3b8fd53d-9ee3-4aa6-aadb-0c23080b6c3f"
      },
      "source": [
        "np.histogram(arr1,bins)\n",
        "# here we got that there are 5 values in each bins (10-14)and (14-20)\n",
        "# here 14 is exclusive of the interval 10-14 it is inclusive in 14-20 interval"
      ],
      "execution_count": 25,
      "outputs": [
        {
          "output_type": "execute_result",
          "data": {
            "text/plain": [
              "(array([5, 5]), array([10, 14, 20]))"
            ]
          },
          "metadata": {
            "tags": []
          },
          "execution_count": 25
        }
      ]
    },
    {
      "cell_type": "code",
      "metadata": {
        "id": "_lgE4c3WUBtM",
        "colab_type": "code",
        "colab": {
          "base_uri": "https://localhost:8080/",
          "height": 34
        },
        "outputId": "c7ae829c-aab5-4af2-bae3-0340fa5bb552"
      },
      "source": [
        "#now to map values in the array to the bins\n",
        "np.digitize(arr1,bins)"
      ],
      "execution_count": 26,
      "outputs": [
        {
          "output_type": "execute_result",
          "data": {
            "text/plain": [
              "array([2, 1, 1, 1, 1, 2, 2, 2, 1, 2])"
            ]
          },
          "metadata": {
            "tags": []
          },
          "execution_count": 26
        }
      ]
    },
    {
      "cell_type": "code",
      "metadata": {
        "id": "8YKC9TQKUO5y",
        "colab_type": "code",
        "colab": {
          "base_uri": "https://localhost:8080/",
          "height": 34
        },
        "outputId": "6d93404a-1750-4aac-b7c8-927198a0a24a"
      },
      "source": [
        "# in the above output 2 represents that the value at that point belongs to second bin(14-20) and 1 represents that the value belongs to the first bin(10-14)\n",
        "bins1 = [0,5,10]\n",
        "np.histogram(arr1,bins1)\n",
        "# First array is zero as there are no values in the arr1 for the intervals 0-5 and 5-10"
      ],
      "execution_count": 27,
      "outputs": [
        {
          "output_type": "execute_result",
          "data": {
            "text/plain": [
              "(array([0, 0]), array([ 0,  5, 10]))"
            ]
          },
          "metadata": {
            "tags": []
          },
          "execution_count": 27
        }
      ]
    },
    {
      "cell_type": "code",
      "metadata": {
        "id": "24SG6xTsV68f",
        "colab_type": "code",
        "colab": {
          "base_uri": "https://localhost:8080/",
          "height": 34
        },
        "outputId": "b36d4a70-defa-4248-e21f-fb4df2b27bb8"
      },
      "source": [
        "arr2 = np.random.randint(50,100,(100))\n",
        "arr3 =  np.random.randint(140,180,(100))\n",
        "arr4 =  np.random.randint(19,25,(100))\n",
        "# Now we want to merge all the arrays into ine for processing\n",
        "np.concatenate((arr2,arr3,arr4)).shape"
      ],
      "execution_count": 37,
      "outputs": [
        {
          "output_type": "execute_result",
          "data": {
            "text/plain": [
              "(300,)"
            ]
          },
          "metadata": {
            "tags": []
          },
          "execution_count": 37
        }
      ]
    },
    {
      "cell_type": "code",
      "metadata": {
        "id": "-y8tcQ3-X37i",
        "colab_type": "code",
        "colab": {}
      },
      "source": [
        "# so concatenate just add elements under each which is not useful to us we need something like the array of type (3,4) \n",
        "#where each row belongs to arr2,arr3,arr4 respectively\n",
        "# so for this we will use vstack and hstack"
      ],
      "execution_count": 0,
      "outputs": []
    },
    {
      "cell_type": "code",
      "metadata": {
        "id": "-ZpWmdWLYYPO",
        "colab_type": "code",
        "colab": {
          "base_uri": "https://localhost:8080/",
          "height": 425
        },
        "outputId": "d1b5d513-584d-4c16-80a2-81251936c42f"
      },
      "source": [
        "arr2d = np.vstack((arr2,arr3,arr4))\n",
        "arr2d\n",
        "#we will do Vstack if the columns are fixed for all the arrays"
      ],
      "execution_count": 39,
      "outputs": [
        {
          "output_type": "execute_result",
          "data": {
            "text/plain": [
              "array([[ 52,  92,  79,  98,  58,  67,  61,  81,  79,  90,  96,  96,  81,\n",
              "         60,  55,  56,  57,  80,  83,  80,  59,  73,  78,  54,  85,  70,\n",
              "         53,  51,  91,  64,  69,  66,  56,  82,  75,  77,  58,  94,  53,\n",
              "         58,  95,  58,  71,  94,  87,  93,  59,  86,  71,  64,  76,  50,\n",
              "         63,  65,  72,  89,  81,  87,  90,  87,  79,  82,  69,  52,  55,\n",
              "         60,  96,  64,  77,  62,  90,  57,  52,  95,  74,  72,  97,  65,\n",
              "         90,  63,  61,  98,  58,  86,  89,  57,  57,  71,  96,  77,  83,\n",
              "         63,  96,  73,  99,  71,  94,  70,  93,  78],\n",
              "       [145, 164, 140, 167, 172, 175, 156, 160, 178, 169, 154, 166, 166,\n",
              "        168, 167, 163, 149, 156, 174, 140, 140, 151, 161, 174, 178, 162,\n",
              "        153, 160, 156, 177, 152, 155, 174, 148, 141, 142, 148, 149, 150,\n",
              "        146, 163, 155, 176, 175, 159, 167, 156, 165, 165, 156, 160, 178,\n",
              "        168, 177, 162, 144, 147, 153, 165, 160, 165, 165, 162, 170, 157,\n",
              "        174, 140, 155, 153, 169, 147, 165, 171, 148, 144, 144, 175, 160,\n",
              "        156, 163, 150, 143, 158, 153, 151, 169, 176, 159, 160, 172, 141,\n",
              "        140, 156, 169, 161, 160, 160, 144, 165, 155],\n",
              "       [ 23,  19,  21,  19,  19,  21,  20,  19,  20,  24,  19,  19,  20,\n",
              "         23,  19,  21,  23,  23,  19,  19,  24,  19,  19,  22,  19,  24,\n",
              "         24,  21,  24,  20,  24,  21,  23,  21,  23,  22,  23,  19,  22,\n",
              "         24,  24,  20,  19,  22,  20,  24,  20,  19,  21,  24,  24,  19,\n",
              "         20,  21,  19,  22,  24,  24,  24,  21,  19,  22,  20,  23,  24,\n",
              "         19,  22,  22,  23,  19,  23,  24,  22,  23,  20,  24,  20,  21,\n",
              "         21,  24,  22,  20,  19,  21,  21,  22,  21,  22,  19,  19,  21,\n",
              "         20,  23,  22,  22,  21,  20,  22,  23,  19]])"
            ]
          },
          "metadata": {
            "tags": []
          },
          "execution_count": 39
        }
      ]
    },
    {
      "cell_type": "code",
      "metadata": {
        "id": "XAC2q1T9ZtrP",
        "colab_type": "code",
        "colab": {
          "base_uri": "https://localhost:8080/",
          "height": 34
        },
        "outputId": "d795e786-2b7c-4e8a-cfa0-a764f1ce2279"
      },
      "source": [
        "np.amin(arr2d,axis = 1) # it gives min value across the each row\n",
        "# if we dont give axis=1 then it prints out the min value from the whole array"
      ],
      "execution_count": 40,
      "outputs": [
        {
          "output_type": "execute_result",
          "data": {
            "text/plain": [
              "array([ 50, 140,  19])"
            ]
          },
          "metadata": {
            "tags": []
          },
          "execution_count": 40
        }
      ]
    },
    {
      "cell_type": "code",
      "metadata": {
        "id": "JuBzy0_gaFTy",
        "colab_type": "code",
        "colab": {
          "base_uri": "https://localhost:8080/",
          "height": 34
        },
        "outputId": "a8b8d1e9-170d-4fcf-d394-943baef50f7a"
      },
      "source": [
        "np.mean(arr2d,axis=1)"
      ],
      "execution_count": 41,
      "outputs": [
        {
          "output_type": "execute_result",
          "data": {
            "text/plain": [
              "array([ 74.26, 159.22,  21.33])"
            ]
          },
          "metadata": {
            "tags": []
          },
          "execution_count": 41
        }
      ]
    },
    {
      "cell_type": "code",
      "metadata": {
        "id": "JpBPO11Na0-w",
        "colab_type": "code",
        "colab": {}
      },
      "source": [
        "bins2 = [50,60,70,80,90,100]\n",
        "bins3 = [140,150,160,170,180]\n",
        "bins4 = [19,20,21,22,23,24,25]\n"
      ],
      "execution_count": 0,
      "outputs": []
    }
  ]
}