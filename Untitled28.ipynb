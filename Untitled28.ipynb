{
  "nbformat": 4,
  "nbformat_minor": 0,
  "metadata": {
    "colab": {
      "name": "Untitled28.ipynb",
      "provenance": [],
      "collapsed_sections": [],
      "authorship_tag": "ABX9TyNDex5e973hZEAlQpD/oK5i",
      "include_colab_link": true
    },
    "kernelspec": {
      "name": "python3",
      "display_name": "Python 3"
    }
  },
  "cells": [
    {
      "cell_type": "markdown",
      "metadata": {
        "id": "view-in-github",
        "colab_type": "text"
      },
      "source": [
        "<a href=\"https://colab.research.google.com/github/saided/pandas_using_python/blob/master/Untitled28.ipynb\" target=\"_parent\"><img src=\"https://colab.research.google.com/assets/colab-badge.svg\" alt=\"Open In Colab\"/></a>"
      ]
    },
    {
      "cell_type": "code",
      "metadata": {
        "id": "WUk5EPu6cros",
        "colab_type": "code",
        "colab": {
          "base_uri": "https://localhost:8080/",
          "height": 102
        },
        "outputId": "06f7c954-4ec9-4bcc-9b06-d4ca160fd861"
      },
      "source": [
        "import numpy as np\n",
        "arr = np.random.rand(5,2)\n",
        "arr"
      ],
      "execution_count": 1,
      "outputs": [
        {
          "output_type": "execute_result",
          "data": {
            "text/plain": [
              "array([[0.24286481, 0.04640727],\n",
              "       [0.24774176, 0.46757916],\n",
              "       [0.10487092, 0.41160695],\n",
              "       [0.09520894, 0.8312402 ],\n",
              "       [0.45634094, 0.85937744]])"
            ]
          },
          "metadata": {
            "tags": []
          },
          "execution_count": 1
        }
      ]
    },
    {
      "cell_type": "code",
      "metadata": {
        "id": "BHKZSbJXdEiu",
        "colab_type": "code",
        "colab": {
          "base_uri": "https://localhost:8080/",
          "height": 34
        },
        "outputId": "a5c7c5f8-3217-472e-e4ef-68e2cc3c6c24"
      },
      "source": [
        "mean= np.mean(arr)\n",
        "mean"
      ],
      "execution_count": 5,
      "outputs": [
        {
          "output_type": "execute_result",
          "data": {
            "text/plain": [
              "0.37632383750104326"
            ]
          },
          "metadata": {
            "tags": []
          },
          "execution_count": 5
        }
      ]
    },
    {
      "cell_type": "code",
      "metadata": {
        "id": "DNiMYHcndS8i",
        "colab_type": "code",
        "colab": {
          "base_uri": "https://localhost:8080/",
          "height": 102
        },
        "outputId": "b0153c9f-e3f2-4fc7-d6e1-b663b18c840a"
      },
      "source": [
        "np.histogram(arr,bins=[0,0.5,1]) #First array tells us about the frequency\n",
        "np.digitize(arr,bins=[0,0.5,1]) # 1 represents that element belongs to first interval 2 represents that element belongs to second interval"
      ],
      "execution_count": 9,
      "outputs": [
        {
          "output_type": "execute_result",
          "data": {
            "text/plain": [
              "array([[1, 1],\n",
              "       [1, 1],\n",
              "       [1, 1],\n",
              "       [1, 2],\n",
              "       [1, 2]])"
            ]
          },
          "metadata": {
            "tags": []
          },
          "execution_count": 9
        }
      ]
    },
    {
      "cell_type": "markdown",
      "metadata": {
        "id": "a7n0ECDCfGFd",
        "colab_type": "text"
      },
      "source": [
        "##Mean subtracted array has zero mean"
      ]
    },
    {
      "cell_type": "code",
      "metadata": {
        "id": "V1CGBdNGeNLQ",
        "colab_type": "code",
        "colab": {
          "base_uri": "https://localhost:8080/",
          "height": 102
        },
        "outputId": "1b7c2ec1-9412-48cf-dd18-e5fb796e0eb9"
      },
      "source": [
        "arr1 = arr-mean\n",
        "arr1 # this is the matrix of deviations"
      ],
      "execution_count": 12,
      "outputs": [
        {
          "output_type": "execute_result",
          "data": {
            "text/plain": [
              "array([[-0.13345903, -0.32991657],\n",
              "       [-0.12858208,  0.09125532],\n",
              "       [-0.27145292,  0.03528311],\n",
              "       [-0.2811149 ,  0.45491636],\n",
              "       [ 0.0800171 ,  0.4830536 ]])"
            ]
          },
          "metadata": {
            "tags": []
          },
          "execution_count": 12
        }
      ]
    },
    {
      "cell_type": "code",
      "metadata": {
        "id": "F9XN1EEOeeuD",
        "colab_type": "code",
        "colab": {
          "base_uri": "https://localhost:8080/",
          "height": 34
        },
        "outputId": "89b5199d-9b89-45b4-9b6a-29d5a56412dd"
      },
      "source": [
        "# now acc to rules of stats the mean of the deviations must be zero\n",
        "np.mean(arr1)"
      ],
      "execution_count": 13,
      "outputs": [
        {
          "output_type": "execute_result",
          "data": {
            "text/plain": [
              "0.0"
            ]
          },
          "metadata": {
            "tags": []
          },
          "execution_count": 13
        }
      ]
    },
    {
      "cell_type": "markdown",
      "metadata": {
        "id": "gbFJyjLzfdbW",
        "colab_type": "text"
      },
      "source": [
        "##Computing Mean from a smaller set of values(Sample)"
      ]
    },
    {
      "cell_type": "code",
      "metadata": {
        "id": "foD6XSHLfliQ",
        "colab_type": "code",
        "colab": {
          "base_uri": "https://localhost:8080/",
          "height": 34
        },
        "outputId": "8be57e93-498c-4683-94a1-0b58346e9e0f"
      },
      "source": [
        "arr = np.random.rand(50)\n",
        "arr\n",
        "np.mean(arr)"
      ],
      "execution_count": 21,
      "outputs": [
        {
          "output_type": "execute_result",
          "data": {
            "text/plain": [
              "0.5263682948731229"
            ]
          },
          "metadata": {
            "tags": []
          },
          "execution_count": 21
        }
      ]
    },
    {
      "cell_type": "code",
      "metadata": {
        "id": "X97SRGCgf-xk",
        "colab_type": "code",
        "colab": {
          "base_uri": "https://localhost:8080/",
          "height": 850
        },
        "outputId": "a8d64335-441d-401e-dc37-68c6ef733299"
      },
      "source": [
        "for k in range(1,50):\n",
        "  arr1 = arr[0:k]\n",
        "  print(k,np.mean(arr1)) # here we are printing mean for 1,2,3,...49 points from a total data of 50 points"
      ],
      "execution_count": 23,
      "outputs": [
        {
          "output_type": "stream",
          "text": [
            "1 0.43381499439049886\n",
            "2 0.3246708155453838\n",
            "3 0.36569816374863845\n",
            "4 0.3195463509421933\n",
            "5 0.2960486579495222\n",
            "6 0.26701524019445005\n",
            "7 0.2667274534167052\n",
            "8 0.27415103212016406\n",
            "9 0.32798420849893684\n",
            "10 0.33689401192572654\n",
            "11 0.37027512147544356\n",
            "12 0.3954829846905801\n",
            "13 0.40600020424088396\n",
            "14 0.44069457616199786\n",
            "15 0.45452093580597447\n",
            "16 0.46853376998283325\n",
            "17 0.4826579785058585\n",
            "18 0.4754540257618946\n",
            "19 0.4748377709466247\n",
            "20 0.497712391076884\n",
            "21 0.48210646689452075\n",
            "22 0.501114610583199\n",
            "23 0.49473707188851995\n",
            "24 0.504761914304261\n",
            "25 0.520085625599819\n",
            "26 0.5218304303957706\n",
            "27 0.5208819167883869\n",
            "28 0.5217737301740648\n",
            "29 0.537464077929108\n",
            "30 0.5303755705159658\n",
            "31 0.5376541070007732\n",
            "32 0.551503287951484\n",
            "33 0.5425283112795081\n",
            "34 0.541161773876968\n",
            "35 0.5520165618430498\n",
            "36 0.5593924849613457\n",
            "37 0.5623193810367675\n",
            "38 0.5717442227199773\n",
            "39 0.5598735183701727\n",
            "40 0.5605844559888687\n",
            "41 0.5567194269849587\n",
            "42 0.5574015497165742\n",
            "43 0.5547524645084553\n",
            "44 0.5486710209262461\n",
            "45 0.5477948505294657\n",
            "46 0.5410748396647194\n",
            "47 0.5425843654956893\n",
            "48 0.5344056531117501\n",
            "49 0.5266989226447423\n"
          ],
          "name": "stdout"
        }
      ]
    },
    {
      "cell_type": "code",
      "metadata": {
        "id": "hHGOExSehY44",
        "colab_type": "code",
        "colab": {
          "base_uri": "https://localhost:8080/",
          "height": 187
        },
        "outputId": "39700ce2-0689-405e-bd8c-bd2d893f058b"
      },
      "source": [
        "# we can also write above code like this\n",
        "np.cumsum(arr)/np.arange(1,51)"
      ],
      "execution_count": 27,
      "outputs": [
        {
          "output_type": "execute_result",
          "data": {
            "text/plain": [
              "array([0.43381499, 0.32467082, 0.36569816, 0.31954635, 0.29604866,\n",
              "       0.26701524, 0.26672745, 0.27415103, 0.32798421, 0.33689401,\n",
              "       0.37027512, 0.39548298, 0.4060002 , 0.44069458, 0.45452094,\n",
              "       0.46853377, 0.48265798, 0.47545403, 0.47483777, 0.49771239,\n",
              "       0.48210647, 0.50111461, 0.49473707, 0.50476191, 0.52008563,\n",
              "       0.52183043, 0.52088192, 0.52177373, 0.53746408, 0.53037557,\n",
              "       0.53765411, 0.55150329, 0.54252831, 0.54116177, 0.55201656,\n",
              "       0.55939248, 0.56231938, 0.57174422, 0.55987352, 0.56058446,\n",
              "       0.55671943, 0.55740155, 0.55475246, 0.54867102, 0.54779485,\n",
              "       0.54107484, 0.54258437, 0.53440565, 0.52669892, 0.52636829])"
            ]
          },
          "metadata": {
            "tags": []
          },
          "execution_count": 27
        }
      ]
    },
    {
      "cell_type": "markdown",
      "metadata": {
        "id": "YHsDFk8OiEGU",
        "colab_type": "text"
      },
      "source": [
        "##Effect of outliers on mean and median"
      ]
    },
    {
      "cell_type": "code",
      "metadata": {
        "id": "pOEvV9p8h66X",
        "colab_type": "code",
        "colab": {
          "base_uri": "https://localhost:8080/",
          "height": 119
        },
        "outputId": "a6049c73-5342-4548-c660-a2bda90e1963"
      },
      "source": [
        "# mean gets affected by outliers but median does not\n",
        "arr = np.random.randint(1,100,100)\n",
        "arr"
      ],
      "execution_count": 30,
      "outputs": [
        {
          "output_type": "execute_result",
          "data": {
            "text/plain": [
              "array([86, 27, 23, 86, 25, 73, 22, 93, 24, 25, 13, 37, 91, 21, 80, 88, 13,\n",
              "       29, 73, 88, 82, 55, 84, 96, 69, 37, 98, 60, 45, 44, 15, 10, 94, 16,\n",
              "       63, 25, 80, 27, 34, 57, 51, 48, 28, 71, 24, 91,  4, 59, 35, 68, 51,\n",
              "       29, 33, 54, 57, 10, 59, 50, 58, 96, 69, 59, 56, 46, 78, 50, 62, 78,\n",
              "       82, 74,  6, 16, 44, 89, 24, 61, 64, 56, 44, 98, 45, 68, 76,  5, 78,\n",
              "       27, 72, 79, 20, 58, 96, 44, 65, 69, 42, 59, 59, 85, 64, 37])"
            ]
          },
          "metadata": {
            "tags": []
          },
          "execution_count": 30
        }
      ]
    },
    {
      "cell_type": "code",
      "metadata": {
        "id": "-3-NG95YoZem",
        "colab_type": "code",
        "colab": {
          "base_uri": "https://localhost:8080/",
          "height": 34
        },
        "outputId": "11ae7d54-69a5-4c2a-b2e6-02a1b9776834"
      },
      "source": [
        "#before adding outliers\n",
        "np.mean(arr)"
      ],
      "execution_count": 31,
      "outputs": [
        {
          "output_type": "execute_result",
          "data": {
            "text/plain": [
              "53.88"
            ]
          },
          "metadata": {
            "tags": []
          },
          "execution_count": 31
        }
      ]
    },
    {
      "cell_type": "code",
      "metadata": {
        "id": "GNpwtevxofjl",
        "colab_type": "code",
        "colab": {
          "base_uri": "https://localhost:8080/",
          "height": 34
        },
        "outputId": "8f8913a4-1f32-499b-917d-f52ce281a9ce"
      },
      "source": [
        "np.median(arr)"
      ],
      "execution_count": 33,
      "outputs": [
        {
          "output_type": "execute_result",
          "data": {
            "text/plain": [
              "57.0"
            ]
          },
          "metadata": {
            "tags": []
          },
          "execution_count": 33
        }
      ]
    },
    {
      "cell_type": "code",
      "metadata": {
        "id": "HrK45e-QomcW",
        "colab_type": "code",
        "colab": {}
      },
      "source": [
        "#Now we will add some outliers\n",
        "arr = np.append(arr,[1000,2000,2500])"
      ],
      "execution_count": 0,
      "outputs": []
    },
    {
      "cell_type": "code",
      "metadata": {
        "id": "UKGYCkMnove0",
        "colab_type": "code",
        "colab": {
          "base_uri": "https://localhost:8080/",
          "height": 34
        },
        "outputId": "1d09a329-0180-448f-c44a-40e032e584cc"
      },
      "source": [
        "#Now calculating meana and median after adding outliers\n",
        "np.mean(arr)\n",
        "#As we can see mean is affected largely it is doubled!!!!!"
      ],
      "execution_count": 40,
      "outputs": [
        {
          "output_type": "execute_result",
          "data": {
            "text/plain": [
              "105.70873786407768"
            ]
          },
          "metadata": {
            "tags": []
          },
          "execution_count": 40
        }
      ]
    },
    {
      "cell_type": "code",
      "metadata": {
        "id": "krVZ7YUApU1Y",
        "colab_type": "code",
        "colab": {
          "base_uri": "https://localhost:8080/",
          "height": 34
        },
        "outputId": "d578c0ee-1d84-4e5d-f08c-280ac35e2035"
      },
      "source": [
        "np.median(arr)\n",
        "#Here median is not affected very much"
      ],
      "execution_count": 42,
      "outputs": [
        {
          "output_type": "execute_result",
          "data": {
            "text/plain": [
              "58.0"
            ]
          },
          "metadata": {
            "tags": []
          },
          "execution_count": 42
        }
      ]
    }
  ]
}