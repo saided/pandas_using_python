{
  "nbformat": 4,
  "nbformat_minor": 0,
  "metadata": {
    "colab": {
      "name": "Copy of Untitled1.ipynb",
      "provenance": [],
      "authorship_tag": "ABX9TyPtLArLMrquB9AuyKhRNGeS",
      "include_colab_link": true
    },
    "kernelspec": {
      "name": "python3",
      "display_name": "Python 3"
    }
  },
  "cells": [
    {
      "cell_type": "markdown",
      "metadata": {
        "id": "view-in-github",
        "colab_type": "text"
      },
      "source": [
        "<a href=\"https://colab.research.google.com/github/saided/pandas_using_python/blob/master/Bmi_index.ipynb\" target=\"_parent\"><img src=\"https://colab.research.google.com/assets/colab-badge.svg\" alt=\"Open In Colab\"/></a>"
      ]
    },
    {
      "cell_type": "code",
      "metadata": {
        "id": "y3DMynlkFzLi",
        "colab_type": "code",
        "outputId": "2950771a-3154-4f65-c7c7-5d444645cf96",
        "colab": {
          "base_uri": "https://localhost:8080/",
          "height": 119
        }
      },
      "source": [
        "weight = int(input(\"Enter the weight in kgs\"))\n",
        "height = input('What is your preferred unit of height? Type \"F\" for feet and \"M\" for meters')\n",
        "if height == 'F':\n",
        "  feet = int(input('You will enter your height given as feet and inches. First enter feet'))\n",
        "  inches = int(input('\"Now enter inches'))\n",
        "  height_in_meters = (feet*0.3048)+(inches*0.0254)\n",
        "\n",
        "elif height == 'M':\n",
        "  height_in_meters = float(input('What is your height in meters:'))\n",
        "\n",
        "BMI = (weight)/((height_in_meters)**2)\n",
        "print('Your bmi is',BMI)\n",
        "if BMI < 18.5:\n",
        "  print('UNDERWEIGHT')\n",
        "elif 18.5 <= BMI < 25 :\n",
        "  print('NORMAL')\n",
        "elif 25 <= BMI < 30 :\n",
        "  print('OVERWEIGHT')\n",
        "elif BMI > 30 :\n",
        "  print('VERY-OVERWEIGHT')"
      ],
      "execution_count": 0,
      "outputs": [
        {
          "output_type": "stream",
          "text": [
            "Enter the weight in kgs74\n",
            "What is your preferred unit of height? Type \"F\" for feet and \"M\" for metersF\n",
            "You will enter your height given as feet and inches. First enter feet5\n",
            "\"Now enter inches8\n",
            "Your bmi is 24.80541293262517\n",
            "NORMAL\n"
          ],
          "name": "stdout"
        }
      ]
    }
  ]
}