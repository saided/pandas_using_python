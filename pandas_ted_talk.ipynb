{
  "nbformat": 4,
  "nbformat_minor": 0,
  "metadata": {
    "colab": {
      "name": "Untitled33.ipynb",
      "provenance": [],
      "authorship_tag": "ABX9TyMFr28dRdKDpn/k2+8k/iiw",
      "include_colab_link": true
    },
    "kernelspec": {
      "name": "python3",
      "display_name": "Python 3"
    }
  },
  "cells": [
    {
      "cell_type": "markdown",
      "metadata": {
        "id": "view-in-github",
        "colab_type": "text"
      },
      "source": [
        "<a href=\"https://colab.research.google.com/github/saided/pandas_using_python/blob/master/pandas_ted_talk.ipynb\" target=\"_parent\"><img src=\"https://colab.research.google.com/assets/colab-badge.svg\" alt=\"Open In Colab\"/></a>"
      ]
    },
    {
      "cell_type": "code",
      "metadata": {
        "id": "C9tbqJ9kLrg0",
        "colab_type": "code",
        "colab": {
          "base_uri": "https://localhost:8080/",
          "height": 595
        },
        "outputId": "0e7fe1cb-2554-4fb6-8ef5-e81e7cab049d"
      },
      "source": [
        "import pandas as pd\n",
        "df = pd.read_csv('ted.csv')\n",
        "print(df.head())\n",
        "print(df.columns)\n",
        "df[['speaker_occupation']].tail(15)\n",
        "print(df['main_speaker'][df.speaker_occupation=='Author'])\n",
        "#print(df[df.views.max()])"
      ],
      "execution_count": 28,
      "outputs": [
        {
          "output_type": "stream",
          "text": [
            "   comments  ...     views\n",
            "0      4553  ...  47227110\n",
            "1       265  ...   3200520\n",
            "2       124  ...   1636292\n",
            "3       200  ...   1697550\n",
            "4       593  ...  12005869\n",
            "\n",
            "[5 rows x 17 columns]\n",
            "Index(['comments', 'description', 'duration', 'event', 'film_date',\n",
            "       'languages', 'main_speaker', 'name', 'num_speaker', 'published_date',\n",
            "       'ratings', 'related_talks', 'speaker_occupation', 'tags', 'title',\n",
            "       'url', 'views'],\n",
            "      dtype='object')\n",
            "50             Robert Neuwirth\n",
            "261                  AJ Jacobs\n",
            "355           Benjamin Wallace\n",
            "594           Edwidge Danticat\n",
            "607                 JK Rowling\n",
            "656           Elizabeth Pisani\n",
            "1040    Guy-Philippe Goldstein\n",
            "1100                 AJ Jacobs\n",
            "1297           Tracy Chevalier\n",
            "1320           Robert Neuwirth\n",
            "1766                 AJ Jacobs\n",
            "1772             Shaka Senghor\n",
            "2054              Taiye Selasi\n",
            "2102            Paul Greenberg\n",
            "2211          Lidia Yuknavitch\n",
            "2288                J.D. Vance\n",
            "2347           Laura Vanderkam\n",
            "2399             Caroline Paul\n",
            "2534            Benjamin Grant\n",
            "2537      Emily Esfahani Smith\n",
            "Name: main_speaker, dtype: object\n"
          ],
          "name": "stdout"
        }
      ]
    },
    {
      "cell_type": "code",
      "metadata": {
        "id": "vBXa_NKEfv9L",
        "colab_type": "code",
        "colab": {
          "base_uri": "https://localhost:8080/",
          "height": 34
        },
        "outputId": "e2013c21-b1cd-46ff-df26-bbc3a2556e5c"
      },
      "source": [
        "df.shape"
      ],
      "execution_count": 16,
      "outputs": [
        {
          "output_type": "execute_result",
          "data": {
            "text/plain": [
              "(2550, 17)"
            ]
          },
          "metadata": {
            "tags": []
          },
          "execution_count": 16
        }
      ]
    },
    {
      "cell_type": "code",
      "metadata": {
        "id": "LihBOEvef0TM",
        "colab_type": "code",
        "colab": {
          "base_uri": "https://localhost:8080/",
          "height": 323
        },
        "outputId": "ef691109-723f-4775-bca7-67adb324538d"
      },
      "source": [
        "df.dtypes\n",
        "# object means it can be a string object or any of the python objects like lists dictionaries etc"
      ],
      "execution_count": 20,
      "outputs": [
        {
          "output_type": "execute_result",
          "data": {
            "text/plain": [
              "comments               int64\n",
              "description           object\n",
              "duration               int64\n",
              "event                 object\n",
              "film_date              int64\n",
              "languages              int64\n",
              "main_speaker          object\n",
              "name                  object\n",
              "num_speaker            int64\n",
              "published_date         int64\n",
              "ratings               object\n",
              "related_talks         object\n",
              "speaker_occupation    object\n",
              "tags                  object\n",
              "title                 object\n",
              "url                   object\n",
              "views                  int64\n",
              "dtype: object"
            ]
          },
          "metadata": {
            "tags": []
          },
          "execution_count": 20
        }
      ]
    },
    {
      "cell_type": "code",
      "metadata": {
        "id": "yViGm_rXgILV",
        "colab_type": "code",
        "colab": {
          "base_uri": "https://localhost:8080/",
          "height": 439
        },
        "outputId": "14ee65e9-69ae-4976-ce3b-717641b47616"
      },
      "source": [
        "df.isna() # it gives out true if there is any missing values in the data"
      ],
      "execution_count": 21,
      "outputs": [
        {
          "output_type": "execute_result",
          "data": {
            "text/html": [
              "<div>\n",
              "<style scoped>\n",
              "    .dataframe tbody tr th:only-of-type {\n",
              "        vertical-align: middle;\n",
              "    }\n",
              "\n",
              "    .dataframe tbody tr th {\n",
              "        vertical-align: top;\n",
              "    }\n",
              "\n",
              "    .dataframe thead th {\n",
              "        text-align: right;\n",
              "    }\n",
              "</style>\n",
              "<table border=\"1\" class=\"dataframe\">\n",
              "  <thead>\n",
              "    <tr style=\"text-align: right;\">\n",
              "      <th></th>\n",
              "      <th>comments</th>\n",
              "      <th>description</th>\n",
              "      <th>duration</th>\n",
              "      <th>event</th>\n",
              "      <th>film_date</th>\n",
              "      <th>languages</th>\n",
              "      <th>main_speaker</th>\n",
              "      <th>name</th>\n",
              "      <th>num_speaker</th>\n",
              "      <th>published_date</th>\n",
              "      <th>ratings</th>\n",
              "      <th>related_talks</th>\n",
              "      <th>speaker_occupation</th>\n",
              "      <th>tags</th>\n",
              "      <th>title</th>\n",
              "      <th>url</th>\n",
              "      <th>views</th>\n",
              "    </tr>\n",
              "  </thead>\n",
              "  <tbody>\n",
              "    <tr>\n",
              "      <th>0</th>\n",
              "      <td>False</td>\n",
              "      <td>False</td>\n",
              "      <td>False</td>\n",
              "      <td>False</td>\n",
              "      <td>False</td>\n",
              "      <td>False</td>\n",
              "      <td>False</td>\n",
              "      <td>False</td>\n",
              "      <td>False</td>\n",
              "      <td>False</td>\n",
              "      <td>False</td>\n",
              "      <td>False</td>\n",
              "      <td>False</td>\n",
              "      <td>False</td>\n",
              "      <td>False</td>\n",
              "      <td>False</td>\n",
              "      <td>False</td>\n",
              "    </tr>\n",
              "    <tr>\n",
              "      <th>1</th>\n",
              "      <td>False</td>\n",
              "      <td>False</td>\n",
              "      <td>False</td>\n",
              "      <td>False</td>\n",
              "      <td>False</td>\n",
              "      <td>False</td>\n",
              "      <td>False</td>\n",
              "      <td>False</td>\n",
              "      <td>False</td>\n",
              "      <td>False</td>\n",
              "      <td>False</td>\n",
              "      <td>False</td>\n",
              "      <td>False</td>\n",
              "      <td>False</td>\n",
              "      <td>False</td>\n",
              "      <td>False</td>\n",
              "      <td>False</td>\n",
              "    </tr>\n",
              "    <tr>\n",
              "      <th>2</th>\n",
              "      <td>False</td>\n",
              "      <td>False</td>\n",
              "      <td>False</td>\n",
              "      <td>False</td>\n",
              "      <td>False</td>\n",
              "      <td>False</td>\n",
              "      <td>False</td>\n",
              "      <td>False</td>\n",
              "      <td>False</td>\n",
              "      <td>False</td>\n",
              "      <td>False</td>\n",
              "      <td>False</td>\n",
              "      <td>False</td>\n",
              "      <td>False</td>\n",
              "      <td>False</td>\n",
              "      <td>False</td>\n",
              "      <td>False</td>\n",
              "    </tr>\n",
              "    <tr>\n",
              "      <th>3</th>\n",
              "      <td>False</td>\n",
              "      <td>False</td>\n",
              "      <td>False</td>\n",
              "      <td>False</td>\n",
              "      <td>False</td>\n",
              "      <td>False</td>\n",
              "      <td>False</td>\n",
              "      <td>False</td>\n",
              "      <td>False</td>\n",
              "      <td>False</td>\n",
              "      <td>False</td>\n",
              "      <td>False</td>\n",
              "      <td>False</td>\n",
              "      <td>False</td>\n",
              "      <td>False</td>\n",
              "      <td>False</td>\n",
              "      <td>False</td>\n",
              "    </tr>\n",
              "    <tr>\n",
              "      <th>4</th>\n",
              "      <td>False</td>\n",
              "      <td>False</td>\n",
              "      <td>False</td>\n",
              "      <td>False</td>\n",
              "      <td>False</td>\n",
              "      <td>False</td>\n",
              "      <td>False</td>\n",
              "      <td>False</td>\n",
              "      <td>False</td>\n",
              "      <td>False</td>\n",
              "      <td>False</td>\n",
              "      <td>False</td>\n",
              "      <td>False</td>\n",
              "      <td>False</td>\n",
              "      <td>False</td>\n",
              "      <td>False</td>\n",
              "      <td>False</td>\n",
              "    </tr>\n",
              "    <tr>\n",
              "      <th>...</th>\n",
              "      <td>...</td>\n",
              "      <td>...</td>\n",
              "      <td>...</td>\n",
              "      <td>...</td>\n",
              "      <td>...</td>\n",
              "      <td>...</td>\n",
              "      <td>...</td>\n",
              "      <td>...</td>\n",
              "      <td>...</td>\n",
              "      <td>...</td>\n",
              "      <td>...</td>\n",
              "      <td>...</td>\n",
              "      <td>...</td>\n",
              "      <td>...</td>\n",
              "      <td>...</td>\n",
              "      <td>...</td>\n",
              "      <td>...</td>\n",
              "    </tr>\n",
              "    <tr>\n",
              "      <th>2545</th>\n",
              "      <td>False</td>\n",
              "      <td>False</td>\n",
              "      <td>False</td>\n",
              "      <td>False</td>\n",
              "      <td>False</td>\n",
              "      <td>False</td>\n",
              "      <td>False</td>\n",
              "      <td>False</td>\n",
              "      <td>False</td>\n",
              "      <td>False</td>\n",
              "      <td>False</td>\n",
              "      <td>False</td>\n",
              "      <td>False</td>\n",
              "      <td>False</td>\n",
              "      <td>False</td>\n",
              "      <td>False</td>\n",
              "      <td>False</td>\n",
              "    </tr>\n",
              "    <tr>\n",
              "      <th>2546</th>\n",
              "      <td>False</td>\n",
              "      <td>False</td>\n",
              "      <td>False</td>\n",
              "      <td>False</td>\n",
              "      <td>False</td>\n",
              "      <td>False</td>\n",
              "      <td>False</td>\n",
              "      <td>False</td>\n",
              "      <td>False</td>\n",
              "      <td>False</td>\n",
              "      <td>False</td>\n",
              "      <td>False</td>\n",
              "      <td>False</td>\n",
              "      <td>False</td>\n",
              "      <td>False</td>\n",
              "      <td>False</td>\n",
              "      <td>False</td>\n",
              "    </tr>\n",
              "    <tr>\n",
              "      <th>2547</th>\n",
              "      <td>False</td>\n",
              "      <td>False</td>\n",
              "      <td>False</td>\n",
              "      <td>False</td>\n",
              "      <td>False</td>\n",
              "      <td>False</td>\n",
              "      <td>False</td>\n",
              "      <td>False</td>\n",
              "      <td>False</td>\n",
              "      <td>False</td>\n",
              "      <td>False</td>\n",
              "      <td>False</td>\n",
              "      <td>False</td>\n",
              "      <td>False</td>\n",
              "      <td>False</td>\n",
              "      <td>False</td>\n",
              "      <td>False</td>\n",
              "    </tr>\n",
              "    <tr>\n",
              "      <th>2548</th>\n",
              "      <td>False</td>\n",
              "      <td>False</td>\n",
              "      <td>False</td>\n",
              "      <td>False</td>\n",
              "      <td>False</td>\n",
              "      <td>False</td>\n",
              "      <td>False</td>\n",
              "      <td>False</td>\n",
              "      <td>False</td>\n",
              "      <td>False</td>\n",
              "      <td>False</td>\n",
              "      <td>False</td>\n",
              "      <td>False</td>\n",
              "      <td>False</td>\n",
              "      <td>False</td>\n",
              "      <td>False</td>\n",
              "      <td>False</td>\n",
              "    </tr>\n",
              "    <tr>\n",
              "      <th>2549</th>\n",
              "      <td>False</td>\n",
              "      <td>False</td>\n",
              "      <td>False</td>\n",
              "      <td>False</td>\n",
              "      <td>False</td>\n",
              "      <td>False</td>\n",
              "      <td>False</td>\n",
              "      <td>False</td>\n",
              "      <td>False</td>\n",
              "      <td>False</td>\n",
              "      <td>False</td>\n",
              "      <td>False</td>\n",
              "      <td>False</td>\n",
              "      <td>False</td>\n",
              "      <td>False</td>\n",
              "      <td>False</td>\n",
              "      <td>False</td>\n",
              "    </tr>\n",
              "  </tbody>\n",
              "</table>\n",
              "<p>2550 rows × 17 columns</p>\n",
              "</div>"
            ],
            "text/plain": [
              "      comments  description  duration  event  ...   tags  title    url  views\n",
              "0        False        False     False  False  ...  False  False  False  False\n",
              "1        False        False     False  False  ...  False  False  False  False\n",
              "2        False        False     False  False  ...  False  False  False  False\n",
              "3        False        False     False  False  ...  False  False  False  False\n",
              "4        False        False     False  False  ...  False  False  False  False\n",
              "...        ...          ...       ...    ...  ...    ...    ...    ...    ...\n",
              "2545     False        False     False  False  ...  False  False  False  False\n",
              "2546     False        False     False  False  ...  False  False  False  False\n",
              "2547     False        False     False  False  ...  False  False  False  False\n",
              "2548     False        False     False  False  ...  False  False  False  False\n",
              "2549     False        False     False  False  ...  False  False  False  False\n",
              "\n",
              "[2550 rows x 17 columns]"
            ]
          },
          "metadata": {
            "tags": []
          },
          "execution_count": 21
        }
      ]
    },
    {
      "cell_type": "code",
      "metadata": {
        "id": "_D2J8NELgYE-",
        "colab_type": "code",
        "colab": {
          "base_uri": "https://localhost:8080/",
          "height": 323
        },
        "outputId": "4f0ac39e-8c4c-4f5e-853d-cb5e97c48ef8"
      },
      "source": [
        "df.isna().sum() # it is used to count all the missing values across all the coumns along axis=0\n",
        "# Here we can see that there are 6 missing values in the speaker_occupation column"
      ],
      "execution_count": 23,
      "outputs": [
        {
          "output_type": "execute_result",
          "data": {
            "text/plain": [
              "comments              0\n",
              "description           0\n",
              "duration              0\n",
              "event                 0\n",
              "film_date             0\n",
              "languages             0\n",
              "main_speaker          0\n",
              "name                  0\n",
              "num_speaker           0\n",
              "published_date        0\n",
              "ratings               0\n",
              "related_talks         0\n",
              "speaker_occupation    6\n",
              "tags                  0\n",
              "title                 0\n",
              "url                   0\n",
              "views                 0\n",
              "dtype: int64"
            ]
          },
          "metadata": {
            "tags": []
          },
          "execution_count": 23
        }
      ]
    },
    {
      "cell_type": "code",
      "metadata": {
        "id": "JLIenP87gypX",
        "colab_type": "code",
        "colab": {
          "base_uri": "https://localhost:8080/",
          "height": 238
        },
        "outputId": "f7b6524c-b4b7-4641-f6df-868600bf2a4b"
      },
      "source": [
        "# creating a new column\n",
        "df['comments_per_views']= df.comments/df.views\n",
        "print(df.head())\n",
        "print(df.columns)\n",
        "# As we can see a new column has been added at the last"
      ],
      "execution_count": 31,
      "outputs": [
        {
          "output_type": "stream",
          "text": [
            "   comments  ... comments_per_views\n",
            "0      4553  ...           0.000096\n",
            "1       265  ...           0.000083\n",
            "2       124  ...           0.000076\n",
            "3       200  ...           0.000118\n",
            "4       593  ...           0.000049\n",
            "\n",
            "[5 rows x 18 columns]\n",
            "Index(['comments', 'description', 'duration', 'event', 'film_date',\n",
            "       'languages', 'main_speaker', 'name', 'num_speaker', 'published_date',\n",
            "       'ratings', 'related_talks', 'speaker_occupation', 'tags', 'title',\n",
            "       'url', 'views', 'comments_per_views'],\n",
            "      dtype='object')\n"
          ],
          "name": "stdout"
        }
      ]
    },
    {
      "cell_type": "code",
      "metadata": {
        "id": "OFUaAByNjN0t",
        "colab_type": "code",
        "colab": {
          "base_uri": "https://localhost:8080/",
          "height": 598
        },
        "outputId": "70f461f2-c991-4ce1-d19e-182bfb8d39af"
      },
      "source": [
        "# Sorting the values\n",
        "df.sort_values('comments_per_views').tail() # by default it sorts in ascending order"
      ],
      "execution_count": 33,
      "outputs": [
        {
          "output_type": "execute_result",
          "data": {
            "text/html": [
              "<div>\n",
              "<style scoped>\n",
              "    .dataframe tbody tr th:only-of-type {\n",
              "        vertical-align: middle;\n",
              "    }\n",
              "\n",
              "    .dataframe tbody tr th {\n",
              "        vertical-align: top;\n",
              "    }\n",
              "\n",
              "    .dataframe thead th {\n",
              "        text-align: right;\n",
              "    }\n",
              "</style>\n",
              "<table border=\"1\" class=\"dataframe\">\n",
              "  <thead>\n",
              "    <tr style=\"text-align: right;\">\n",
              "      <th></th>\n",
              "      <th>comments</th>\n",
              "      <th>description</th>\n",
              "      <th>duration</th>\n",
              "      <th>event</th>\n",
              "      <th>film_date</th>\n",
              "      <th>languages</th>\n",
              "      <th>main_speaker</th>\n",
              "      <th>name</th>\n",
              "      <th>num_speaker</th>\n",
              "      <th>published_date</th>\n",
              "      <th>ratings</th>\n",
              "      <th>related_talks</th>\n",
              "      <th>speaker_occupation</th>\n",
              "      <th>tags</th>\n",
              "      <th>title</th>\n",
              "      <th>url</th>\n",
              "      <th>views</th>\n",
              "      <th>comments_per_views</th>\n",
              "    </tr>\n",
              "  </thead>\n",
              "  <tbody>\n",
              "    <tr>\n",
              "      <th>954</th>\n",
              "      <td>2492</td>\n",
              "      <td>Janet Echelman found her true voice as an arti...</td>\n",
              "      <td>566</td>\n",
              "      <td>TED2011</td>\n",
              "      <td>1299110400</td>\n",
              "      <td>35</td>\n",
              "      <td>Janet Echelman</td>\n",
              "      <td>Janet Echelman: Taking imagination seriously</td>\n",
              "      <td>1</td>\n",
              "      <td>1307489760</td>\n",
              "      <td>[{'id': 23, 'name': 'Jaw-dropping', 'count': 3...</td>\n",
              "      <td>[{'id': 453, 'hero': 'https://pe.tedcdn.com/im...</td>\n",
              "      <td>Artist</td>\n",
              "      <td>['art', 'cities', 'culture', 'data', 'design',...</td>\n",
              "      <td>Taking imagination seriously</td>\n",
              "      <td>https://www.ted.com/talks/janet_echelman</td>\n",
              "      <td>1832930</td>\n",
              "      <td>0.001360</td>\n",
              "    </tr>\n",
              "    <tr>\n",
              "      <th>694</th>\n",
              "      <td>1502</td>\n",
              "      <td>Filmmaker Sharmeen Obaid-Chinoy takes on a ter...</td>\n",
              "      <td>489</td>\n",
              "      <td>TED2010</td>\n",
              "      <td>1265760000</td>\n",
              "      <td>32</td>\n",
              "      <td>Sharmeen Obaid-Chinoy</td>\n",
              "      <td>Sharmeen Obaid-Chinoy: Inside a school for sui...</td>\n",
              "      <td>1</td>\n",
              "      <td>1274865960</td>\n",
              "      <td>[{'id': 23, 'name': 'Jaw-dropping', 'count': 3...</td>\n",
              "      <td>[{'id': 171, 'hero': 'https://pe.tedcdn.com/im...</td>\n",
              "      <td>Filmmaker</td>\n",
              "      <td>['TED Fellows', 'children', 'culture', 'film',...</td>\n",
              "      <td>Inside a school for suicide bombers</td>\n",
              "      <td>https://www.ted.com/talks/sharmeen_obaid_chino...</td>\n",
              "      <td>1057238</td>\n",
              "      <td>0.001421</td>\n",
              "    </tr>\n",
              "    <tr>\n",
              "      <th>96</th>\n",
              "      <td>6404</td>\n",
              "      <td>Richard Dawkins urges all atheists to openly s...</td>\n",
              "      <td>1750</td>\n",
              "      <td>TED2002</td>\n",
              "      <td>1012608000</td>\n",
              "      <td>42</td>\n",
              "      <td>Richard Dawkins</td>\n",
              "      <td>Richard Dawkins: Militant atheism</td>\n",
              "      <td>1</td>\n",
              "      <td>1176689220</td>\n",
              "      <td>[{'id': 3, 'name': 'Courageous', 'count': 3236...</td>\n",
              "      <td>[{'id': 86, 'hero': 'https://pe.tedcdn.com/ima...</td>\n",
              "      <td>Evolutionary biologist</td>\n",
              "      <td>['God', 'atheism', 'culture', 'religion', 'sci...</td>\n",
              "      <td>Militant atheism</td>\n",
              "      <td>https://www.ted.com/talks/richard_dawkins_on_m...</td>\n",
              "      <td>4374792</td>\n",
              "      <td>0.001464</td>\n",
              "    </tr>\n",
              "    <tr>\n",
              "      <th>803</th>\n",
              "      <td>834</td>\n",
              "      <td>David Bismark demos a new system for voting th...</td>\n",
              "      <td>422</td>\n",
              "      <td>TEDGlobal 2010</td>\n",
              "      <td>1279065600</td>\n",
              "      <td>36</td>\n",
              "      <td>David Bismark</td>\n",
              "      <td>David Bismark: E-voting without fraud</td>\n",
              "      <td>1</td>\n",
              "      <td>1288685640</td>\n",
              "      <td>[{'id': 25, 'name': 'OK', 'count': 111}, {'id'...</td>\n",
              "      <td>[{'id': 803, 'hero': 'https://pe.tedcdn.com/im...</td>\n",
              "      <td>Voting system designer</td>\n",
              "      <td>['culture', 'democracy', 'design', 'global iss...</td>\n",
              "      <td>E-voting without fraud</td>\n",
              "      <td>https://www.ted.com/talks/david_bismark_e_voti...</td>\n",
              "      <td>543551</td>\n",
              "      <td>0.001534</td>\n",
              "    </tr>\n",
              "    <tr>\n",
              "      <th>744</th>\n",
              "      <td>649</td>\n",
              "      <td>Hours before New York lawmakers rejected a key...</td>\n",
              "      <td>453</td>\n",
              "      <td>New York State Senate</td>\n",
              "      <td>1259712000</td>\n",
              "      <td>0</td>\n",
              "      <td>Diane J. Savino</td>\n",
              "      <td>Diane J. Savino: The case for same-sex marriage</td>\n",
              "      <td>1</td>\n",
              "      <td>1282062180</td>\n",
              "      <td>[{'id': 25, 'name': 'OK', 'count': 100}, {'id'...</td>\n",
              "      <td>[{'id': 217, 'hero': 'https://pe.tedcdn.com/im...</td>\n",
              "      <td>Senator</td>\n",
              "      <td>['God', 'LGBT', 'culture', 'government', 'law'...</td>\n",
              "      <td>The case for same-sex marriage</td>\n",
              "      <td>https://www.ted.com/talks/diane_j_savino_the_c...</td>\n",
              "      <td>292395</td>\n",
              "      <td>0.002220</td>\n",
              "    </tr>\n",
              "  </tbody>\n",
              "</table>\n",
              "</div>"
            ],
            "text/plain": [
              "     comments  ... comments_per_views\n",
              "954      2492  ...           0.001360\n",
              "694      1502  ...           0.001421\n",
              "96       6404  ...           0.001464\n",
              "803       834  ...           0.001534\n",
              "744       649  ...           0.002220\n",
              "\n",
              "[5 rows x 18 columns]"
            ]
          },
          "metadata": {
            "tags": []
          },
          "execution_count": 33
        }
      ]
    },
    {
      "cell_type": "markdown",
      "metadata": {
        "id": "seWD--cnpWB5",
        "colab_type": "text"
      },
      "source": [
        "#Which talks provoke the most online discussion"
      ]
    },
    {
      "cell_type": "code",
      "metadata": {
        "id": "uwx8XW8-pZpi",
        "colab_type": "code",
        "colab": {
          "base_uri": "https://localhost:8080/",
          "height": 598
        },
        "outputId": "6000e380-7c5f-41a2-b36e-be03fe00660d"
      },
      "source": [
        "# to find this we will calculate the views per comment\n",
        "df['views_per_comment'] = df.views / df.comments\n",
        "df.sort_values('views_per_comment').head()\n",
        "# AS we can see for the first row for every 450 views there is a comment which is highest of all"
      ],
      "execution_count": 36,
      "outputs": [
        {
          "output_type": "execute_result",
          "data": {
            "text/html": [
              "<div>\n",
              "<style scoped>\n",
              "    .dataframe tbody tr th:only-of-type {\n",
              "        vertical-align: middle;\n",
              "    }\n",
              "\n",
              "    .dataframe tbody tr th {\n",
              "        vertical-align: top;\n",
              "    }\n",
              "\n",
              "    .dataframe thead th {\n",
              "        text-align: right;\n",
              "    }\n",
              "</style>\n",
              "<table border=\"1\" class=\"dataframe\">\n",
              "  <thead>\n",
              "    <tr style=\"text-align: right;\">\n",
              "      <th></th>\n",
              "      <th>comments</th>\n",
              "      <th>description</th>\n",
              "      <th>duration</th>\n",
              "      <th>event</th>\n",
              "      <th>film_date</th>\n",
              "      <th>languages</th>\n",
              "      <th>main_speaker</th>\n",
              "      <th>name</th>\n",
              "      <th>num_speaker</th>\n",
              "      <th>published_date</th>\n",
              "      <th>ratings</th>\n",
              "      <th>related_talks</th>\n",
              "      <th>speaker_occupation</th>\n",
              "      <th>tags</th>\n",
              "      <th>title</th>\n",
              "      <th>url</th>\n",
              "      <th>views</th>\n",
              "      <th>comments_per_views</th>\n",
              "      <th>views_per_comment</th>\n",
              "    </tr>\n",
              "  </thead>\n",
              "  <tbody>\n",
              "    <tr>\n",
              "      <th>744</th>\n",
              "      <td>649</td>\n",
              "      <td>Hours before New York lawmakers rejected a key...</td>\n",
              "      <td>453</td>\n",
              "      <td>New York State Senate</td>\n",
              "      <td>1259712000</td>\n",
              "      <td>0</td>\n",
              "      <td>Diane J. Savino</td>\n",
              "      <td>Diane J. Savino: The case for same-sex marriage</td>\n",
              "      <td>1</td>\n",
              "      <td>1282062180</td>\n",
              "      <td>[{'id': 25, 'name': 'OK', 'count': 100}, {'id'...</td>\n",
              "      <td>[{'id': 217, 'hero': 'https://pe.tedcdn.com/im...</td>\n",
              "      <td>Senator</td>\n",
              "      <td>['God', 'LGBT', 'culture', 'government', 'law'...</td>\n",
              "      <td>The case for same-sex marriage</td>\n",
              "      <td>https://www.ted.com/talks/diane_j_savino_the_c...</td>\n",
              "      <td>292395</td>\n",
              "      <td>0.002220</td>\n",
              "      <td>450.531587</td>\n",
              "    </tr>\n",
              "    <tr>\n",
              "      <th>803</th>\n",
              "      <td>834</td>\n",
              "      <td>David Bismark demos a new system for voting th...</td>\n",
              "      <td>422</td>\n",
              "      <td>TEDGlobal 2010</td>\n",
              "      <td>1279065600</td>\n",
              "      <td>36</td>\n",
              "      <td>David Bismark</td>\n",
              "      <td>David Bismark: E-voting without fraud</td>\n",
              "      <td>1</td>\n",
              "      <td>1288685640</td>\n",
              "      <td>[{'id': 25, 'name': 'OK', 'count': 111}, {'id'...</td>\n",
              "      <td>[{'id': 803, 'hero': 'https://pe.tedcdn.com/im...</td>\n",
              "      <td>Voting system designer</td>\n",
              "      <td>['culture', 'democracy', 'design', 'global iss...</td>\n",
              "      <td>E-voting without fraud</td>\n",
              "      <td>https://www.ted.com/talks/david_bismark_e_voti...</td>\n",
              "      <td>543551</td>\n",
              "      <td>0.001534</td>\n",
              "      <td>651.739808</td>\n",
              "    </tr>\n",
              "    <tr>\n",
              "      <th>96</th>\n",
              "      <td>6404</td>\n",
              "      <td>Richard Dawkins urges all atheists to openly s...</td>\n",
              "      <td>1750</td>\n",
              "      <td>TED2002</td>\n",
              "      <td>1012608000</td>\n",
              "      <td>42</td>\n",
              "      <td>Richard Dawkins</td>\n",
              "      <td>Richard Dawkins: Militant atheism</td>\n",
              "      <td>1</td>\n",
              "      <td>1176689220</td>\n",
              "      <td>[{'id': 3, 'name': 'Courageous', 'count': 3236...</td>\n",
              "      <td>[{'id': 86, 'hero': 'https://pe.tedcdn.com/ima...</td>\n",
              "      <td>Evolutionary biologist</td>\n",
              "      <td>['God', 'atheism', 'culture', 'religion', 'sci...</td>\n",
              "      <td>Militant atheism</td>\n",
              "      <td>https://www.ted.com/talks/richard_dawkins_on_m...</td>\n",
              "      <td>4374792</td>\n",
              "      <td>0.001464</td>\n",
              "      <td>683.134291</td>\n",
              "    </tr>\n",
              "    <tr>\n",
              "      <th>694</th>\n",
              "      <td>1502</td>\n",
              "      <td>Filmmaker Sharmeen Obaid-Chinoy takes on a ter...</td>\n",
              "      <td>489</td>\n",
              "      <td>TED2010</td>\n",
              "      <td>1265760000</td>\n",
              "      <td>32</td>\n",
              "      <td>Sharmeen Obaid-Chinoy</td>\n",
              "      <td>Sharmeen Obaid-Chinoy: Inside a school for sui...</td>\n",
              "      <td>1</td>\n",
              "      <td>1274865960</td>\n",
              "      <td>[{'id': 23, 'name': 'Jaw-dropping', 'count': 3...</td>\n",
              "      <td>[{'id': 171, 'hero': 'https://pe.tedcdn.com/im...</td>\n",
              "      <td>Filmmaker</td>\n",
              "      <td>['TED Fellows', 'children', 'culture', 'film',...</td>\n",
              "      <td>Inside a school for suicide bombers</td>\n",
              "      <td>https://www.ted.com/talks/sharmeen_obaid_chino...</td>\n",
              "      <td>1057238</td>\n",
              "      <td>0.001421</td>\n",
              "      <td>703.886818</td>\n",
              "    </tr>\n",
              "    <tr>\n",
              "      <th>954</th>\n",
              "      <td>2492</td>\n",
              "      <td>Janet Echelman found her true voice as an arti...</td>\n",
              "      <td>566</td>\n",
              "      <td>TED2011</td>\n",
              "      <td>1299110400</td>\n",
              "      <td>35</td>\n",
              "      <td>Janet Echelman</td>\n",
              "      <td>Janet Echelman: Taking imagination seriously</td>\n",
              "      <td>1</td>\n",
              "      <td>1307489760</td>\n",
              "      <td>[{'id': 23, 'name': 'Jaw-dropping', 'count': 3...</td>\n",
              "      <td>[{'id': 453, 'hero': 'https://pe.tedcdn.com/im...</td>\n",
              "      <td>Artist</td>\n",
              "      <td>['art', 'cities', 'culture', 'data', 'design',...</td>\n",
              "      <td>Taking imagination seriously</td>\n",
              "      <td>https://www.ted.com/talks/janet_echelman</td>\n",
              "      <td>1832930</td>\n",
              "      <td>0.001360</td>\n",
              "      <td>735.525682</td>\n",
              "    </tr>\n",
              "  </tbody>\n",
              "</table>\n",
              "</div>"
            ],
            "text/plain": [
              "     comments  ... views_per_comment\n",
              "744       649  ...        450.531587\n",
              "803       834  ...        651.739808\n",
              "96       6404  ...        683.134291\n",
              "694      1502  ...        703.886818\n",
              "954      2492  ...        735.525682\n",
              "\n",
              "[5 rows x 19 columns]"
            ]
          },
          "metadata": {
            "tags": []
          },
          "execution_count": 36
        }
      ]
    },
    {
      "cell_type": "code",
      "metadata": {
        "id": "xHg63Bmkrseg",
        "colab_type": "code",
        "colab": {
          "base_uri": "https://localhost:8080/",
          "height": 282
        },
        "outputId": "7b4b872a-41a4-4345-cf21-0f2dd993be31"
      },
      "source": [
        "df.comments.plot()"
      ],
      "execution_count": 37,
      "outputs": [
        {
          "output_type": "execute_result",
          "data": {
            "text/plain": [
              "<matplotlib.axes._subplots.AxesSubplot at 0x7fa824c56a20>"
            ]
          },
          "metadata": {
            "tags": []
          },
          "execution_count": 37
        },
        {
          "output_type": "display_data",
          "data": {
            "image/png": "[encoded data removed]",
            "text/plain": [
              "<Figure size 432x288 with 1 Axes>"
            ]
          },
          "metadata": {
            "tags": [],
            "needs_background": "light"
          }
        }
      ]
    },
    {
      "cell_type": "code",
      "metadata": {
        "id": "IF_1yhs6sg1C",
        "colab_type": "code",
        "colab": {
          "base_uri": "https://localhost:8080/",
          "height": 34
        },
        "outputId": "6d037537-6824-4011-af37-6206cc12231c"
      },
      "source": [
        "#Filtering the above plot\n",
        "df[df.comments<1000].shape"
      ],
      "execution_count": 43,
      "outputs": [
        {
          "output_type": "execute_result",
          "data": {
            "text/plain": [
              "(2518, 19)"
            ]
          },
          "metadata": {
            "tags": []
          },
          "execution_count": 43
        }
      ]
    },
    {
      "cell_type": "code",
      "metadata": {
        "id": "hXYVW9PJsykt",
        "colab_type": "code",
        "colab": {
          "base_uri": "https://localhost:8080/",
          "height": 282
        },
        "outputId": "3d447155-97ca-4751-c56e-3e1859f4b97d"
      },
      "source": [
        "df[df.comments<1000].comments.plot(kind='hist')"
      ],
      "execution_count": 47,
      "outputs": [
        {
          "output_type": "execute_result",
          "data": {
            "text/plain": [
              "<matplotlib.axes._subplots.AxesSubplot at 0x7fa820d2ccf8>"
            ]
          },
          "metadata": {
            "tags": []
          },
          "execution_count": 47
        },
        {
          "output_type": "display_data",
          "data": {
            "image/png": "[encoded data removed]",
            "text/plain": [
              "<Figure size 432x288 with 1 Axes>"
            ]
          },
          "metadata": {
            "tags": [],
            "needs_background": "light"
          }
        }
      ]
    },
    {
      "cell_type": "code",
      "metadata": {
        "id": "9MAB6JV3tNwM",
        "colab_type": "code",
        "colab": {
          "base_uri": "https://localhost:8080/",
          "height": 282
        },
        "outputId": "2274eb18-42be-4913-a8b8-9fc7bea72607"
      },
      "source": [
        "# Another way to plot\n",
        "df.loc[df.comments<1000,'comments'].plot(kind='hist') # here comments inside the loc indictes that to use the comments column\n",
        "# we can pass a list of columns also"
      ],
      "execution_count": 52,
      "outputs": [
        {
          "output_type": "execute_result",
          "data": {
            "text/plain": [
              "<matplotlib.axes._subplots.AxesSubplot at 0x7fa82098cd30>"
            ]
          },
          "metadata": {
            "tags": []
          },
          "execution_count": 52
        },
        {
          "output_type": "display_data",
          "data": {
            "image/png": "[encoded data removed]",
            "text/plain": [
              "<Figure size 432x288 with 1 Axes>"
            ]
          },
          "metadata": {
            "tags": [],
            "needs_background": "light"
          }
        }
      ]
    },
    {
      "cell_type": "code",
      "metadata": {
        "id": "m8uNI9k0uahJ",
        "colab_type": "code",
        "colab": {
          "base_uri": "https://localhost:8080/",
          "height": 282
        },
        "outputId": "f243030f-bc54-4987-c5d2-19913421d479"
      },
      "source": [
        "df.loc[df.comments<1000,'comments'].plot(kind='hist',bins=20)"
      ],
      "execution_count": 55,
      "outputs": [
        {
          "output_type": "execute_result",
          "data": {
            "text/plain": [
              "<matplotlib.axes._subplots.AxesSubplot at 0x7fa8209f1b38>"
            ]
          },
          "metadata": {
            "tags": []
          },
          "execution_count": 55
        },
        {
          "output_type": "display_data",
          "data": {
            "image/png": "[encoded data removed]",
            "text/plain": [
              "<Figure size 432x288 with 1 Axes>"
            ]
          },
          "metadata": {
            "tags": [],
            "needs_background": "light"
          }
        }
      ]
    },
    {
      "cell_type": "markdown",
      "metadata": {
        "id": "qJhAaGi3vYDP",
        "colab_type": "text"
      },
      "source": [
        "#Plot the number of talks that took place each year"
      ]
    },
    {
      "cell_type": "code",
      "metadata": {
        "id": "-sNYIu9guN-X",
        "colab_type": "code",
        "colab": {
          "base_uri": "https://localhost:8080/",
          "height": 204
        },
        "outputId": "68544a5a-63d0-48e3-b05f-a278308c534c"
      },
      "source": [
        "df.event.sample(10)"
      ],
      "execution_count": 61,
      "outputs": [
        {
          "output_type": "execute_result",
          "data": {
            "text/plain": [
              "2395     TEDWomen 2016\n",
              "1048    TEDGlobal 2011\n",
              "1980           TED2015\n",
              "1371     TEDxCambridge\n",
              "1594           TED2013\n",
              "1744           TED2014\n",
              "1149       TEDxPhoenix\n",
              "1332    TEDGlobal 2012\n",
              "1842    TEDGlobal 2014\n",
              "309            TED2003\n",
              "Name: event, dtype: object"
            ]
          },
          "metadata": {
            "tags": []
          },
          "execution_count": 61
        }
      ]
    },
    {
      "cell_type": "code",
      "metadata": {
        "id": "Mw--fQ1y4vBf",
        "colab_type": "code",
        "colab": {
          "base_uri": "https://localhost:8080/",
          "height": 298
        },
        "outputId": "b5270411-ef94-4dc2-b703-a7ec5f39f646"
      },
      "source": [
        "df.film_date\n",
        "# we have to convert this unix timestamp to normal timestamp\n",
        "df['film_datetime']=pd.to_datetime(df.film_date,unit='s')\n",
        "df.film_datetime.dt.year\n",
        "df.film_datetime.dt.year.value_counts().sort_index() #it counts the total no of events yearwise and sorts them\n",
        "df.film_datetime.dt.year.value_counts().sort_index().plot(kind='bar')\n"
      ],
      "execution_count": 77,
      "outputs": [
        {
          "output_type": "execute_result",
          "data": {
            "text/plain": [
              "<matplotlib.axes._subplots.AxesSubplot at 0x7fa8208b6cf8>"
            ]
          },
          "metadata": {
            "tags": []
          },
          "execution_count": 77
        },
        {
          "output_type": "display_data",
          "data": {
            "image/png": "[encoded data removed]",
            "text/plain": [
              "<Figure size 432x288 with 1 Axes>"
            ]
          },
          "metadata": {
            "tags": [],
            "needs_background": "light"
          }
        }
      ]
    },
    {
      "cell_type": "code",
      "metadata": {
        "id": "WXc_uBng6bf2",
        "colab_type": "code",
        "colab": {
          "base_uri": "https://localhost:8080/",
          "height": 282
        },
        "outputId": "7ca47a4d-c964-48f8-f6b3-e8298f68452b"
      },
      "source": [
        "df.film_datetime.dt.year.value_counts().sort_index().plot()\n"
      ],
      "execution_count": 78,
      "outputs": [
        {
          "output_type": "execute_result",
          "data": {
            "text/plain": [
              "<matplotlib.axes._subplots.AxesSubplot at 0x7fa8206ea908>"
            ]
          },
          "metadata": {
            "tags": []
          },
          "execution_count": 78
        },
        {
          "output_type": "display_data",
          "data": {
            "image/png": "[encoded data removed]",
            "text/plain": [
              "<Figure size 432x288 with 1 Axes>"
            ]
          },
          "metadata": {
            "tags": [],
            "needs_background": "light"
          }
        }
      ]
    },
    {
      "cell_type": "markdown",
      "metadata": {
        "id": "SG3I3hL66rLf",
        "colab_type": "text"
      },
      "source": [
        "#What were the \"best\" events in TED history to attend?"
      ]
    },
    {
      "cell_type": "code",
      "metadata": {
        "id": "d5-L3Uuk6s0i",
        "colab_type": "code",
        "colab": {
          "base_uri": "https://localhost:8080/",
          "height": 623
        },
        "outputId": "69323c68-9dd6-43b9-8f57-a6866c01065f"
      },
      "source": [
        "df.sample(10)\n",
        "print(df.event.value_counts())\n",
        "df.loc[df.event == 'TED2014',['event','views','duration']]"
      ],
      "execution_count": 108,
      "outputs": [
        {
          "output_type": "stream",
          "text": [
            "TED2014           84\n",
            "TED2009           83\n",
            "TED2016           77\n",
            "TED2013           77\n",
            "TED2015           75\n",
            "                  ..\n",
            "TEDxO'Porto        1\n",
            "TEDxProvidence     1\n",
            "TEDxVictoria       1\n",
            "TEDxToulouse       1\n",
            "TEDxEQChCh         1\n",
            "Name: event, Length: 355, dtype: int64\n"
          ],
          "name": "stdout"
        },
        {
          "output_type": "execute_result",
          "data": {
            "text/html": [
              "<div>\n",
              "<style scoped>\n",
              "    .dataframe tbody tr th:only-of-type {\n",
              "        vertical-align: middle;\n",
              "    }\n",
              "\n",
              "    .dataframe tbody tr th {\n",
              "        vertical-align: top;\n",
              "    }\n",
              "\n",
              "    .dataframe thead th {\n",
              "        text-align: right;\n",
              "    }\n",
              "</style>\n",
              "<table border=\"1\" class=\"dataframe\">\n",
              "  <thead>\n",
              "    <tr style=\"text-align: right;\">\n",
              "      <th></th>\n",
              "      <th>event</th>\n",
              "      <th>views</th>\n",
              "      <th>duration</th>\n",
              "    </tr>\n",
              "  </thead>\n",
              "  <tbody>\n",
              "    <tr>\n",
              "      <th>1701</th>\n",
              "      <td>TED2014</td>\n",
              "      <td>4040280</td>\n",
              "      <td>2102</td>\n",
              "    </tr>\n",
              "    <tr>\n",
              "      <th>1702</th>\n",
              "      <td>TED2014</td>\n",
              "      <td>4790701</td>\n",
              "      <td>1102</td>\n",
              "    </tr>\n",
              "    <tr>\n",
              "      <th>1703</th>\n",
              "      <td>TED2014</td>\n",
              "      <td>760225</td>\n",
              "      <td>971</td>\n",
              "    </tr>\n",
              "    <tr>\n",
              "      <th>1704</th>\n",
              "      <td>TED2014</td>\n",
              "      <td>1191342</td>\n",
              "      <td>2010</td>\n",
              "    </tr>\n",
              "    <tr>\n",
              "      <th>1705</th>\n",
              "      <td>TED2014</td>\n",
              "      <td>2293465</td>\n",
              "      <td>1410</td>\n",
              "    </tr>\n",
              "    <tr>\n",
              "      <th>...</th>\n",
              "      <td>...</td>\n",
              "      <td>...</td>\n",
              "      <td>...</td>\n",
              "    </tr>\n",
              "    <tr>\n",
              "      <th>1892</th>\n",
              "      <td>TED2014</td>\n",
              "      <td>1301734</td>\n",
              "      <td>277</td>\n",
              "    </tr>\n",
              "    <tr>\n",
              "      <th>1921</th>\n",
              "      <td>TED2014</td>\n",
              "      <td>1566854</td>\n",
              "      <td>1044</td>\n",
              "    </tr>\n",
              "    <tr>\n",
              "      <th>1925</th>\n",
              "      <td>TED2014</td>\n",
              "      <td>1981129</td>\n",
              "      <td>791</td>\n",
              "    </tr>\n",
              "    <tr>\n",
              "      <th>1932</th>\n",
              "      <td>TED2014</td>\n",
              "      <td>2780484</td>\n",
              "      <td>1085</td>\n",
              "    </tr>\n",
              "    <tr>\n",
              "      <th>2041</th>\n",
              "      <td>TED2014</td>\n",
              "      <td>2527133</td>\n",
              "      <td>482</td>\n",
              "    </tr>\n",
              "  </tbody>\n",
              "</table>\n",
              "<p>84 rows × 3 columns</p>\n",
              "</div>"
            ],
            "text/plain": [
              "        event    views  duration\n",
              "1701  TED2014  4040280      2102\n",
              "1702  TED2014  4790701      1102\n",
              "1703  TED2014   760225       971\n",
              "1704  TED2014  1191342      2010\n",
              "1705  TED2014  2293465      1410\n",
              "...       ...      ...       ...\n",
              "1892  TED2014  1301734       277\n",
              "1921  TED2014  1566854      1044\n",
              "1925  TED2014  1981129       791\n",
              "1932  TED2014  2780484      1085\n",
              "2041  TED2014  2527133       482\n",
              "\n",
              "[84 rows x 3 columns]"
            ]
          },
          "metadata": {
            "tags": []
          },
          "execution_count": 108
        }
      ]
    },
    {
      "cell_type": "code",
      "metadata": {
        "id": "vaFQzW-U-W9n",
        "colab_type": "code",
        "colab": {
          "base_uri": "https://localhost:8080/",
          "height": 136
        },
        "outputId": "413a751e-caca-4e24-991e-a302c14479de"
      },
      "source": [
        "df.groupby('event').views.mean().sort_values().tail()"
      ],
      "execution_count": 123,
      "outputs": [
        {
          "output_type": "execute_result",
          "data": {
            "text/plain": [
              "event\n",
              "TEDxNorrkoping        6569493.0\n",
              "TEDxCreativeCoast     8444981.0\n",
              "TEDxBloomington       9484259.5\n",
              "TEDxHouston          16140250.5\n",
              "TEDxPuget Sound      34309432.0\n",
              "Name: views, dtype: float64"
            ]
          },
          "metadata": {
            "tags": []
          },
          "execution_count": 123
        }
      ]
    },
    {
      "cell_type": "code",
      "metadata": {
        "id": "VXl22N74_DUe",
        "colab_type": "code",
        "colab": {
          "base_uri": "https://localhost:8080/",
          "height": 69
        },
        "outputId": "5a091d3c-382f-4ebf-cd36-20abe15bcebc"
      },
      "source": [
        "df[df.event =='TEDxPuget Sound']"
      ],
      "execution_count": 133,
      "outputs": [
        {
          "output_type": "execute_result",
          "data": {
            "text/html": [
              "<div>\n",
              "<style scoped>\n",
              "    .dataframe tbody tr th:only-of-type {\n",
              "        vertical-align: middle;\n",
              "    }\n",
              "\n",
              "    .dataframe tbody tr th {\n",
              "        vertical-align: top;\n",
              "    }\n",
              "\n",
              "    .dataframe thead th {\n",
              "        text-align: right;\n",
              "    }\n",
              "</style>\n",
              "<table border=\"1\" class=\"dataframe\">\n",
              "  <thead>\n",
              "    <tr style=\"text-align: right;\">\n",
              "      <th></th>\n",
              "      <th>comments</th>\n",
              "      <th>description</th>\n",
              "      <th>duration</th>\n",
              "      <th>event</th>\n",
              "      <th>film_date</th>\n",
              "      <th>languages</th>\n",
              "      <th>main_speaker</th>\n",
              "      <th>name</th>\n",
              "      <th>num_speaker</th>\n",
              "      <th>published_date</th>\n",
              "      <th>ratings</th>\n",
              "      <th>related_talks</th>\n",
              "      <th>speaker_occupation</th>\n",
              "      <th>tags</th>\n",
              "      <th>title</th>\n",
              "      <th>url</th>\n",
              "      <th>views</th>\n",
              "      <th>comments_per_views</th>\n",
              "      <th>views_per_comment</th>\n",
              "      <th>film_datetime</th>\n",
              "    </tr>\n",
              "  </thead>\n",
              "  <tbody>\n",
              "  </tbody>\n",
              "</table>\n",
              "</div>"
            ],
            "text/plain": [
              "Empty DataFrame\n",
              "Columns: [comments, description, duration, event, film_date, languages, main_speaker, name, num_speaker, published_date, ratings, related_talks, speaker_occupation, tags, title, url, views, comments_per_views, views_per_comment, film_datetime]\n",
              "Index: []"
            ]
          },
          "metadata": {
            "tags": []
          },
          "execution_count": 133
        }
      ]
    }
  ]
}