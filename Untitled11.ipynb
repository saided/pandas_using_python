{
  "nbformat": 4,
  "nbformat_minor": 0,
  "metadata": {
    "colab": {
      "name": "Untitled11.ipynb",
      "provenance": [],
      "authorship_tag": "ABX9TyPQ4uernkm9wsVmmUe56y97",
      "include_colab_link": true
    },
    "kernelspec": {
      "name": "python3",
      "display_name": "Python 3"
    }
  },
  "cells": [
    {
      "cell_type": "markdown",
      "metadata": {
        "id": "view-in-github",
        "colab_type": "text"
      },
      "source": [
        "<a href=\"https://colab.research.google.com/github/saided/pandas_using_python/blob/master/Untitled11.ipynb\" target=\"_parent\"><img src=\"https://colab.research.google.com/assets/colab-badge.svg\" alt=\"Open In Colab\"/></a>"
      ]
    },
    {
      "cell_type": "code",
      "metadata": {
        "id": "D3vwVYXWBHnu",
        "colab_type": "code",
        "colab": {
          "base_uri": "https://localhost:8080/",
          "height": 136
        },
        "outputId": "bcf6e367-77b8-4ee5-b200-26bb8b7dbf59"
      },
      "source": [
        "import numpy as np\n",
        "\n",
        "t = int(input())\n",
        "for i in range(t):\n",
        "  N = int(input())\n",
        "  l = [int(x) for x in (input().split())]\n",
        "  a=[]\n",
        "  i= 0\n",
        "  for x in range(N):\n",
        "    if l[x] == 1:\n",
        "      a.append(x)\n",
        "  #print(a)\n",
        "  q = abs(np.diff(a))\n",
        "  for k in q:\n",
        "    if k<6:\n",
        "      print('NO')\n",
        "      break\n",
        "    else:\n",
        "      i+=1\n",
        "  if i==len(q):\n",
        "    print('YES')\n",
        "\n",
        "  \n"
      ],
      "execution_count": 72,
      "outputs": [
        {
          "output_type": "stream",
          "text": [
            "2\n",
            "7\n",
            "1 0 0 0 0 0 1\n",
            "YES\n",
            "11\n",
            "0 1 0 0 0 0 0 1 0 0 1\n",
            "NO\n"
          ],
          "name": "stdout"
        }
      ]
    },
    {
      "cell_type": "code",
      "metadata": {
        "id": "er6gqcsVsple",
        "colab_type": "code",
        "colab": {}
      },
      "source": [
        "while j<len(a):\n",
        "    if a[j]-a[i]>=6:\n",
        "      j+=1\n",
        "      i+=1\n",
        "      if j == len(a):\n",
        "        print('Yes')\n",
        "        \n",
        "    else:\n",
        "      print('No')\n",
        "      break\n"
      ],
      "execution_count": 0,
      "outputs": []
    },
    {
      "cell_type": "code",
      "metadata": {
        "id": "vOmSyK58dTK2",
        "colab_type": "code",
        "colab": {
          "base_uri": "https://localhost:8080/",
          "height": 51
        },
        "outputId": "8e9f2a5e-dfab-43e0-c599-52115fbff036"
      },
      "source": [
        "import numpy as np\n",
        "\n",
        "l = [0,1,0,0,0,0,0,1,0,0,1]\n",
        "q = abs(np.diff(l))\n",
        "print(q)\n",
        "N =len(l)\n",
        "flag = True\n",
        "for i in range(N):\n",
        "    if l[i]==1:\n",
        "      for j in range(i+1,N):\n",
        "        if l[j]==1 and j-i<6:\n",
        "          flag = False\n",
        "    #print(flag)\n",
        "if flag:\n",
        "  print('Yes')\n",
        "else:\n",
        "  print('No')\n",
        "    \n"
      ],
      "execution_count": 69,
      "outputs": [
        {
          "output_type": "stream",
          "text": [
            "[1 1 0 0 0 0 1 1 0 1]\n",
            "No\n"
          ],
          "name": "stdout"
        }
      ]
    },
    {
      "cell_type": "code",
      "metadata": {
        "id": "vf2eRY0XkzSz",
        "colab_type": "code",
        "colab": {
          "base_uri": "https://localhost:8080/",
          "height": 187
        },
        "outputId": "3d07eb45-9786-4fc4-d6f7-3ffcf34af0e1"
      },
      "source": [
        "t = int(input())\n",
        "for i in range(t):\n",
        "  N = int(input())\n",
        "  l = [int(x) for x in (input().split())]\n",
        "  N =len(l)\n",
        "  flag = True\n",
        "  for i in range(N):\n",
        "      if l[i]==1:\n",
        "        for j in range(i+1,N):\n",
        "          if l[j]==1 and j-i<6:\n",
        "            flag = False\n",
        "    #print(flag)\n",
        "  if flag:\n",
        "    print('Yes')\n",
        "  else:\n",
        "    print('No')\n"
      ],
      "execution_count": 67,
      "outputs": [
        {
          "output_type": "stream",
          "text": [
            "3\n",
            "3\n",
            "1 0 1\n",
            "No\n",
            "7\n",
            "1 0 0 0 0 0 1\n",
            "Yes\n",
            "11\n",
            "0 1 0 0 0 0 0 1 0 0 1\n",
            "No\n"
          ],
          "name": "stdout"
        }
      ]
    },
    {
      "cell_type": "code",
      "metadata": {
        "id": "Re-f-cvi2lBR",
        "colab_type": "code",
        "colab": {
          "base_uri": "https://localhost:8080/",
          "height": 102
        },
        "outputId": "665130ee-05d2-4848-b97f-fc37a2912cf5"
      },
      "source": [
        "import math\n",
        "t = int(input())\n",
        "for i in range(t):\n",
        "  l = [int(x) for x in (input().split())]\n",
        "  finish_bolt = l[0]\n",
        "  distancetoBolt = l[1]\n",
        "  tiger_acc = l[2]\n",
        "  bolt_speed = l[3]\n",
        "  td = finish_bolt + distancetoBolt\n",
        "  bolt_time = finish_bolt/bolt_speed\n",
        "  tiger_time = math.sqrt((2*td)/tiger_acc)\n",
        "  if bolt_time < tiger_time:\n",
        "    print('Bolt')\n",
        "  else:\n",
        "    print('Tiger')\n",
        "  "
      ],
      "execution_count": 76,
      "outputs": [
        {
          "output_type": "stream",
          "text": [
            "2\n",
            "10 100 10 10\n",
            "Bolt\n",
            "100 10 5 10\n",
            "Tiger\n"
          ],
          "name": "stdout"
        }
      ]
    }
  ]
}