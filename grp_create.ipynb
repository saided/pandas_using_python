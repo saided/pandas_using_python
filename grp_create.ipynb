{
  "nbformat": 4,
  "nbformat_minor": 0,
  "metadata": {
    "colab": {
      "name": "Untitled43.ipynb",
      "provenance": [],
      "collapsed_sections": [],
      "authorship_tag": "ABX9TyPmLUo6U9PiFNgCQwLIOKr2",
      "include_colab_link": true
    },
    "kernelspec": {
      "name": "python3",
      "display_name": "Python 3"
    }
  },
  "cells": [
    {
      "cell_type": "markdown",
      "metadata": {
        "id": "view-in-github",
        "colab_type": "text"
      },
      "source": [
        "<a href=\"https://colab.research.google.com/github/saided/pandas_using_python/blob/master/grp_create.ipynb\" target=\"_parent\"><img src=\"https://colab.research.google.com/assets/colab-badge.svg\" alt=\"Open In Colab\"/></a>"
      ]
    },
    {
      "cell_type": "code",
      "metadata": {
        "id": "ObrgCSNoJKEq",
        "colab_type": "code",
        "colab": {}
      },
      "source": [
        "import re\n",
        "import requests\n",
        "import xlrd\n",
        "import openpyxl\n",
        "from collections import ChainMap\n",
        "from requests import Timeout"
      ],
      "execution_count": null,
      "outputs": []
    },
    {
      "cell_type": "code",
      "metadata": {
        "id": "cOQZqHx3RDvL",
        "colab_type": "code",
        "colab": {
          "base_uri": "https://localhost:8080/",
          "height": 34
        },
        "outputId": "48863fc1-10d9-4956-9db8-5af6012dcf84"
      },
      "source": [
        "payload={'page':2,'count':25}\n",
        "r = requests.get('https://httpbin.org/get', params=payload)\n",
        "#print(r.text)\n",
        "#print(r.url)\n",
        "print(r.headers['Content-Type'])"
      ],
      "execution_count": null,
      "outputs": [
        {
          "output_type": "stream",
          "text": [
            "application/json\n"
          ],
          "name": "stdout"
        }
      ]
    },
    {
      "cell_type": "code",
      "metadata": {
        "id": "SqQRCWsYSxYq",
        "colab_type": "code",
        "colab": {
          "base_uri": "https://localhost:8080/",
          "height": 34
        },
        "outputId": "c551f8eb-158a-4d09-aeba-843390c2b220"
      },
      "source": [
        "payload={'username':'sai','password':'test123'}\n",
        "r = requests.post('https://httpbin.org/post', data=payload)\n",
        "#print(r.text)\n",
        "r_dict = r.json()\n",
        "#print(r.json()) # get response in a dict format\n",
        "print(r_dict['form']['password'])\n",
        "\n"
      ],
      "execution_count": null,
      "outputs": [
        {
          "output_type": "stream",
          "text": [
            "test123\n"
          ],
          "name": "stdout"
        }
      ]
    },
    {
      "cell_type": "code",
      "metadata": {
        "id": "TmGgM3YvUOba",
        "colab_type": "code",
        "colab": {
          "base_uri": "https://localhost:8080/",
          "height": 102
        },
        "outputId": "2cc029d8-1593-46d9-b14e-72c411ee0634"
      },
      "source": [
        "#basic-auth/{user}/{pwd}\n",
        "r = requests.get('https://httpbin.org/basic-auth/sai/test123',auth=('sai','test123'))\n",
        "print(r.text)\n"
      ],
      "execution_count": null,
      "outputs": [
        {
          "output_type": "stream",
          "text": [
            "{\n",
            "  \"authenticated\": true, \n",
            "  \"user\": \"sai\"\n",
            "}\n",
            "\n"
          ],
          "name": "stdout"
        }
      ]
    },
    {
      "cell_type": "code",
      "metadata": {
        "id": "OJhWuZODU0fe",
        "colab_type": "code",
        "colab": {
          "base_uri": "https://localhost:8080/",
          "height": 54
        },
        "outputId": "14f4f4bb-d166-47e6-ecac-a303887b231b"
      },
      "source": [
        " url = \"https://api.cloud.jiosurveillance.com/auth/oauth/token\"\n",
        " r = requests.get(url)\n",
        "print(r.headers)\n",
        "#print(r.json())"
      ],
      "execution_count": 23,
      "outputs": [
        {
          "output_type": "stream",
          "text": [
            "{'Content-Type': 'text/html; charset=UTF-8', 'Server': 'IVIDEON', 'access-control-allow-headers': 'Access-Control-Allow-Headers, Origin, Accept, X-Requested-With, Content-Type, Access-Control-Request-Method, Access-Control-Request-Headers, Authorization', 'access-control-allow-origin': '*', 'access-control-allow-methods': 'GET, POST, OPTIONS', 'x-service': 'auth-server', 'x-node': 'azprivvsapp08, azdeivvsfro02', 'Date': 'Thu, 23 Jul 2020 15:46:19 GMT', 'Content-Length': '87'}\n"
          ],
          "name": "stdout"
        }
      ]
    },
    {
      "cell_type": "code",
      "metadata": {
        "id": "7e7hLBfAXfel",
        "colab_type": "code",
        "colab": {
          "base_uri": "https://localhost:8080/",
          "height": 68
        },
        "outputId": "42cef633-edce-4f53-f0ff-0814bf504b77"
      },
      "source": [
        "def root_group():\n",
        "    url = \"https://api.cloud.jiosurveillance.com/auth/oauth/token\"\n",
        "    username = input(\"Enter account ID\")\n",
        "    #print(username)\n",
        "    password = input(\"Enter account password\")\n",
        "    #print(password)\n",
        "\n",
        "    payload = 'client_secret=8b078e3496893ae3b9d7ccb83a6befdb&client_id=firmware-upgrade-job&grant_type=password&username={}&password={}'.format(\n",
        "    username, password)\n",
        "    headers = {\n",
        "        'Content-Type': 'application/x-www-form-urlencoded'\n",
        "            }\n",
        "    try:\n",
        "        response = requests.request(\"POST\", url, headers=headers, data=payload, timeout=6)\n",
        "        #print(response.text.encode('utf8'))\n",
        "        #print(response.json())\n",
        "    except: Timeout\n",
        "\n",
        "    r = response.json()\n",
        "    access_token = r['access_token']\n",
        "    token = str(access_token)\n",
        "    #print(token)\n",
        "    own_id = r['owner_id']\n",
        "    own_id = str(own_id)\n",
        "    #print(own_id)\n",
        "\n",
        "    url = \"https://api.cloud.jiosurveillance.com/folders?op=FIND\"\n",
        "\n",
        "    payload = \"{\\n\\t\\\"user\\\" : \\\"%s\\\"\\n}\" % (own_id)\n",
        "    headers = {\n",
        "    'Content-Type': 'application/json',\n",
        "    'Authorization': 'Bearer %s' % (token)\n",
        "    }\n",
        "    #print(payload)\n",
        "    response = requests.request(\"POST\", url, headers=headers, data=payload, timeout=6)\n",
        "    #print(response.text.encode('utf8')) # it gives total info about groups present in that  account\n",
        "    #print(response.url)\n",
        "\n",
        "    own_response = response.json()\n",
        "    b = own_response['result']\n",
        "    #print(b)\n",
        "    c = b['items']\n",
        "    #print(c[0])\n",
        "    #print(len(c))\n",
        "    #print('Total no.of existing groups in the account :',len(c)-1)\n",
        "    mast_grp_id = c[0]['id']\n",
        "    #print(mast_grp_id,type(mast_grp_id))\n",
        "    if len(c)==0:\n",
        "      print('something went wrong')\n",
        "    return(mast_grp_id,own_id,token)\n",
        "\n",
        "print(root_group())  "
      ],
      "execution_count": 90,
      "outputs": [
        {
          "output_type": "stream",
          "text": [
            "Enter account IDsaitaddi199733@gmail.com\n",
            "Enter account passwordJioril123\n",
            "('801-K0FbVNA2tX', '801000010157', '801-Ufd44d24e-4a68-4b57-b478-10ded49e4e0e')\n"
          ],
          "name": "stdout"
        }
      ]
    },
    {
      "cell_type": "code",
      "metadata": {
        "id": "QFQ7BTqT_FU-",
        "colab_type": "code",
        "colab": {}
      },
      "source": [
        "def create_state(cellvalue,grp_id,token):\n",
        "    url = \"https://api.cloud.jiosurveillance.com/folders?op=CREATE\"\n",
        "\n",
        "    payload = '{\\n\\t\\\"parent_folder\\\" : \\\"' + grp_id + '\\\",\\n\\t\\\"name\\\" : \\\"' + cellvalue + \"\\\"\\n}\"\n",
        "    print(payload)\n",
        "    headers = {\n",
        "        'Content-Type': 'application/json',\n",
        "        'Authorization': 'Bearer %s' % token\n",
        "    }\n",
        "\n",
        "    response = requests.request(\"POST\", url, headers=headers, data=payload, timeout=6)\n",
        "    print(response.text.encode('utf8'))\n",
        "\n",
        "    return 1\n"
      ],
      "execution_count": 99,
      "outputs": []
    },
    {
      "cell_type": "code",
      "metadata": {
        "id": "Y_L6tl2-KZpX",
        "colab_type": "code",
        "colab": {}
      },
      "source": [
        "def get_folder_id(cell_content, token, own_id, master_id):\n",
        "    url = \"https://api.cloud.jiosurveillance.com/folders?op=FIND\"\n",
        "\n",
        "    payload = \"{\\n\\t\\\"user\\\" : \\\"\" + own_id + \"\\\"\\n}\"\n",
        "    print(\"Payload for get_folder_id is\" + payload)\n",
        "    headers = {\n",
        "      'Content-Type': 'application/json',\n",
        "      'Authorization': 'Bearer %s' % token\n",
        "    }\n",
        "\n",
        "    response = requests.request(\"POST\", url, headers=headers, data = payload, timeout=6)\n",
        "\n",
        "    print(response.text.encode('utf8'))\n",
        "    get_folder_id_response = response.json()"
      ],
      "execution_count": null,
      "outputs": []
    },
    {
      "cell_type": "code",
      "metadata": {
        "id": "TPv8wlbK7MRa",
        "colab_type": "code",
        "colab": {
          "base_uri": "https://localhost:8080/",
          "height": 68
        },
        "outputId": "e16915d8-ef00-4f8d-bcbe-8175987823a5"
      },
      "source": [
        "is_root_grp = list(root_group())\n",
        "print(len(is_root_grp))\n",
        "mast_grp_id = is_root_grp[0]\n",
        "own_id = is_root_grp[1]\n",
        "token = is_root_grp[2]\n",
        "#print(token,type(token))"
      ],
      "execution_count": 93,
      "outputs": [
        {
          "output_type": "stream",
          "text": [
            "Enter account IDsaitaddi199733@gmail.com\n",
            "Enter account passwordJioril123\n",
            "3\n"
          ],
          "name": "stdout"
        }
      ]
    },
    {
      "cell_type": "code",
      "metadata": {
        "id": "FyHZeZwIy8n2",
        "colab_type": "code",
        "colab": {
          "base_uri": "https://localhost:8080/",
          "height": 462
        },
        "outputId": "09316aa2-68d8-4388-8402-0c27f1c0facb"
      },
      "source": [
        "North=0\n",
        "theFile = openpyxl.load_workbook('/content/grp_test.xlsx')\n",
        "allSheetNames = theFile.sheetnames\n",
        "#print(allSheetNames)\n",
        "print(\"All sheet names {} \" .format(allSheetNames))\n",
        "for sh in xlrd.open_workbook('/content/grp_test.xlsx').sheets():\n",
        "  print('Total no of rows',sh.nrows)\n",
        "  print('Total no of columns',sh.ncols)\n",
        "  dict={}\n",
        "  for row in range(1, sh.nrows):\n",
        "    print(row)\n",
        "    cellcontent=[]\n",
        "    for col in range(sh.ncols):\n",
        "      mycell = sh.cell(row,col).value\n",
        "      #print(mycell)\n",
        "      #cellcontent.append(mycell)\n",
        "      #dict[row]= cellcontent\n",
        "    #print(cellcontent)\n",
        "    #print(dict)\n",
        "      if (len(is_root_grp) !=0 and col==1):\n",
        "        if (mycell=='North' and North==0):\n",
        "          create_state(mycell,mast_grp_id,token)\n",
        "          North+=1\n",
        "        else:\n",
        "          print(\"Repeated\")\n",
        "          break\n",
        "northList = []\n",
        "  for row in range(1, sh.nrows):\n",
        "    for col in range(1, 3):\n",
        "      mycell = sh.cell(row,col).value\n",
        "      if mycell=='North':\n",
        "        statecell = sh.cell(row, col+1)\n",
        "        stateCell.value = str(stateCell.value)\n",
        "        if stateCell.value.lower() in [name.lower() for name in northList]:\n",
        "          break\n",
        "        else:\n",
        "          northList.append(stateCell.value)\n",
        "          print(\"NorthList contains following list\" + str(northList))\n",
        "          folder_id = get_folder_id(cell_content, token, own_id, root_grp)\n",
        "          print(\"Received folder id for NORTH is\" + folder_id[0])\n",
        "          #check_state_present = check_state_created(cell_content, folder_id)\n",
        "          create_folder(folder_id[0], stateCell.value, token)\n",
        "\n",
        "\n"
      ],
      "execution_count": 100,
      "outputs": [
        {
          "output_type": "stream",
          "text": [
            "All sheet names ['Sheet1'] \n",
            "Total no of rows 10\n",
            "Total no of columns 9\n",
            "1\n",
            "{\n",
            "\t\"parent_folder\" : \"801-K0FbVNA2tX\",\n",
            "\t\"name\" : \"North\"\n",
            "}\n",
            "b'{\"success\": true, \"result\": {\"id\": \"801-IDWHRr52OC\", \"name\": \"North\", \"subfolders\": [], \"cameras\": [], \"owner_id\": \"801000010157\", \"owner_name\": \"saitaddi199733@gmail.com\", \"root\": false, \"permissions\": [\"admin\", \"live\", \"archive\", \"ptz\", \"events\", \"faces_read\", \"faces_add\", \"faces_admin\"], \"geo\": null}}'\n",
            "2\n",
            "Repeated\n",
            "3\n",
            "Repeated\n",
            "4\n",
            "Repeated\n",
            "5\n",
            "Repeated\n",
            "6\n",
            "Repeated\n",
            "7\n",
            "Repeated\n",
            "8\n",
            "Repeated\n",
            "9\n",
            "Repeated\n"
          ],
          "name": "stdout"
        }
      ]
    }
  ]
}